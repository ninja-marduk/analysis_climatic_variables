{
  "cells": [
    {
      "cell_type": "markdown",
      "metadata": {
        "id": "5FhXBAF-Nv5f"
      },
      "source": [
        "# 1-2023Q2 - Monthly Rainfall - Dataset IDEAM 2022"
      ]
    },
    {
      "cell_type": "markdown",
      "metadata": {
        "id": "tQpWr-x8ODKQ"
      },
      "source": [
        "Presented by:\n",
        "\n",
        "Manuel Ricardo Perez manuelricardo.perez@uptc.edu.co"
      ]
    },
    {
      "cell_type": "markdown",
      "metadata": {
        "id": "hnaxaKCnOJnf"
      },
      "source": [
        "# 1. Load Data"
      ]
    },
    {
      "cell_type": "code",
      "execution_count": 1,
      "metadata": {
        "id": "CYGa2WYNP0JG"
      },
      "outputs": [],
      "source": [
        "import pandas as pd"
      ]
    },
    {
      "cell_type": "code",
      "execution_count": 2,
      "metadata": {
        "colab": {
          "base_uri": "https://localhost:8080/"
        },
        "id": "tuQFVrnoyr60",
        "outputId": "1d7148d4-b64e-4c32-9c32-42790f3952cf"
      },
      "outputs": [
        {
          "output_type": "stream",
          "name": "stdout",
          "text": [
            "Mounted at /content/drive\n"
          ]
        }
      ],
      "source": [
        "from google.colab import drive\n",
        "drive.mount('/content/drive')"
      ]
    },
    {
      "cell_type": "code",
      "execution_count": 3,
      "metadata": {
        "id": "ychm01y6PiJa"
      },
      "outputs": [],
      "source": [
        "import io\n",
        "wind_speed = pd.read_csv('/content/drive/MyDrive/phd/deployment proyect/phd/Rainfall Prediction UPTC/Data/Stations Boyacá 2022/datos/velocidad_viento.csv')\n",
        "\n",
        "precipitation = pd.read_csv('/content/drive/MyDrive/phd/deployment proyect/phd/Rainfall Prediction UPTC/Data/Stations Boyacá 2022/datos/precipitacion.csv')\n",
        "\n",
        "precipitation_open_data = pd.read_csv('/content/drive/MyDrive/phd/deployment proyect/phd/Rainfall Prediction UPTC/Data/Stations Boyacá 2022/datos/precipitaciones.csv')\n",
        "\n",
        "# Alone station 24035430 - TUNGUAVITA - AUT\n",
        "precipitation_open_data = precipitation_open_data.loc[precipitation_open_data['CodigoEstacion'] == 24035430]\n",
        "\n",
        "humidity = pd.read_csv('/content/drive/MyDrive/phd/deployment proyect/phd/Rainfall Prediction UPTC/Data/Stations Boyacá 2022/datos/humedad.csv')\n",
        "temmin = pd.read_csv('/content/drive/MyDrive/phd/deployment proyect/phd/Rainfall Prediction UPTC/Data/Stations Boyacá 2022/datos/temmin.csv')\n",
        "temmax = pd.read_csv('/content/drive/MyDrive/phd/deployment proyect/phd/Rainfall Prediction UPTC/Data/Stations Boyacá 2022/datos/temmax.csv')\n",
        "\n",
        "sun2001 = pd.read_csv('/content/drive/MyDrive/phd/deployment proyect/phd/Rainfall Prediction UPTC/Data/Stations Boyacá 2022/datos/sol2001.csv')\n",
        "sun2002 = pd.read_csv('/content/drive/MyDrive/phd/deployment proyect/phd/Rainfall Prediction UPTC/Data/Stations Boyacá 2022/datos/sol2002.csv')\n",
        "sun2003 = pd.read_csv('/content/drive/MyDrive/phd/deployment proyect/phd/Rainfall Prediction UPTC/Data/Stations Boyacá 2022/datos/sol2003.csv')\n",
        "sun2004 = pd.read_csv('/content/drive/MyDrive/phd/deployment proyect/phd/Rainfall Prediction UPTC/Data/Stations Boyacá 2022/datos/sol2004.csv')\n",
        "sun2005 = pd.read_csv('/content/drive/MyDrive/phd/deployment proyect/phd/Rainfall Prediction UPTC/Data/Stations Boyacá 2022/datos/sol2005.csv')\n",
        "sun2006 = pd.read_csv('/content/drive/MyDrive/phd/deployment proyect/phd/Rainfall Prediction UPTC/Data/Stations Boyacá 2022/datos/sol2006.csv')\n",
        "sun2007 = pd.read_csv('/content/drive/MyDrive/phd/deployment proyect/phd/Rainfall Prediction UPTC/Data/Stations Boyacá 2022/datos/sol2007.csv')\n",
        "sun2008 = pd.read_csv('/content/drive/MyDrive/phd/deployment proyect/phd/Rainfall Prediction UPTC/Data/Stations Boyacá 2022/datos/sol2008.csv')\n",
        "sun2009 = pd.read_csv('/content/drive/MyDrive/phd/deployment proyect/phd/Rainfall Prediction UPTC/Data/Stations Boyacá 2022/datos/sol2009.csv')\n",
        "sun2010 = pd.read_csv('/content/drive/MyDrive/phd/deployment proyect/phd/Rainfall Prediction UPTC/Data/Stations Boyacá 2022/datos/sol2010.csv')\n",
        "sun2011 = pd.read_csv('/content/drive/MyDrive/phd/deployment proyect/phd/Rainfall Prediction UPTC/Data/Stations Boyacá 2022/datos/sol2011.csv')\n",
        "sun2012 = pd.read_csv('/content/drive/MyDrive/phd/deployment proyect/phd/Rainfall Prediction UPTC/Data/Stations Boyacá 2022/datos/sol2012.csv')\n",
        "sun2013 = pd.read_csv('/content/drive/MyDrive/phd/deployment proyect/phd/Rainfall Prediction UPTC/Data/Stations Boyacá 2022/datos/sol2013.csv')\n",
        "sun2014 = pd.read_csv('/content/drive/MyDrive/phd/deployment proyect/phd/Rainfall Prediction UPTC/Data/Stations Boyacá 2022/datos/sol2014.csv')\n",
        "sun2015 = pd.read_csv('/content/drive/MyDrive/phd/deployment proyect/phd/Rainfall Prediction UPTC/Data/Stations Boyacá 2022/datos/sol2015.csv')\n",
        "sun2016 = pd.read_csv('/content/drive/MyDrive/phd/deployment proyect/phd/Rainfall Prediction UPTC/Data/Stations Boyacá 2022/datos/sol2016.csv')\n",
        "sun2017 = pd.read_csv('/content/drive/MyDrive/phd/deployment proyect/phd/Rainfall Prediction UPTC/Data/Stations Boyacá 2022/datos/sol2017.csv')\n",
        "sun2018 = pd.read_csv('/content/drive/MyDrive/phd/deployment proyect/phd/Rainfall Prediction UPTC/Data/Stations Boyacá 2022/datos/sol2018.csv')\n",
        "sun2019 = pd.read_csv('/content/drive/MyDrive/phd/deployment proyect/phd/Rainfall Prediction UPTC/Data/Stations Boyacá 2022/datos/sol2019.csv')\n",
        "sun2020 = pd.read_csv('/content/drive/MyDrive/phd/deployment proyect/phd/Rainfall Prediction UPTC/Data/Stations Boyacá 2022/datos/sol2020.csv')\n",
        "sun2021 = pd.read_csv('/content/drive/MyDrive/phd/deployment proyect/phd/Rainfall Prediction UPTC/Data/Stations Boyacá 2022/datos/sol2021.csv')\n",
        "\n",
        "evaporation = pd.read_csv('/content/drive/MyDrive/phd/deployment proyect/phd/Rainfall Prediction UPTC/Data/Stations Boyacá 2022/datos/evaporacion.csv')\n"
      ]
    },
    {
      "cell_type": "code",
      "source": [
        "precipitation_open_data.describe()"
      ],
      "metadata": {
        "colab": {
          "base_uri": "https://localhost:8080/",
          "height": 300
        },
        "id": "iPzuaM_yVD3M",
        "outputId": "3eff0399-e387-4c62-ae03-db56161033bc"
      },
      "execution_count": 4,
      "outputs": [
        {
          "output_type": "execute_result",
          "data": {
            "text/plain": [
              "       CodigoEstacion  CodigoSensor  ValorObservado       Latitud  \\\n",
              "count        210641.0      210641.0   210641.000000  2.106410e+05   \n",
              "mean       24035430.0         240.0        0.014248  5.745917e+00   \n",
              "std               0.0           0.0        0.160308  8.881805e-16   \n",
              "min        24035430.0         240.0        0.000000  5.745917e+00   \n",
              "25%        24035430.0         240.0        0.000000  5.745917e+00   \n",
              "50%        24035430.0         240.0        0.000000  5.745917e+00   \n",
              "75%        24035430.0         240.0        0.000000  5.745917e+00   \n",
              "max        24035430.0         240.0       12.900000  5.745917e+00   \n",
              "\n",
              "           Longitud  \n",
              "count  2.106410e+05  \n",
              "mean  -7.311636e+01  \n",
              "std    1.421089e-14  \n",
              "min   -7.311636e+01  \n",
              "25%   -7.311636e+01  \n",
              "50%   -7.311636e+01  \n",
              "75%   -7.311636e+01  \n",
              "max   -7.311636e+01  "
            ],
            "text/html": [
              "\n",
              "  <div id=\"df-7257871c-c7e7-4b6c-9469-013ee4a031fa\">\n",
              "    <div class=\"colab-df-container\">\n",
              "      <div>\n",
              "<style scoped>\n",
              "    .dataframe tbody tr th:only-of-type {\n",
              "        vertical-align: middle;\n",
              "    }\n",
              "\n",
              "    .dataframe tbody tr th {\n",
              "        vertical-align: top;\n",
              "    }\n",
              "\n",
              "    .dataframe thead th {\n",
              "        text-align: right;\n",
              "    }\n",
              "</style>\n",
              "<table border=\"1\" class=\"dataframe\">\n",
              "  <thead>\n",
              "    <tr style=\"text-align: right;\">\n",
              "      <th></th>\n",
              "      <th>CodigoEstacion</th>\n",
              "      <th>CodigoSensor</th>\n",
              "      <th>ValorObservado</th>\n",
              "      <th>Latitud</th>\n",
              "      <th>Longitud</th>\n",
              "    </tr>\n",
              "  </thead>\n",
              "  <tbody>\n",
              "    <tr>\n",
              "      <th>count</th>\n",
              "      <td>210641.0</td>\n",
              "      <td>210641.0</td>\n",
              "      <td>210641.000000</td>\n",
              "      <td>2.106410e+05</td>\n",
              "      <td>2.106410e+05</td>\n",
              "    </tr>\n",
              "    <tr>\n",
              "      <th>mean</th>\n",
              "      <td>24035430.0</td>\n",
              "      <td>240.0</td>\n",
              "      <td>0.014248</td>\n",
              "      <td>5.745917e+00</td>\n",
              "      <td>-7.311636e+01</td>\n",
              "    </tr>\n",
              "    <tr>\n",
              "      <th>std</th>\n",
              "      <td>0.0</td>\n",
              "      <td>0.0</td>\n",
              "      <td>0.160308</td>\n",
              "      <td>8.881805e-16</td>\n",
              "      <td>1.421089e-14</td>\n",
              "    </tr>\n",
              "    <tr>\n",
              "      <th>min</th>\n",
              "      <td>24035430.0</td>\n",
              "      <td>240.0</td>\n",
              "      <td>0.000000</td>\n",
              "      <td>5.745917e+00</td>\n",
              "      <td>-7.311636e+01</td>\n",
              "    </tr>\n",
              "    <tr>\n",
              "      <th>25%</th>\n",
              "      <td>24035430.0</td>\n",
              "      <td>240.0</td>\n",
              "      <td>0.000000</td>\n",
              "      <td>5.745917e+00</td>\n",
              "      <td>-7.311636e+01</td>\n",
              "    </tr>\n",
              "    <tr>\n",
              "      <th>50%</th>\n",
              "      <td>24035430.0</td>\n",
              "      <td>240.0</td>\n",
              "      <td>0.000000</td>\n",
              "      <td>5.745917e+00</td>\n",
              "      <td>-7.311636e+01</td>\n",
              "    </tr>\n",
              "    <tr>\n",
              "      <th>75%</th>\n",
              "      <td>24035430.0</td>\n",
              "      <td>240.0</td>\n",
              "      <td>0.000000</td>\n",
              "      <td>5.745917e+00</td>\n",
              "      <td>-7.311636e+01</td>\n",
              "    </tr>\n",
              "    <tr>\n",
              "      <th>max</th>\n",
              "      <td>24035430.0</td>\n",
              "      <td>240.0</td>\n",
              "      <td>12.900000</td>\n",
              "      <td>5.745917e+00</td>\n",
              "      <td>-7.311636e+01</td>\n",
              "    </tr>\n",
              "  </tbody>\n",
              "</table>\n",
              "</div>\n",
              "      <button class=\"colab-df-convert\" onclick=\"convertToInteractive('df-7257871c-c7e7-4b6c-9469-013ee4a031fa')\"\n",
              "              title=\"Convert this dataframe to an interactive table.\"\n",
              "              style=\"display:none;\">\n",
              "        \n",
              "  <svg xmlns=\"http://www.w3.org/2000/svg\" height=\"24px\"viewBox=\"0 0 24 24\"\n",
              "       width=\"24px\">\n",
              "    <path d=\"M0 0h24v24H0V0z\" fill=\"none\"/>\n",
              "    <path d=\"M18.56 5.44l.94 2.06.94-2.06 2.06-.94-2.06-.94-.94-2.06-.94 2.06-2.06.94zm-11 1L8.5 8.5l.94-2.06 2.06-.94-2.06-.94L8.5 2.5l-.94 2.06-2.06.94zm10 10l.94 2.06.94-2.06 2.06-.94-2.06-.94-.94-2.06-.94 2.06-2.06.94z\"/><path d=\"M17.41 7.96l-1.37-1.37c-.4-.4-.92-.59-1.43-.59-.52 0-1.04.2-1.43.59L10.3 9.45l-7.72 7.72c-.78.78-.78 2.05 0 2.83L4 21.41c.39.39.9.59 1.41.59.51 0 1.02-.2 1.41-.59l7.78-7.78 2.81-2.81c.8-.78.8-2.07 0-2.86zM5.41 20L4 18.59l7.72-7.72 1.47 1.35L5.41 20z\"/>\n",
              "  </svg>\n",
              "      </button>\n",
              "      \n",
              "  <style>\n",
              "    .colab-df-container {\n",
              "      display:flex;\n",
              "      flex-wrap:wrap;\n",
              "      gap: 12px;\n",
              "    }\n",
              "\n",
              "    .colab-df-convert {\n",
              "      background-color: #E8F0FE;\n",
              "      border: none;\n",
              "      border-radius: 50%;\n",
              "      cursor: pointer;\n",
              "      display: none;\n",
              "      fill: #1967D2;\n",
              "      height: 32px;\n",
              "      padding: 0 0 0 0;\n",
              "      width: 32px;\n",
              "    }\n",
              "\n",
              "    .colab-df-convert:hover {\n",
              "      background-color: #E2EBFA;\n",
              "      box-shadow: 0px 1px 2px rgba(60, 64, 67, 0.3), 0px 1px 3px 1px rgba(60, 64, 67, 0.15);\n",
              "      fill: #174EA6;\n",
              "    }\n",
              "\n",
              "    [theme=dark] .colab-df-convert {\n",
              "      background-color: #3B4455;\n",
              "      fill: #D2E3FC;\n",
              "    }\n",
              "\n",
              "    [theme=dark] .colab-df-convert:hover {\n",
              "      background-color: #434B5C;\n",
              "      box-shadow: 0px 1px 3px 1px rgba(0, 0, 0, 0.15);\n",
              "      filter: drop-shadow(0px 1px 2px rgba(0, 0, 0, 0.3));\n",
              "      fill: #FFFFFF;\n",
              "    }\n",
              "  </style>\n",
              "\n",
              "      <script>\n",
              "        const buttonEl =\n",
              "          document.querySelector('#df-7257871c-c7e7-4b6c-9469-013ee4a031fa button.colab-df-convert');\n",
              "        buttonEl.style.display =\n",
              "          google.colab.kernel.accessAllowed ? 'block' : 'none';\n",
              "\n",
              "        async function convertToInteractive(key) {\n",
              "          const element = document.querySelector('#df-7257871c-c7e7-4b6c-9469-013ee4a031fa');\n",
              "          const dataTable =\n",
              "            await google.colab.kernel.invokeFunction('convertToInteractive',\n",
              "                                                     [key], {});\n",
              "          if (!dataTable) return;\n",
              "\n",
              "          const docLinkHtml = 'Like what you see? Visit the ' +\n",
              "            '<a target=\"_blank\" href=https://colab.research.google.com/notebooks/data_table.ipynb>data table notebook</a>'\n",
              "            + ' to learn more about interactive tables.';\n",
              "          element.innerHTML = '';\n",
              "          dataTable['output_type'] = 'display_data';\n",
              "          await google.colab.output.renderOutput(dataTable, element);\n",
              "          const docLink = document.createElement('div');\n",
              "          docLink.innerHTML = docLinkHtml;\n",
              "          element.appendChild(docLink);\n",
              "        }\n",
              "      </script>\n",
              "    </div>\n",
              "  </div>\n",
              "  "
            ]
          },
          "metadata": {},
          "execution_count": 4
        }
      ]
    },
    {
      "cell_type": "markdown",
      "metadata": {
        "id": "CoNkpESFscBg"
      },
      "source": [
        "# Data Porccessing"
      ]
    },
    {
      "cell_type": "markdown",
      "metadata": {
        "id": "LQ5uSX62stZ_"
      },
      "source": [
        "## Solar"
      ]
    },
    {
      "cell_type": "code",
      "execution_count": 5,
      "metadata": {
        "id": "GDo9ky5UR8IQ"
      },
      "outputs": [],
      "source": [
        "sun_frames = [sun2001, sun2002, sun2003, sun2004, sun2005, sun2006, sun2007, sun2008, sun2009, sun2010, sun2011, sun2012, sun2013, sun2014, sun2015, sun2016, sun2017, sun2018, sun2019, sun2020, sun2021]\n",
        "sun = pd.concat(sun_frames)"
      ]
    },
    {
      "cell_type": "code",
      "execution_count": 6,
      "metadata": {
        "id": "CtXjXsyPYa8l"
      },
      "outputs": [],
      "source": [
        "sun['Date'] = pd.to_datetime(sun['Fecha']).dt.date\n",
        "sun['Time'] = pd.to_datetime(sun['Fecha']).dt.time"
      ]
    },
    {
      "cell_type": "code",
      "execution_count": 7,
      "metadata": {
        "id": "C8GXqwC4Y6ho"
      },
      "outputs": [],
      "source": [
        "sun = sun.groupby(['Date']).mean('Valor')"
      ]
    },
    {
      "cell_type": "code",
      "execution_count": 8,
      "metadata": {
        "id": "t8wMBGd9SKsw"
      },
      "outputs": [],
      "source": [
        "sun['SunValue'] = sun['Valor']"
      ]
    },
    {
      "cell_type": "markdown",
      "metadata": {
        "id": "EOMofK7Lsyur"
      },
      "source": [
        "## Temperature min\n"
      ]
    },
    {
      "cell_type": "code",
      "execution_count": 9,
      "metadata": {
        "id": "X3K-zsiVs2_h"
      },
      "outputs": [],
      "source": [
        "temmin['Date'] = pd.to_datetime(temmin['Fecha']).dt.date\n",
        "temmin['Time'] = pd.to_datetime(temmin['Fecha']).dt.time"
      ]
    },
    {
      "cell_type": "code",
      "execution_count": 10,
      "metadata": {
        "id": "WXA3ixaiSjWc"
      },
      "outputs": [],
      "source": [
        "temmin['TemMinValue'] = temmin['Valor']"
      ]
    },
    {
      "cell_type": "markdown",
      "metadata": {
        "id": "Ki1R8doFtFR1"
      },
      "source": [
        "## Temperature max"
      ]
    },
    {
      "cell_type": "code",
      "execution_count": 11,
      "metadata": {
        "id": "T6gF0m2mtIbn"
      },
      "outputs": [],
      "source": [
        "temmax['Date'] = pd.to_datetime(temmax['Fecha']).dt.date\n",
        "temmax['Time'] = pd.to_datetime(temmax['Fecha']).dt.time"
      ]
    },
    {
      "cell_type": "code",
      "execution_count": 12,
      "metadata": {
        "id": "OfkiEEorSpqR"
      },
      "outputs": [],
      "source": [
        "temmax['TemMaxValue'] = temmax['Valor']"
      ]
    },
    {
      "cell_type": "markdown",
      "metadata": {
        "id": "HkZRWPbctPG9"
      },
      "source": [
        "## Wind Speed"
      ]
    },
    {
      "cell_type": "code",
      "execution_count": 13,
      "metadata": {
        "id": "MDk6PuMPtdml"
      },
      "outputs": [],
      "source": [
        "# velocidadviento['Date'] = pd.to_datetime(velocidadviento['Fecha']).dt.date\n",
        "# velocidadviento['Time'] = pd.to_datetime(velocidadviento['Fecha']).dt.time"
      ]
    },
    {
      "cell_type": "markdown",
      "metadata": {
        "id": "wsNURpMUtma0"
      },
      "source": [
        "## Humedad"
      ]
    },
    {
      "cell_type": "code",
      "execution_count": 14,
      "metadata": {
        "id": "v316ojkztow-"
      },
      "outputs": [],
      "source": [
        "humidity['Date'] = pd.to_datetime(humidity['Fecha']).dt.date\n",
        "humidity['Time'] = pd.to_datetime(humidity['Fecha']).dt.time"
      ]
    },
    {
      "cell_type": "code",
      "execution_count": 15,
      "metadata": {
        "id": "bHJ8Zcc0SzwO"
      },
      "outputs": [],
      "source": [
        "humidity['HumidityValue'] = humidity['Valor']"
      ]
    },
    {
      "cell_type": "markdown",
      "metadata": {
        "id": "jqiVIrhitutN"
      },
      "source": [
        "## Evaporación"
      ]
    },
    {
      "cell_type": "code",
      "execution_count": 16,
      "metadata": {
        "id": "CVUPEp22t1-m"
      },
      "outputs": [],
      "source": [
        "evaporation['Date'] = pd.to_datetime(evaporation['Fecha']).dt.date\n",
        "evaporation['Time'] = pd.to_datetime(evaporation['Fecha']).dt.time"
      ]
    },
    {
      "cell_type": "code",
      "execution_count": 17,
      "metadata": {
        "id": "YyKpXvECTAMQ"
      },
      "outputs": [],
      "source": [
        "evaporation['EvaporationValue'] = evaporation['Valor']"
      ]
    },
    {
      "cell_type": "markdown",
      "metadata": {
        "id": "dmYEl5vmt8kJ"
      },
      "source": [
        "## Precipitación"
      ]
    },
    {
      "cell_type": "code",
      "execution_count": 18,
      "metadata": {
        "id": "AXapLOF9t_37"
      },
      "outputs": [],
      "source": [
        "precipitation['Date'] = pd.to_datetime(precipitation['Fecha']).dt.date\n",
        "precipitation['Time'] = pd.to_datetime(precipitation['Fecha']).dt.time"
      ]
    },
    {
      "cell_type": "code",
      "execution_count": 19,
      "metadata": {
        "id": "dNDhxaSBTIet"
      },
      "outputs": [],
      "source": [
        "precipitation['PrecipitationValue'] = precipitation['Valor']"
      ]
    },
    {
      "cell_type": "markdown",
      "metadata": {
        "id": "2eeXtkJO-Cyg"
      },
      "source": [
        "## Speed Wind 10 Minutes"
      ]
    },
    {
      "cell_type": "code",
      "execution_count": 20,
      "metadata": {
        "colab": {
          "base_uri": "https://localhost:8080/"
        },
        "id": "k4pEaFFEH8tR",
        "outputId": "89d5f2ac-c559-495f-fdc5-0c548a6ccaab"
      },
      "outputs": [
        {
          "output_type": "stream",
          "name": "stdout",
          "text": [
            "<class 'pandas.core.frame.DataFrame'>\n",
            "RangeIndex: 661715 entries, 0 to 661714\n",
            "Data columns (total 12 columns):\n",
            " #   Column             Non-Null Count   Dtype  \n",
            "---  ------             --------------   -----  \n",
            " 0   CodigoEstacion     661715 non-null  int64  \n",
            " 1   CodigoSensor       661715 non-null  int64  \n",
            " 2   FechaObservacion   661715 non-null  object \n",
            " 3   ValorObservado     661715 non-null  float64\n",
            " 4   NombreEstacion     661715 non-null  object \n",
            " 5   Departamento       661715 non-null  object \n",
            " 6   Municipio          661715 non-null  object \n",
            " 7   ZonaHidrografica   661715 non-null  object \n",
            " 8   Latitud            661715 non-null  float64\n",
            " 9   Longitud           661715 non-null  float64\n",
            " 10  DescripcionSensor  661715 non-null  object \n",
            " 11  UnidadMedida       661715 non-null  object \n",
            "dtypes: float64(3), int64(2), object(7)\n",
            "memory usage: 60.6+ MB\n"
          ]
        }
      ],
      "source": [
        "wind_speed.info()"
      ]
    },
    {
      "cell_type": "code",
      "execution_count": 21,
      "metadata": {
        "colab": {
          "base_uri": "https://localhost:8080/"
        },
        "id": "VMCdCxs-HfCO",
        "outputId": "6cc913fb-3fb0-417a-9072-c71c282f1da7"
      },
      "outputs": [
        {
          "output_type": "stream",
          "name": "stdout",
          "text": [
            "Min: 01/01/2006 01:00:00 AM Max: 12/31/2021 12:50:00 PM\n"
          ]
        }
      ],
      "source": [
        "column = wind_speed[\"FechaObservacion\"]\n",
        "max_value = column.max()\n",
        "min_value = column.min()\n",
        "\n",
        "print(\"Min: \" + min_value + \" Max: \" + max_value)"
      ]
    },
    {
      "cell_type": "code",
      "execution_count": 22,
      "metadata": {
        "colab": {
          "base_uri": "https://localhost:8080/"
        },
        "id": "_xfFEPGBYsyp",
        "outputId": "da2c95c5-a4e5-4ced-d0cd-42b31ddbf4d1"
      },
      "outputs": [
        {
          "output_type": "stream",
          "name": "stderr",
          "text": [
            "<ipython-input-22-02606e3d424f>:2: FutureWarning: The default value of numeric_only in DataFrameGroupBy.sum is deprecated. In a future version, numeric_only will default to False. Either specify numeric_only or select only columns which should be valid for the function.\n",
            "  wind_speed = wind_speed.groupby(pd.Grouper(key='Date', freq='D')).sum()\n"
          ]
        }
      ],
      "source": [
        "wind_speed['Date'] = pd.to_datetime(wind_speed['FechaObservacion'])\n",
        "wind_speed = wind_speed.groupby(pd.Grouper(key='Date', freq='D')).sum()"
      ]
    },
    {
      "cell_type": "code",
      "execution_count": 23,
      "metadata": {
        "colab": {
          "base_uri": "https://localhost:8080/",
          "height": 455
        },
        "id": "-u3POvetQXLr",
        "outputId": "c77fb5c2-078f-4592-963c-71f46f23a9a8"
      },
      "outputs": [
        {
          "output_type": "execute_result",
          "data": {
            "text/plain": [
              "            CodigoEstacion  CodigoSensor  ValorObservado     Latitud  \\\n",
              "Date                                                                   \n",
              "2005-04-21       865275480          3708            38.3  206.853000   \n",
              "2005-04-22      3461101920         14832           165.5  827.412000   \n",
              "2005-04-23      3461101920         14832           175.1  827.412000   \n",
              "2005-04-24      3461101920         14832           143.2  827.412000   \n",
              "2005-04-25      3316889340         14214           153.5  792.936500   \n",
              "...                    ...           ...             ...         ...   \n",
              "2022-06-24      3437066490         14729           149.9  821.666083   \n",
              "2022-06-25      2067046980          8858            74.4  494.148833   \n",
              "2022-06-26      3461101920         14832           118.1  827.412000   \n",
              "2022-06-27      3028464180         12978           157.1  723.985500   \n",
              "2022-06-28      3461101920         14832           150.6  827.412000   \n",
              "\n",
              "                Longitud  \n",
              "Date                      \n",
              "2005-04-21  -2632.189000  \n",
              "2005-04-22 -10528.756000  \n",
              "2005-04-23 -10528.756000  \n",
              "2005-04-24 -10528.756000  \n",
              "2005-04-25 -10090.057833  \n",
              "...                  ...  \n",
              "2022-06-24 -10455.639639  \n",
              "2022-06-25  -6288.007055  \n",
              "2022-06-26 -10528.756000  \n",
              "2022-06-27  -9212.661500  \n",
              "2022-06-28 -10528.756000  \n",
              "\n",
              "[6278 rows x 5 columns]"
            ],
            "text/html": [
              "\n",
              "  <div id=\"df-a0797a14-b605-4a05-b3a8-816cb9dc8657\">\n",
              "    <div class=\"colab-df-container\">\n",
              "      <div>\n",
              "<style scoped>\n",
              "    .dataframe tbody tr th:only-of-type {\n",
              "        vertical-align: middle;\n",
              "    }\n",
              "\n",
              "    .dataframe tbody tr th {\n",
              "        vertical-align: top;\n",
              "    }\n",
              "\n",
              "    .dataframe thead th {\n",
              "        text-align: right;\n",
              "    }\n",
              "</style>\n",
              "<table border=\"1\" class=\"dataframe\">\n",
              "  <thead>\n",
              "    <tr style=\"text-align: right;\">\n",
              "      <th></th>\n",
              "      <th>CodigoEstacion</th>\n",
              "      <th>CodigoSensor</th>\n",
              "      <th>ValorObservado</th>\n",
              "      <th>Latitud</th>\n",
              "      <th>Longitud</th>\n",
              "    </tr>\n",
              "    <tr>\n",
              "      <th>Date</th>\n",
              "      <th></th>\n",
              "      <th></th>\n",
              "      <th></th>\n",
              "      <th></th>\n",
              "      <th></th>\n",
              "    </tr>\n",
              "  </thead>\n",
              "  <tbody>\n",
              "    <tr>\n",
              "      <th>2005-04-21</th>\n",
              "      <td>865275480</td>\n",
              "      <td>3708</td>\n",
              "      <td>38.3</td>\n",
              "      <td>206.853000</td>\n",
              "      <td>-2632.189000</td>\n",
              "    </tr>\n",
              "    <tr>\n",
              "      <th>2005-04-22</th>\n",
              "      <td>3461101920</td>\n",
              "      <td>14832</td>\n",
              "      <td>165.5</td>\n",
              "      <td>827.412000</td>\n",
              "      <td>-10528.756000</td>\n",
              "    </tr>\n",
              "    <tr>\n",
              "      <th>2005-04-23</th>\n",
              "      <td>3461101920</td>\n",
              "      <td>14832</td>\n",
              "      <td>175.1</td>\n",
              "      <td>827.412000</td>\n",
              "      <td>-10528.756000</td>\n",
              "    </tr>\n",
              "    <tr>\n",
              "      <th>2005-04-24</th>\n",
              "      <td>3461101920</td>\n",
              "      <td>14832</td>\n",
              "      <td>143.2</td>\n",
              "      <td>827.412000</td>\n",
              "      <td>-10528.756000</td>\n",
              "    </tr>\n",
              "    <tr>\n",
              "      <th>2005-04-25</th>\n",
              "      <td>3316889340</td>\n",
              "      <td>14214</td>\n",
              "      <td>153.5</td>\n",
              "      <td>792.936500</td>\n",
              "      <td>-10090.057833</td>\n",
              "    </tr>\n",
              "    <tr>\n",
              "      <th>...</th>\n",
              "      <td>...</td>\n",
              "      <td>...</td>\n",
              "      <td>...</td>\n",
              "      <td>...</td>\n",
              "      <td>...</td>\n",
              "    </tr>\n",
              "    <tr>\n",
              "      <th>2022-06-24</th>\n",
              "      <td>3437066490</td>\n",
              "      <td>14729</td>\n",
              "      <td>149.9</td>\n",
              "      <td>821.666083</td>\n",
              "      <td>-10455.639639</td>\n",
              "    </tr>\n",
              "    <tr>\n",
              "      <th>2022-06-25</th>\n",
              "      <td>2067046980</td>\n",
              "      <td>8858</td>\n",
              "      <td>74.4</td>\n",
              "      <td>494.148833</td>\n",
              "      <td>-6288.007055</td>\n",
              "    </tr>\n",
              "    <tr>\n",
              "      <th>2022-06-26</th>\n",
              "      <td>3461101920</td>\n",
              "      <td>14832</td>\n",
              "      <td>118.1</td>\n",
              "      <td>827.412000</td>\n",
              "      <td>-10528.756000</td>\n",
              "    </tr>\n",
              "    <tr>\n",
              "      <th>2022-06-27</th>\n",
              "      <td>3028464180</td>\n",
              "      <td>12978</td>\n",
              "      <td>157.1</td>\n",
              "      <td>723.985500</td>\n",
              "      <td>-9212.661500</td>\n",
              "    </tr>\n",
              "    <tr>\n",
              "      <th>2022-06-28</th>\n",
              "      <td>3461101920</td>\n",
              "      <td>14832</td>\n",
              "      <td>150.6</td>\n",
              "      <td>827.412000</td>\n",
              "      <td>-10528.756000</td>\n",
              "    </tr>\n",
              "  </tbody>\n",
              "</table>\n",
              "<p>6278 rows × 5 columns</p>\n",
              "</div>\n",
              "      <button class=\"colab-df-convert\" onclick=\"convertToInteractive('df-a0797a14-b605-4a05-b3a8-816cb9dc8657')\"\n",
              "              title=\"Convert this dataframe to an interactive table.\"\n",
              "              style=\"display:none;\">\n",
              "        \n",
              "  <svg xmlns=\"http://www.w3.org/2000/svg\" height=\"24px\"viewBox=\"0 0 24 24\"\n",
              "       width=\"24px\">\n",
              "    <path d=\"M0 0h24v24H0V0z\" fill=\"none\"/>\n",
              "    <path d=\"M18.56 5.44l.94 2.06.94-2.06 2.06-.94-2.06-.94-.94-2.06-.94 2.06-2.06.94zm-11 1L8.5 8.5l.94-2.06 2.06-.94-2.06-.94L8.5 2.5l-.94 2.06-2.06.94zm10 10l.94 2.06.94-2.06 2.06-.94-2.06-.94-.94-2.06-.94 2.06-2.06.94z\"/><path d=\"M17.41 7.96l-1.37-1.37c-.4-.4-.92-.59-1.43-.59-.52 0-1.04.2-1.43.59L10.3 9.45l-7.72 7.72c-.78.78-.78 2.05 0 2.83L4 21.41c.39.39.9.59 1.41.59.51 0 1.02-.2 1.41-.59l7.78-7.78 2.81-2.81c.8-.78.8-2.07 0-2.86zM5.41 20L4 18.59l7.72-7.72 1.47 1.35L5.41 20z\"/>\n",
              "  </svg>\n",
              "      </button>\n",
              "      \n",
              "  <style>\n",
              "    .colab-df-container {\n",
              "      display:flex;\n",
              "      flex-wrap:wrap;\n",
              "      gap: 12px;\n",
              "    }\n",
              "\n",
              "    .colab-df-convert {\n",
              "      background-color: #E8F0FE;\n",
              "      border: none;\n",
              "      border-radius: 50%;\n",
              "      cursor: pointer;\n",
              "      display: none;\n",
              "      fill: #1967D2;\n",
              "      height: 32px;\n",
              "      padding: 0 0 0 0;\n",
              "      width: 32px;\n",
              "    }\n",
              "\n",
              "    .colab-df-convert:hover {\n",
              "      background-color: #E2EBFA;\n",
              "      box-shadow: 0px 1px 2px rgba(60, 64, 67, 0.3), 0px 1px 3px 1px rgba(60, 64, 67, 0.15);\n",
              "      fill: #174EA6;\n",
              "    }\n",
              "\n",
              "    [theme=dark] .colab-df-convert {\n",
              "      background-color: #3B4455;\n",
              "      fill: #D2E3FC;\n",
              "    }\n",
              "\n",
              "    [theme=dark] .colab-df-convert:hover {\n",
              "      background-color: #434B5C;\n",
              "      box-shadow: 0px 1px 3px 1px rgba(0, 0, 0, 0.15);\n",
              "      filter: drop-shadow(0px 1px 2px rgba(0, 0, 0, 0.3));\n",
              "      fill: #FFFFFF;\n",
              "    }\n",
              "  </style>\n",
              "\n",
              "      <script>\n",
              "        const buttonEl =\n",
              "          document.querySelector('#df-a0797a14-b605-4a05-b3a8-816cb9dc8657 button.colab-df-convert');\n",
              "        buttonEl.style.display =\n",
              "          google.colab.kernel.accessAllowed ? 'block' : 'none';\n",
              "\n",
              "        async function convertToInteractive(key) {\n",
              "          const element = document.querySelector('#df-a0797a14-b605-4a05-b3a8-816cb9dc8657');\n",
              "          const dataTable =\n",
              "            await google.colab.kernel.invokeFunction('convertToInteractive',\n",
              "                                                     [key], {});\n",
              "          if (!dataTable) return;\n",
              "\n",
              "          const docLinkHtml = 'Like what you see? Visit the ' +\n",
              "            '<a target=\"_blank\" href=https://colab.research.google.com/notebooks/data_table.ipynb>data table notebook</a>'\n",
              "            + ' to learn more about interactive tables.';\n",
              "          element.innerHTML = '';\n",
              "          dataTable['output_type'] = 'display_data';\n",
              "          await google.colab.output.renderOutput(dataTable, element);\n",
              "          const docLink = document.createElement('div');\n",
              "          docLink.innerHTML = docLinkHtml;\n",
              "          element.appendChild(docLink);\n",
              "        }\n",
              "      </script>\n",
              "    </div>\n",
              "  </div>\n",
              "  "
            ]
          },
          "metadata": {},
          "execution_count": 23
        }
      ],
      "source": [
        "wind_speed"
      ]
    },
    {
      "cell_type": "code",
      "execution_count": 24,
      "metadata": {
        "id": "X340KYDVTajr"
      },
      "outputs": [],
      "source": [
        "wind_speed['WindSpeedValue'] = wind_speed['ValorObservado']"
      ]
    },
    {
      "cell_type": "code",
      "execution_count": 25,
      "metadata": {
        "colab": {
          "base_uri": "https://localhost:8080/"
        },
        "id": "6cJSM-_eb1ML",
        "outputId": "0205f1ff-4cb3-48dd-96b6-a62116ddd188"
      },
      "outputs": [
        {
          "output_type": "stream",
          "name": "stdout",
          "text": [
            "<class 'pandas.core.frame.DataFrame'>\n",
            "Index: 7291 entries, 2000-12-31 to 2021-12-31\n",
            "Data columns (total 10 columns):\n",
            " #   Column           Non-Null Count  Dtype  \n",
            "---  ------           --------------  -----  \n",
            " 0   CodigoEstacion   7291 non-null   float64\n",
            " 1   Latitud          7291 non-null   float64\n",
            " 2   Longitud         7291 non-null   float64\n",
            " 3   Altitud          7291 non-null   float64\n",
            " 4   FechaSuspension  0 non-null      float64\n",
            " 5   Valor            7291 non-null   float64\n",
            " 6   Grado            7291 non-null   float64\n",
            " 7   Calificador      0 non-null      float64\n",
            " 8   NivelAprobacion  7291 non-null   float64\n",
            " 9   SunValue         7291 non-null   float64\n",
            "dtypes: float64(10)\n",
            "memory usage: 626.6+ KB\n"
          ]
        }
      ],
      "source": [
        "sun.info()"
      ]
    },
    {
      "cell_type": "code",
      "execution_count": 26,
      "metadata": {
        "colab": {
          "base_uri": "https://localhost:8080/"
        },
        "id": "3wWtNDrlcMpc",
        "outputId": "7f490c26-3954-4270-bec4-d32de0d6afc7"
      },
      "outputs": [
        {
          "output_type": "stream",
          "name": "stdout",
          "text": [
            "<class 'pandas.core.frame.DataFrame'>\n",
            "DatetimeIndex: 6278 entries, 2005-04-21 to 2022-06-28\n",
            "Freq: D\n",
            "Data columns (total 6 columns):\n",
            " #   Column          Non-Null Count  Dtype  \n",
            "---  ------          --------------  -----  \n",
            " 0   CodigoEstacion  6278 non-null   int64  \n",
            " 1   CodigoSensor    6278 non-null   int64  \n",
            " 2   ValorObservado  6278 non-null   float64\n",
            " 3   Latitud         6278 non-null   float64\n",
            " 4   Longitud        6278 non-null   float64\n",
            " 5   WindSpeedValue  6278 non-null   float64\n",
            "dtypes: float64(4), int64(2)\n",
            "memory usage: 343.3 KB\n"
          ]
        }
      ],
      "source": [
        "wind_speed.info()"
      ]
    },
    {
      "cell_type": "code",
      "execution_count": 27,
      "metadata": {
        "colab": {
          "base_uri": "https://localhost:8080/"
        },
        "id": "ivqn11nZcXdp",
        "outputId": "ff8e3cc7-02be-46c8-d9d8-814751c6b665"
      },
      "outputs": [
        {
          "output_type": "stream",
          "name": "stdout",
          "text": [
            "<class 'pandas.core.frame.DataFrame'>\n",
            "RangeIndex: 1826 entries, 0 to 1825\n",
            "Data columns (total 24 columns):\n",
            " #   Column              Non-Null Count  Dtype  \n",
            "---  ------              --------------  -----  \n",
            " 0   CodigoEstacion      1826 non-null   int64  \n",
            " 1   NombreEstacion      1826 non-null   object \n",
            " 2   Latitud             1826 non-null   float64\n",
            " 3   Longitud            1826 non-null   float64\n",
            " 4   Altitud             1826 non-null   int64  \n",
            " 5   Categoria           1826 non-null   object \n",
            " 6   Entidad             1826 non-null   object \n",
            " 7   AreaOperativa       1826 non-null   object \n",
            " 8   Departamento        1826 non-null   object \n",
            " 9   Municipio           1826 non-null   object \n",
            " 10  FechaInstalacion    1826 non-null   object \n",
            " 11  FechaSuspension     0 non-null      float64\n",
            " 12  IdParametro         1826 non-null   object \n",
            " 13  Etiqueta            1826 non-null   object \n",
            " 14  DescripcionSerie    1826 non-null   object \n",
            " 15  Frecuencia          1826 non-null   object \n",
            " 16  Fecha               1826 non-null   object \n",
            " 17  Valor               1826 non-null   float64\n",
            " 18  Grado               1826 non-null   int64  \n",
            " 19  Calificador         0 non-null      float64\n",
            " 20  NivelAprobacion     1826 non-null   int64  \n",
            " 21  Date                1826 non-null   object \n",
            " 22  Time                1826 non-null   object \n",
            " 23  PrecipitationValue  1826 non-null   float64\n",
            "dtypes: float64(6), int64(4), object(14)\n",
            "memory usage: 342.5+ KB\n"
          ]
        }
      ],
      "source": [
        "precipitation.info()"
      ]
    },
    {
      "cell_type": "code",
      "execution_count": 28,
      "metadata": {
        "colab": {
          "base_uri": "https://localhost:8080/"
        },
        "id": "5u5s_2B_ciq8",
        "outputId": "757ee161-9c6d-4499-c783-8ca7406d6be4"
      },
      "outputs": [
        {
          "output_type": "stream",
          "name": "stdout",
          "text": [
            "<class 'pandas.core.frame.DataFrame'>\n",
            "RangeIndex: 5714 entries, 0 to 5713\n",
            "Data columns (total 24 columns):\n",
            " #   Column            Non-Null Count  Dtype  \n",
            "---  ------            --------------  -----  \n",
            " 0   CodigoEstacion    5714 non-null   int64  \n",
            " 1   NombreEstacion    5714 non-null   object \n",
            " 2   Latitud           5714 non-null   float64\n",
            " 3   Longitud          5714 non-null   float64\n",
            " 4   Altitud           5714 non-null   int64  \n",
            " 5   Categoria         5714 non-null   object \n",
            " 6   Entidad           5714 non-null   object \n",
            " 7   AreaOperativa     5714 non-null   object \n",
            " 8   Departamento      5714 non-null   object \n",
            " 9   Municipio         5714 non-null   object \n",
            " 10  FechaInstalacion  5714 non-null   object \n",
            " 11  FechaSuspension   0 non-null      float64\n",
            " 12  IdParametro       5714 non-null   object \n",
            " 13  Etiqueta          5714 non-null   object \n",
            " 14  DescripcionSerie  5714 non-null   object \n",
            " 15  Frecuencia        5714 non-null   object \n",
            " 16  Fecha             5714 non-null   object \n",
            " 17  Valor             5714 non-null   int64  \n",
            " 18  Grado             5714 non-null   int64  \n",
            " 19  Calificador       0 non-null      float64\n",
            " 20  NivelAprobacion   5714 non-null   int64  \n",
            " 21  Date              5714 non-null   object \n",
            " 22  Time              5714 non-null   object \n",
            " 23  HumidityValue     5714 non-null   int64  \n",
            "dtypes: float64(4), int64(6), object(14)\n",
            "memory usage: 1.0+ MB\n"
          ]
        }
      ],
      "source": [
        "humidity.info()"
      ]
    },
    {
      "cell_type": "code",
      "execution_count": 29,
      "metadata": {
        "colab": {
          "base_uri": "https://localhost:8080/"
        },
        "id": "lj_R6O8Wcv5_",
        "outputId": "cecd6f58-a429-499a-ae4d-e1bad718ba96"
      },
      "outputs": [
        {
          "output_type": "stream",
          "name": "stdout",
          "text": [
            "<class 'pandas.core.frame.DataFrame'>\n",
            "RangeIndex: 6072 entries, 0 to 6071\n",
            "Data columns (total 24 columns):\n",
            " #   Column            Non-Null Count  Dtype  \n",
            "---  ------            --------------  -----  \n",
            " 0   CodigoEstacion    6072 non-null   int64  \n",
            " 1   NombreEstacion    6072 non-null   object \n",
            " 2   Latitud           6072 non-null   float64\n",
            " 3   Longitud          6072 non-null   float64\n",
            " 4   Altitud           6072 non-null   int64  \n",
            " 5   Categoria         6072 non-null   object \n",
            " 6   Entidad           6072 non-null   object \n",
            " 7   AreaOperativa     6072 non-null   object \n",
            " 8   Departamento      6072 non-null   object \n",
            " 9   Municipio         6072 non-null   object \n",
            " 10  FechaInstalacion  6072 non-null   object \n",
            " 11  FechaSuspension   0 non-null      float64\n",
            " 12  IdParametro       6072 non-null   object \n",
            " 13  Etiqueta          6072 non-null   object \n",
            " 14  DescripcionSerie  6072 non-null   object \n",
            " 15  Frecuencia        6072 non-null   object \n",
            " 16  Fecha             6072 non-null   object \n",
            " 17  Valor             6072 non-null   int64  \n",
            " 18  Grado             6072 non-null   int64  \n",
            " 19  Calificador       0 non-null      float64\n",
            " 20  NivelAprobacion   6072 non-null   int64  \n",
            " 21  Date              6072 non-null   object \n",
            " 22  Time              6072 non-null   object \n",
            " 23  EvaporationValue  6072 non-null   int64  \n",
            "dtypes: float64(4), int64(6), object(14)\n",
            "memory usage: 1.1+ MB\n"
          ]
        }
      ],
      "source": [
        "evaporation.info()"
      ]
    },
    {
      "cell_type": "code",
      "execution_count": 30,
      "metadata": {
        "colab": {
          "base_uri": "https://localhost:8080/"
        },
        "id": "Nrt1XRkZdVsk",
        "outputId": "ad770e37-8a93-4280-9f64-19ed38741646"
      },
      "outputs": [
        {
          "output_type": "stream",
          "name": "stdout",
          "text": [
            "<class 'pandas.core.frame.DataFrame'>\n",
            "RangeIndex: 7049 entries, 0 to 7048\n",
            "Data columns (total 24 columns):\n",
            " #   Column            Non-Null Count  Dtype  \n",
            "---  ------            --------------  -----  \n",
            " 0   CodigoEstacion    7049 non-null   int64  \n",
            " 1   NombreEstacion    7049 non-null   object \n",
            " 2   Latitud           7049 non-null   float64\n",
            " 3   Longitud          7049 non-null   float64\n",
            " 4   Altitud           7049 non-null   int64  \n",
            " 5   Categoria         7049 non-null   object \n",
            " 6   Entidad           7049 non-null   object \n",
            " 7   AreaOperativa     7049 non-null   object \n",
            " 8   Departamento      7049 non-null   object \n",
            " 9   Municipio         7049 non-null   object \n",
            " 10  FechaInstalacion  7049 non-null   object \n",
            " 11  FechaSuspension   0 non-null      float64\n",
            " 12  IdParametro       7049 non-null   object \n",
            " 13  Etiqueta          7049 non-null   object \n",
            " 14  DescripcionSerie  7049 non-null   object \n",
            " 15  Frecuencia        7049 non-null   object \n",
            " 16  Fecha             7049 non-null   object \n",
            " 17  Valor             7049 non-null   float64\n",
            " 18  Grado             7049 non-null   int64  \n",
            " 19  Calificador       0 non-null      float64\n",
            " 20  NivelAprobacion   7049 non-null   int64  \n",
            " 21  Date              7049 non-null   object \n",
            " 22  Time              7049 non-null   object \n",
            " 23  TemMinValue       7049 non-null   float64\n",
            "dtypes: float64(6), int64(4), object(14)\n",
            "memory usage: 1.3+ MB\n",
            "<class 'pandas.core.frame.DataFrame'>\n",
            "RangeIndex: 7054 entries, 0 to 7053\n",
            "Data columns (total 24 columns):\n",
            " #   Column            Non-Null Count  Dtype  \n",
            "---  ------            --------------  -----  \n",
            " 0   CodigoEstacion    7054 non-null   int64  \n",
            " 1   NombreEstacion    7054 non-null   object \n",
            " 2   Latitud           7054 non-null   float64\n",
            " 3   Longitud          7054 non-null   float64\n",
            " 4   Altitud           7054 non-null   int64  \n",
            " 5   Categoria         7054 non-null   object \n",
            " 6   Entidad           7054 non-null   object \n",
            " 7   AreaOperativa     7054 non-null   object \n",
            " 8   Departamento      7054 non-null   object \n",
            " 9   Municipio         7054 non-null   object \n",
            " 10  FechaInstalacion  7054 non-null   object \n",
            " 11  FechaSuspension   0 non-null      float64\n",
            " 12  IdParametro       7054 non-null   object \n",
            " 13  Etiqueta          7054 non-null   object \n",
            " 14  DescripcionSerie  7054 non-null   object \n",
            " 15  Frecuencia        7054 non-null   object \n",
            " 16  Fecha             7054 non-null   object \n",
            " 17  Valor             7054 non-null   float64\n",
            " 18  Grado             7054 non-null   int64  \n",
            " 19  Calificador       0 non-null      float64\n",
            " 20  NivelAprobacion   7054 non-null   int64  \n",
            " 21  Date              7054 non-null   object \n",
            " 22  Time              7054 non-null   object \n",
            " 23  TemMaxValue       7054 non-null   float64\n",
            "dtypes: float64(6), int64(4), object(14)\n",
            "memory usage: 1.3+ MB\n"
          ]
        }
      ],
      "source": [
        "temmin.info()\n",
        "temmax.info()"
      ]
    },
    {
      "cell_type": "code",
      "execution_count": 31,
      "metadata": {
        "colab": {
          "base_uri": "https://localhost:8080/"
        },
        "id": "MZJSNxMxoKYB",
        "outputId": "09ef81c1-7586-4384-9c63-a3f23c6339d9"
      },
      "outputs": [
        {
          "output_type": "stream",
          "name": "stdout",
          "text": [
            "<class 'pandas.core.frame.DataFrame'>\n",
            "Int64Index: 210641 entries, 80 to 10989964\n",
            "Data columns (total 12 columns):\n",
            " #   Column             Non-Null Count   Dtype  \n",
            "---  ------             --------------   -----  \n",
            " 0   CodigoEstacion     210641 non-null  int64  \n",
            " 1   CodigoSensor       210641 non-null  int64  \n",
            " 2   FechaObservacion   210641 non-null  object \n",
            " 3   ValorObservado     210641 non-null  float64\n",
            " 4   NombreEstacion     210641 non-null  object \n",
            " 5   Departamento       210641 non-null  object \n",
            " 6   Municipio          210641 non-null  object \n",
            " 7   ZonaHidrografica   210641 non-null  object \n",
            " 8   Latitud            210641 non-null  float64\n",
            " 9   Longitud           210641 non-null  float64\n",
            " 10  DescripcionSensor  210641 non-null  object \n",
            " 11  UnidadMedida       210641 non-null  object \n",
            "dtypes: float64(3), int64(2), object(7)\n",
            "memory usage: 20.9+ MB\n"
          ]
        }
      ],
      "source": [
        "precipitation_open_data.info()"
      ]
    },
    {
      "cell_type": "code",
      "execution_count": 32,
      "metadata": {
        "colab": {
          "base_uri": "https://localhost:8080/"
        },
        "id": "JTblHIQUoYvQ",
        "outputId": "86744ad6-438b-45d3-b252-676baa301075"
      },
      "outputs": [
        {
          "output_type": "stream",
          "name": "stdout",
          "text": [
            "Min: 01/01/2017 01:00:00 PM Max: 12/31/2021 12:50:00 PM\n"
          ]
        }
      ],
      "source": [
        "column_precipitation_open_data = precipitation_open_data[\"FechaObservacion\"]\n",
        "max_value_precipitation_open_data = column_precipitation_open_data.max()\n",
        "min_value_precipitation_open_data = column_precipitation_open_data.min()\n",
        "\n",
        "print(\"Min: \" + min_value_precipitation_open_data + \" Max: \" + max_value_precipitation_open_data)"
      ]
    },
    {
      "cell_type": "code",
      "source": [
        "precipitation_open_data.describe()"
      ],
      "metadata": {
        "colab": {
          "base_uri": "https://localhost:8080/",
          "height": 300
        },
        "id": "hpgEsssNQxkn",
        "outputId": "ee2aac2f-29b9-41ab-c269-54d6b074dc26"
      },
      "execution_count": 33,
      "outputs": [
        {
          "output_type": "execute_result",
          "data": {
            "text/plain": [
              "       CodigoEstacion  CodigoSensor  ValorObservado       Latitud  \\\n",
              "count        210641.0      210641.0   210641.000000  2.106410e+05   \n",
              "mean       24035430.0         240.0        0.014248  5.745917e+00   \n",
              "std               0.0           0.0        0.160308  8.881805e-16   \n",
              "min        24035430.0         240.0        0.000000  5.745917e+00   \n",
              "25%        24035430.0         240.0        0.000000  5.745917e+00   \n",
              "50%        24035430.0         240.0        0.000000  5.745917e+00   \n",
              "75%        24035430.0         240.0        0.000000  5.745917e+00   \n",
              "max        24035430.0         240.0       12.900000  5.745917e+00   \n",
              "\n",
              "           Longitud  \n",
              "count  2.106410e+05  \n",
              "mean  -7.311636e+01  \n",
              "std    1.421089e-14  \n",
              "min   -7.311636e+01  \n",
              "25%   -7.311636e+01  \n",
              "50%   -7.311636e+01  \n",
              "75%   -7.311636e+01  \n",
              "max   -7.311636e+01  "
            ],
            "text/html": [
              "\n",
              "  <div id=\"df-a85d7d67-2ad3-4ab1-83df-f6cdbc4816b0\">\n",
              "    <div class=\"colab-df-container\">\n",
              "      <div>\n",
              "<style scoped>\n",
              "    .dataframe tbody tr th:only-of-type {\n",
              "        vertical-align: middle;\n",
              "    }\n",
              "\n",
              "    .dataframe tbody tr th {\n",
              "        vertical-align: top;\n",
              "    }\n",
              "\n",
              "    .dataframe thead th {\n",
              "        text-align: right;\n",
              "    }\n",
              "</style>\n",
              "<table border=\"1\" class=\"dataframe\">\n",
              "  <thead>\n",
              "    <tr style=\"text-align: right;\">\n",
              "      <th></th>\n",
              "      <th>CodigoEstacion</th>\n",
              "      <th>CodigoSensor</th>\n",
              "      <th>ValorObservado</th>\n",
              "      <th>Latitud</th>\n",
              "      <th>Longitud</th>\n",
              "    </tr>\n",
              "  </thead>\n",
              "  <tbody>\n",
              "    <tr>\n",
              "      <th>count</th>\n",
              "      <td>210641.0</td>\n",
              "      <td>210641.0</td>\n",
              "      <td>210641.000000</td>\n",
              "      <td>2.106410e+05</td>\n",
              "      <td>2.106410e+05</td>\n",
              "    </tr>\n",
              "    <tr>\n",
              "      <th>mean</th>\n",
              "      <td>24035430.0</td>\n",
              "      <td>240.0</td>\n",
              "      <td>0.014248</td>\n",
              "      <td>5.745917e+00</td>\n",
              "      <td>-7.311636e+01</td>\n",
              "    </tr>\n",
              "    <tr>\n",
              "      <th>std</th>\n",
              "      <td>0.0</td>\n",
              "      <td>0.0</td>\n",
              "      <td>0.160308</td>\n",
              "      <td>8.881805e-16</td>\n",
              "      <td>1.421089e-14</td>\n",
              "    </tr>\n",
              "    <tr>\n",
              "      <th>min</th>\n",
              "      <td>24035430.0</td>\n",
              "      <td>240.0</td>\n",
              "      <td>0.000000</td>\n",
              "      <td>5.745917e+00</td>\n",
              "      <td>-7.311636e+01</td>\n",
              "    </tr>\n",
              "    <tr>\n",
              "      <th>25%</th>\n",
              "      <td>24035430.0</td>\n",
              "      <td>240.0</td>\n",
              "      <td>0.000000</td>\n",
              "      <td>5.745917e+00</td>\n",
              "      <td>-7.311636e+01</td>\n",
              "    </tr>\n",
              "    <tr>\n",
              "      <th>50%</th>\n",
              "      <td>24035430.0</td>\n",
              "      <td>240.0</td>\n",
              "      <td>0.000000</td>\n",
              "      <td>5.745917e+00</td>\n",
              "      <td>-7.311636e+01</td>\n",
              "    </tr>\n",
              "    <tr>\n",
              "      <th>75%</th>\n",
              "      <td>24035430.0</td>\n",
              "      <td>240.0</td>\n",
              "      <td>0.000000</td>\n",
              "      <td>5.745917e+00</td>\n",
              "      <td>-7.311636e+01</td>\n",
              "    </tr>\n",
              "    <tr>\n",
              "      <th>max</th>\n",
              "      <td>24035430.0</td>\n",
              "      <td>240.0</td>\n",
              "      <td>12.900000</td>\n",
              "      <td>5.745917e+00</td>\n",
              "      <td>-7.311636e+01</td>\n",
              "    </tr>\n",
              "  </tbody>\n",
              "</table>\n",
              "</div>\n",
              "      <button class=\"colab-df-convert\" onclick=\"convertToInteractive('df-a85d7d67-2ad3-4ab1-83df-f6cdbc4816b0')\"\n",
              "              title=\"Convert this dataframe to an interactive table.\"\n",
              "              style=\"display:none;\">\n",
              "        \n",
              "  <svg xmlns=\"http://www.w3.org/2000/svg\" height=\"24px\"viewBox=\"0 0 24 24\"\n",
              "       width=\"24px\">\n",
              "    <path d=\"M0 0h24v24H0V0z\" fill=\"none\"/>\n",
              "    <path d=\"M18.56 5.44l.94 2.06.94-2.06 2.06-.94-2.06-.94-.94-2.06-.94 2.06-2.06.94zm-11 1L8.5 8.5l.94-2.06 2.06-.94-2.06-.94L8.5 2.5l-.94 2.06-2.06.94zm10 10l.94 2.06.94-2.06 2.06-.94-2.06-.94-.94-2.06-.94 2.06-2.06.94z\"/><path d=\"M17.41 7.96l-1.37-1.37c-.4-.4-.92-.59-1.43-.59-.52 0-1.04.2-1.43.59L10.3 9.45l-7.72 7.72c-.78.78-.78 2.05 0 2.83L4 21.41c.39.39.9.59 1.41.59.51 0 1.02-.2 1.41-.59l7.78-7.78 2.81-2.81c.8-.78.8-2.07 0-2.86zM5.41 20L4 18.59l7.72-7.72 1.47 1.35L5.41 20z\"/>\n",
              "  </svg>\n",
              "      </button>\n",
              "      \n",
              "  <style>\n",
              "    .colab-df-container {\n",
              "      display:flex;\n",
              "      flex-wrap:wrap;\n",
              "      gap: 12px;\n",
              "    }\n",
              "\n",
              "    .colab-df-convert {\n",
              "      background-color: #E8F0FE;\n",
              "      border: none;\n",
              "      border-radius: 50%;\n",
              "      cursor: pointer;\n",
              "      display: none;\n",
              "      fill: #1967D2;\n",
              "      height: 32px;\n",
              "      padding: 0 0 0 0;\n",
              "      width: 32px;\n",
              "    }\n",
              "\n",
              "    .colab-df-convert:hover {\n",
              "      background-color: #E2EBFA;\n",
              "      box-shadow: 0px 1px 2px rgba(60, 64, 67, 0.3), 0px 1px 3px 1px rgba(60, 64, 67, 0.15);\n",
              "      fill: #174EA6;\n",
              "    }\n",
              "\n",
              "    [theme=dark] .colab-df-convert {\n",
              "      background-color: #3B4455;\n",
              "      fill: #D2E3FC;\n",
              "    }\n",
              "\n",
              "    [theme=dark] .colab-df-convert:hover {\n",
              "      background-color: #434B5C;\n",
              "      box-shadow: 0px 1px 3px 1px rgba(0, 0, 0, 0.15);\n",
              "      filter: drop-shadow(0px 1px 2px rgba(0, 0, 0, 0.3));\n",
              "      fill: #FFFFFF;\n",
              "    }\n",
              "  </style>\n",
              "\n",
              "      <script>\n",
              "        const buttonEl =\n",
              "          document.querySelector('#df-a85d7d67-2ad3-4ab1-83df-f6cdbc4816b0 button.colab-df-convert');\n",
              "        buttonEl.style.display =\n",
              "          google.colab.kernel.accessAllowed ? 'block' : 'none';\n",
              "\n",
              "        async function convertToInteractive(key) {\n",
              "          const element = document.querySelector('#df-a85d7d67-2ad3-4ab1-83df-f6cdbc4816b0');\n",
              "          const dataTable =\n",
              "            await google.colab.kernel.invokeFunction('convertToInteractive',\n",
              "                                                     [key], {});\n",
              "          if (!dataTable) return;\n",
              "\n",
              "          const docLinkHtml = 'Like what you see? Visit the ' +\n",
              "            '<a target=\"_blank\" href=https://colab.research.google.com/notebooks/data_table.ipynb>data table notebook</a>'\n",
              "            + ' to learn more about interactive tables.';\n",
              "          element.innerHTML = '';\n",
              "          dataTable['output_type'] = 'display_data';\n",
              "          await google.colab.output.renderOutput(dataTable, element);\n",
              "          const docLink = document.createElement('div');\n",
              "          docLink.innerHTML = docLinkHtml;\n",
              "          element.appendChild(docLink);\n",
              "        }\n",
              "      </script>\n",
              "    </div>\n",
              "  </div>\n",
              "  "
            ]
          },
          "metadata": {},
          "execution_count": 33
        }
      ]
    },
    {
      "cell_type": "code",
      "execution_count": 34,
      "metadata": {
        "id": "Eqk5KMv2ovsr"
      },
      "outputs": [],
      "source": [
        "precipitation_open_data['Date'] = pd.to_datetime(precipitation_open_data['FechaObservacion']).dt.date\n",
        "precipitation_open_data = precipitation_open_data.groupby(['Date']).sum('ValorObservado')"
      ]
    },
    {
      "cell_type": "code",
      "execution_count": 35,
      "metadata": {
        "id": "5pgoMJjWW-iU"
      },
      "outputs": [],
      "source": [
        "precipitation_open_data['PrecipitationValue'] = precipitation_open_data['ValorObservado']"
      ]
    },
    {
      "cell_type": "code",
      "execution_count": 36,
      "metadata": {
        "colab": {
          "base_uri": "https://localhost:8080/"
        },
        "id": "QSGDeAprtoyl",
        "outputId": "a3614114-925e-4896-fd7f-1c646db95303"
      },
      "outputs": [
        {
          "output_type": "stream",
          "name": "stdout",
          "text": [
            "<class 'pandas.core.frame.DataFrame'>\n",
            "Index: 1543 entries, 2017-01-01 to 2022-06-28\n",
            "Data columns (total 6 columns):\n",
            " #   Column              Non-Null Count  Dtype  \n",
            "---  ------              --------------  -----  \n",
            " 0   CodigoEstacion      1543 non-null   int64  \n",
            " 1   CodigoSensor        1543 non-null   int64  \n",
            " 2   ValorObservado      1543 non-null   float64\n",
            " 3   Latitud             1543 non-null   float64\n",
            " 4   Longitud            1543 non-null   float64\n",
            " 5   PrecipitationValue  1543 non-null   float64\n",
            "dtypes: float64(4), int64(2)\n",
            "memory usage: 84.4+ KB\n"
          ]
        }
      ],
      "source": [
        "precipitation_open_data.info()"
      ]
    },
    {
      "cell_type": "code",
      "source": [
        "column_precipitation = precipitation[\"Fecha\"]\n",
        "max_value_precipitation = column_precipitation.max()\n",
        "min_value_precipitation = column_precipitation.min()\n",
        "\n",
        "print(\"Min: \" + min_value_precipitation + \" Max: \" + max_value_precipitation)\n",
        "\n",
        "precipitation['Date'] = pd.to_datetime(precipitation['Fecha']).dt.date"
      ],
      "metadata": {
        "colab": {
          "base_uri": "https://localhost:8080/"
        },
        "id": "y99y4SLgLxjB",
        "outputId": "32c3f80a-68d2-46f6-f324-e78e7d4a6d43"
      },
      "execution_count": 37,
      "outputs": [
        {
          "output_type": "stream",
          "name": "stdout",
          "text": [
            "Min: 2017-01-02 00:00 Max: 2022-01-01 00:00\n"
          ]
        }
      ]
    },
    {
      "cell_type": "code",
      "execution_count": 38,
      "metadata": {
        "colab": {
          "base_uri": "https://localhost:8080/"
        },
        "id": "YkgdiCLzufBx",
        "outputId": "401b74fb-0d47-4cfe-8aa6-f34a924973e3"
      },
      "outputs": [
        {
          "output_type": "stream",
          "name": "stdout",
          "text": [
            "<class 'pandas.core.frame.DataFrame'>\n",
            "Index: 7291 entries, 2000-12-31 to 2021-12-31\n",
            "Data columns (total 10 columns):\n",
            " #   Column           Non-Null Count  Dtype  \n",
            "---  ------           --------------  -----  \n",
            " 0   CodigoEstacion   7291 non-null   float64\n",
            " 1   Latitud          7291 non-null   float64\n",
            " 2   Longitud         7291 non-null   float64\n",
            " 3   Altitud          7291 non-null   float64\n",
            " 4   FechaSuspension  0 non-null      float64\n",
            " 5   Valor            7291 non-null   float64\n",
            " 6   Grado            7291 non-null   float64\n",
            " 7   Calificador      0 non-null      float64\n",
            " 8   NivelAprobacion  7291 non-null   float64\n",
            " 9   SunValue         7291 non-null   float64\n",
            "dtypes: float64(10)\n",
            "memory usage: 626.6+ KB\n"
          ]
        }
      ],
      "source": [
        "sun.info()"
      ]
    },
    {
      "cell_type": "code",
      "execution_count": 39,
      "metadata": {
        "colab": {
          "base_uri": "https://localhost:8080/"
        },
        "id": "R0j6EG0Tv_1b",
        "outputId": "f40c0ffa-0557-4e7c-ee37-40d3e29e2ccc"
      },
      "outputs": [
        {
          "output_type": "execute_result",
          "data": {
            "text/plain": [
              "datetime.date(2021, 7, 31)"
            ]
          },
          "metadata": {},
          "execution_count": 39
        }
      ],
      "source": [
        "humidity.Date.max()"
      ]
    },
    {
      "cell_type": "code",
      "execution_count": 40,
      "metadata": {
        "colab": {
          "base_uri": "https://localhost:8080/"
        },
        "id": "FRHqOQ6HwtK-",
        "outputId": "698ceb6f-a680-4924-988b-54150d3c0869"
      },
      "outputs": [
        {
          "output_type": "execute_result",
          "data": {
            "text/plain": [
              "datetime.date(2001, 1, 1)"
            ]
          },
          "metadata": {},
          "execution_count": 40
        }
      ],
      "source": [
        "humidity.Date.min()"
      ]
    },
    {
      "cell_type": "code",
      "execution_count": 41,
      "metadata": {
        "colab": {
          "base_uri": "https://localhost:8080/"
        },
        "id": "j3My2BIZygLU",
        "outputId": "a4cb69a5-1d4b-4c24-9d46-f451bde9707c"
      },
      "outputs": [
        {
          "output_type": "execute_result",
          "data": {
            "text/plain": [
              "datetime.date(2022, 1, 1)"
            ]
          },
          "metadata": {},
          "execution_count": 41
        }
      ],
      "source": [
        "temmax.Date.max()"
      ]
    },
    {
      "cell_type": "code",
      "execution_count": 42,
      "metadata": {
        "colab": {
          "base_uri": "https://localhost:8080/"
        },
        "id": "Iz3cTNXDyjP8",
        "outputId": "b7fcdebd-583c-4c3b-bc1d-e24429e68c10"
      },
      "outputs": [
        {
          "output_type": "execute_result",
          "data": {
            "text/plain": [
              "datetime.date(2001, 1, 1)"
            ]
          },
          "metadata": {},
          "execution_count": 42
        }
      ],
      "source": [
        "temmax.Date.min()"
      ]
    },
    {
      "cell_type": "code",
      "execution_count": 43,
      "metadata": {
        "colab": {
          "base_uri": "https://localhost:8080/"
        },
        "id": "H4igp0sbyu6-",
        "outputId": "eec4499f-da9e-4f4a-8f38-71c34f75cc3e"
      },
      "outputs": [
        {
          "output_type": "execute_result",
          "data": {
            "text/plain": [
              "datetime.date(2022, 1, 1)"
            ]
          },
          "metadata": {},
          "execution_count": 43
        }
      ],
      "source": [
        "temmin.Date.max()"
      ]
    },
    {
      "cell_type": "code",
      "execution_count": 44,
      "metadata": {
        "colab": {
          "base_uri": "https://localhost:8080/"
        },
        "id": "OfpDCRQLyxk5",
        "outputId": "bc29ab77-84a4-4f2c-f652-5aef5c1efacf"
      },
      "outputs": [
        {
          "output_type": "execute_result",
          "data": {
            "text/plain": [
              "datetime.date(2001, 1, 1)"
            ]
          },
          "metadata": {},
          "execution_count": 44
        }
      ],
      "source": [
        "temmin.Date.min()"
      ]
    },
    {
      "cell_type": "markdown",
      "metadata": {
        "id": "DRrrM9_vdYuD"
      },
      "source": [
        "# Build Data Set"
      ]
    },
    {
      "cell_type": "markdown",
      "metadata": {
        "id": "YRhbrdX9dlzF"
      },
      "source": [
        "## Sun"
      ]
    },
    {
      "cell_type": "code",
      "execution_count": 45,
      "metadata": {
        "id": "AqMXL3nwdlgJ"
      },
      "outputs": [],
      "source": [
        "x_sun = sun[['SunValue']]"
      ]
    },
    {
      "cell_type": "code",
      "execution_count": 46,
      "metadata": {
        "colab": {
          "base_uri": "https://localhost:8080/"
        },
        "id": "QZLx9Si2mIc7",
        "outputId": "0a723eda-6724-439d-fbac-d3182e96e05d"
      },
      "outputs": [
        {
          "output_type": "stream",
          "name": "stdout",
          "text": [
            "<class 'pandas.core.frame.DataFrame'>\n",
            "Index: 7291 entries, 2000-12-31 to 2021-12-31\n",
            "Data columns (total 1 columns):\n",
            " #   Column    Non-Null Count  Dtype  \n",
            "---  ------    --------------  -----  \n",
            " 0   SunValue  7291 non-null   float64\n",
            "dtypes: float64(1)\n",
            "memory usage: 113.9+ KB\n"
          ]
        }
      ],
      "source": [
        "x_sun.info()"
      ]
    },
    {
      "cell_type": "code",
      "execution_count": 47,
      "metadata": {
        "colab": {
          "base_uri": "https://localhost:8080/",
          "height": 300
        },
        "id": "MN3bVHLn3HwW",
        "outputId": "3c194dfa-7b8c-4a62-e01c-339afa602c0b"
      },
      "outputs": [
        {
          "output_type": "execute_result",
          "data": {
            "text/plain": [
              "          SunValue\n",
              "count  7291.000000\n",
              "mean      0.299643\n",
              "std       0.183576\n",
              "min       0.000000\n",
              "25%       0.150000\n",
              "50%       0.292857\n",
              "75%       0.435714\n",
              "max       0.757143"
            ],
            "text/html": [
              "\n",
              "  <div id=\"df-7f56d76c-e2bc-410b-8436-150a5a8c8a27\">\n",
              "    <div class=\"colab-df-container\">\n",
              "      <div>\n",
              "<style scoped>\n",
              "    .dataframe tbody tr th:only-of-type {\n",
              "        vertical-align: middle;\n",
              "    }\n",
              "\n",
              "    .dataframe tbody tr th {\n",
              "        vertical-align: top;\n",
              "    }\n",
              "\n",
              "    .dataframe thead th {\n",
              "        text-align: right;\n",
              "    }\n",
              "</style>\n",
              "<table border=\"1\" class=\"dataframe\">\n",
              "  <thead>\n",
              "    <tr style=\"text-align: right;\">\n",
              "      <th></th>\n",
              "      <th>SunValue</th>\n",
              "    </tr>\n",
              "  </thead>\n",
              "  <tbody>\n",
              "    <tr>\n",
              "      <th>count</th>\n",
              "      <td>7291.000000</td>\n",
              "    </tr>\n",
              "    <tr>\n",
              "      <th>mean</th>\n",
              "      <td>0.299643</td>\n",
              "    </tr>\n",
              "    <tr>\n",
              "      <th>std</th>\n",
              "      <td>0.183576</td>\n",
              "    </tr>\n",
              "    <tr>\n",
              "      <th>min</th>\n",
              "      <td>0.000000</td>\n",
              "    </tr>\n",
              "    <tr>\n",
              "      <th>25%</th>\n",
              "      <td>0.150000</td>\n",
              "    </tr>\n",
              "    <tr>\n",
              "      <th>50%</th>\n",
              "      <td>0.292857</td>\n",
              "    </tr>\n",
              "    <tr>\n",
              "      <th>75%</th>\n",
              "      <td>0.435714</td>\n",
              "    </tr>\n",
              "    <tr>\n",
              "      <th>max</th>\n",
              "      <td>0.757143</td>\n",
              "    </tr>\n",
              "  </tbody>\n",
              "</table>\n",
              "</div>\n",
              "      <button class=\"colab-df-convert\" onclick=\"convertToInteractive('df-7f56d76c-e2bc-410b-8436-150a5a8c8a27')\"\n",
              "              title=\"Convert this dataframe to an interactive table.\"\n",
              "              style=\"display:none;\">\n",
              "        \n",
              "  <svg xmlns=\"http://www.w3.org/2000/svg\" height=\"24px\"viewBox=\"0 0 24 24\"\n",
              "       width=\"24px\">\n",
              "    <path d=\"M0 0h24v24H0V0z\" fill=\"none\"/>\n",
              "    <path d=\"M18.56 5.44l.94 2.06.94-2.06 2.06-.94-2.06-.94-.94-2.06-.94 2.06-2.06.94zm-11 1L8.5 8.5l.94-2.06 2.06-.94-2.06-.94L8.5 2.5l-.94 2.06-2.06.94zm10 10l.94 2.06.94-2.06 2.06-.94-2.06-.94-.94-2.06-.94 2.06-2.06.94z\"/><path d=\"M17.41 7.96l-1.37-1.37c-.4-.4-.92-.59-1.43-.59-.52 0-1.04.2-1.43.59L10.3 9.45l-7.72 7.72c-.78.78-.78 2.05 0 2.83L4 21.41c.39.39.9.59 1.41.59.51 0 1.02-.2 1.41-.59l7.78-7.78 2.81-2.81c.8-.78.8-2.07 0-2.86zM5.41 20L4 18.59l7.72-7.72 1.47 1.35L5.41 20z\"/>\n",
              "  </svg>\n",
              "      </button>\n",
              "      \n",
              "  <style>\n",
              "    .colab-df-container {\n",
              "      display:flex;\n",
              "      flex-wrap:wrap;\n",
              "      gap: 12px;\n",
              "    }\n",
              "\n",
              "    .colab-df-convert {\n",
              "      background-color: #E8F0FE;\n",
              "      border: none;\n",
              "      border-radius: 50%;\n",
              "      cursor: pointer;\n",
              "      display: none;\n",
              "      fill: #1967D2;\n",
              "      height: 32px;\n",
              "      padding: 0 0 0 0;\n",
              "      width: 32px;\n",
              "    }\n",
              "\n",
              "    .colab-df-convert:hover {\n",
              "      background-color: #E2EBFA;\n",
              "      box-shadow: 0px 1px 2px rgba(60, 64, 67, 0.3), 0px 1px 3px 1px rgba(60, 64, 67, 0.15);\n",
              "      fill: #174EA6;\n",
              "    }\n",
              "\n",
              "    [theme=dark] .colab-df-convert {\n",
              "      background-color: #3B4455;\n",
              "      fill: #D2E3FC;\n",
              "    }\n",
              "\n",
              "    [theme=dark] .colab-df-convert:hover {\n",
              "      background-color: #434B5C;\n",
              "      box-shadow: 0px 1px 3px 1px rgba(0, 0, 0, 0.15);\n",
              "      filter: drop-shadow(0px 1px 2px rgba(0, 0, 0, 0.3));\n",
              "      fill: #FFFFFF;\n",
              "    }\n",
              "  </style>\n",
              "\n",
              "      <script>\n",
              "        const buttonEl =\n",
              "          document.querySelector('#df-7f56d76c-e2bc-410b-8436-150a5a8c8a27 button.colab-df-convert');\n",
              "        buttonEl.style.display =\n",
              "          google.colab.kernel.accessAllowed ? 'block' : 'none';\n",
              "\n",
              "        async function convertToInteractive(key) {\n",
              "          const element = document.querySelector('#df-7f56d76c-e2bc-410b-8436-150a5a8c8a27');\n",
              "          const dataTable =\n",
              "            await google.colab.kernel.invokeFunction('convertToInteractive',\n",
              "                                                     [key], {});\n",
              "          if (!dataTable) return;\n",
              "\n",
              "          const docLinkHtml = 'Like what you see? Visit the ' +\n",
              "            '<a target=\"_blank\" href=https://colab.research.google.com/notebooks/data_table.ipynb>data table notebook</a>'\n",
              "            + ' to learn more about interactive tables.';\n",
              "          element.innerHTML = '';\n",
              "          dataTable['output_type'] = 'display_data';\n",
              "          await google.colab.output.renderOutput(dataTable, element);\n",
              "          const docLink = document.createElement('div');\n",
              "          docLink.innerHTML = docLinkHtml;\n",
              "          element.appendChild(docLink);\n",
              "        }\n",
              "      </script>\n",
              "    </div>\n",
              "  </div>\n",
              "  "
            ]
          },
          "metadata": {},
          "execution_count": 47
        }
      ],
      "source": [
        "x_sun.describe()"
      ]
    },
    {
      "cell_type": "markdown",
      "metadata": {
        "id": "_IFcishido7u"
      },
      "source": [
        "## Temperature Min"
      ]
    },
    {
      "cell_type": "code",
      "execution_count": 48,
      "metadata": {
        "id": "51pq7aBhdcLo"
      },
      "outputs": [],
      "source": [
        "x_temmin = temmin[['Date', 'TemMinValue']]"
      ]
    },
    {
      "cell_type": "code",
      "execution_count": 49,
      "metadata": {
        "colab": {
          "base_uri": "https://localhost:8080/"
        },
        "id": "4DLUikygmWyF",
        "outputId": "0fefa35d-f769-4299-c597-a10677e121c7"
      },
      "outputs": [
        {
          "output_type": "stream",
          "name": "stdout",
          "text": [
            "<class 'pandas.core.frame.DataFrame'>\n",
            "RangeIndex: 7049 entries, 0 to 7048\n",
            "Data columns (total 2 columns):\n",
            " #   Column       Non-Null Count  Dtype  \n",
            "---  ------       --------------  -----  \n",
            " 0   Date         7049 non-null   object \n",
            " 1   TemMinValue  7049 non-null   float64\n",
            "dtypes: float64(1), object(1)\n",
            "memory usage: 110.3+ KB\n"
          ]
        }
      ],
      "source": [
        "x_temmin.info()"
      ]
    },
    {
      "cell_type": "code",
      "execution_count": 50,
      "metadata": {
        "colab": {
          "base_uri": "https://localhost:8080/",
          "height": 300
        },
        "id": "9FK5Mwjl3Q-k",
        "outputId": "1ac5ea49-f76b-415a-f44f-1e149a9aa73d"
      },
      "outputs": [
        {
          "output_type": "execute_result",
          "data": {
            "text/plain": [
              "       TemMinValue\n",
              "count  7049.000000\n",
              "mean      7.260817\n",
              "std       2.669100\n",
              "min      -5.200000\n",
              "25%       5.400000\n",
              "50%       7.400000\n",
              "75%       9.400000\n",
              "max      13.600000"
            ],
            "text/html": [
              "\n",
              "  <div id=\"df-42520fe2-a521-4a89-9055-7978b34eab8d\">\n",
              "    <div class=\"colab-df-container\">\n",
              "      <div>\n",
              "<style scoped>\n",
              "    .dataframe tbody tr th:only-of-type {\n",
              "        vertical-align: middle;\n",
              "    }\n",
              "\n",
              "    .dataframe tbody tr th {\n",
              "        vertical-align: top;\n",
              "    }\n",
              "\n",
              "    .dataframe thead th {\n",
              "        text-align: right;\n",
              "    }\n",
              "</style>\n",
              "<table border=\"1\" class=\"dataframe\">\n",
              "  <thead>\n",
              "    <tr style=\"text-align: right;\">\n",
              "      <th></th>\n",
              "      <th>TemMinValue</th>\n",
              "    </tr>\n",
              "  </thead>\n",
              "  <tbody>\n",
              "    <tr>\n",
              "      <th>count</th>\n",
              "      <td>7049.000000</td>\n",
              "    </tr>\n",
              "    <tr>\n",
              "      <th>mean</th>\n",
              "      <td>7.260817</td>\n",
              "    </tr>\n",
              "    <tr>\n",
              "      <th>std</th>\n",
              "      <td>2.669100</td>\n",
              "    </tr>\n",
              "    <tr>\n",
              "      <th>min</th>\n",
              "      <td>-5.200000</td>\n",
              "    </tr>\n",
              "    <tr>\n",
              "      <th>25%</th>\n",
              "      <td>5.400000</td>\n",
              "    </tr>\n",
              "    <tr>\n",
              "      <th>50%</th>\n",
              "      <td>7.400000</td>\n",
              "    </tr>\n",
              "    <tr>\n",
              "      <th>75%</th>\n",
              "      <td>9.400000</td>\n",
              "    </tr>\n",
              "    <tr>\n",
              "      <th>max</th>\n",
              "      <td>13.600000</td>\n",
              "    </tr>\n",
              "  </tbody>\n",
              "</table>\n",
              "</div>\n",
              "      <button class=\"colab-df-convert\" onclick=\"convertToInteractive('df-42520fe2-a521-4a89-9055-7978b34eab8d')\"\n",
              "              title=\"Convert this dataframe to an interactive table.\"\n",
              "              style=\"display:none;\">\n",
              "        \n",
              "  <svg xmlns=\"http://www.w3.org/2000/svg\" height=\"24px\"viewBox=\"0 0 24 24\"\n",
              "       width=\"24px\">\n",
              "    <path d=\"M0 0h24v24H0V0z\" fill=\"none\"/>\n",
              "    <path d=\"M18.56 5.44l.94 2.06.94-2.06 2.06-.94-2.06-.94-.94-2.06-.94 2.06-2.06.94zm-11 1L8.5 8.5l.94-2.06 2.06-.94-2.06-.94L8.5 2.5l-.94 2.06-2.06.94zm10 10l.94 2.06.94-2.06 2.06-.94-2.06-.94-.94-2.06-.94 2.06-2.06.94z\"/><path d=\"M17.41 7.96l-1.37-1.37c-.4-.4-.92-.59-1.43-.59-.52 0-1.04.2-1.43.59L10.3 9.45l-7.72 7.72c-.78.78-.78 2.05 0 2.83L4 21.41c.39.39.9.59 1.41.59.51 0 1.02-.2 1.41-.59l7.78-7.78 2.81-2.81c.8-.78.8-2.07 0-2.86zM5.41 20L4 18.59l7.72-7.72 1.47 1.35L5.41 20z\"/>\n",
              "  </svg>\n",
              "      </button>\n",
              "      \n",
              "  <style>\n",
              "    .colab-df-container {\n",
              "      display:flex;\n",
              "      flex-wrap:wrap;\n",
              "      gap: 12px;\n",
              "    }\n",
              "\n",
              "    .colab-df-convert {\n",
              "      background-color: #E8F0FE;\n",
              "      border: none;\n",
              "      border-radius: 50%;\n",
              "      cursor: pointer;\n",
              "      display: none;\n",
              "      fill: #1967D2;\n",
              "      height: 32px;\n",
              "      padding: 0 0 0 0;\n",
              "      width: 32px;\n",
              "    }\n",
              "\n",
              "    .colab-df-convert:hover {\n",
              "      background-color: #E2EBFA;\n",
              "      box-shadow: 0px 1px 2px rgba(60, 64, 67, 0.3), 0px 1px 3px 1px rgba(60, 64, 67, 0.15);\n",
              "      fill: #174EA6;\n",
              "    }\n",
              "\n",
              "    [theme=dark] .colab-df-convert {\n",
              "      background-color: #3B4455;\n",
              "      fill: #D2E3FC;\n",
              "    }\n",
              "\n",
              "    [theme=dark] .colab-df-convert:hover {\n",
              "      background-color: #434B5C;\n",
              "      box-shadow: 0px 1px 3px 1px rgba(0, 0, 0, 0.15);\n",
              "      filter: drop-shadow(0px 1px 2px rgba(0, 0, 0, 0.3));\n",
              "      fill: #FFFFFF;\n",
              "    }\n",
              "  </style>\n",
              "\n",
              "      <script>\n",
              "        const buttonEl =\n",
              "          document.querySelector('#df-42520fe2-a521-4a89-9055-7978b34eab8d button.colab-df-convert');\n",
              "        buttonEl.style.display =\n",
              "          google.colab.kernel.accessAllowed ? 'block' : 'none';\n",
              "\n",
              "        async function convertToInteractive(key) {\n",
              "          const element = document.querySelector('#df-42520fe2-a521-4a89-9055-7978b34eab8d');\n",
              "          const dataTable =\n",
              "            await google.colab.kernel.invokeFunction('convertToInteractive',\n",
              "                                                     [key], {});\n",
              "          if (!dataTable) return;\n",
              "\n",
              "          const docLinkHtml = 'Like what you see? Visit the ' +\n",
              "            '<a target=\"_blank\" href=https://colab.research.google.com/notebooks/data_table.ipynb>data table notebook</a>'\n",
              "            + ' to learn more about interactive tables.';\n",
              "          element.innerHTML = '';\n",
              "          dataTable['output_type'] = 'display_data';\n",
              "          await google.colab.output.renderOutput(dataTable, element);\n",
              "          const docLink = document.createElement('div');\n",
              "          docLink.innerHTML = docLinkHtml;\n",
              "          element.appendChild(docLink);\n",
              "        }\n",
              "      </script>\n",
              "    </div>\n",
              "  </div>\n",
              "  "
            ]
          },
          "metadata": {},
          "execution_count": 50
        }
      ],
      "source": [
        "x_temmin.describe()"
      ]
    },
    {
      "cell_type": "markdown",
      "metadata": {
        "id": "uK3Aid5Hdzc-"
      },
      "source": [
        "## Temperature Max"
      ]
    },
    {
      "cell_type": "code",
      "execution_count": 51,
      "metadata": {
        "id": "IWi50w8bd02b"
      },
      "outputs": [],
      "source": [
        "x_temmax = temmax[['Date', 'TemMaxValue']]"
      ]
    },
    {
      "cell_type": "code",
      "execution_count": 52,
      "metadata": {
        "colab": {
          "base_uri": "https://localhost:8080/"
        },
        "id": "w3Y3Tw_Um-hT",
        "outputId": "7ebf30cc-df01-4987-9988-c05e27307371"
      },
      "outputs": [
        {
          "output_type": "stream",
          "name": "stdout",
          "text": [
            "<class 'pandas.core.frame.DataFrame'>\n",
            "RangeIndex: 7054 entries, 0 to 7053\n",
            "Data columns (total 2 columns):\n",
            " #   Column       Non-Null Count  Dtype  \n",
            "---  ------       --------------  -----  \n",
            " 0   Date         7054 non-null   object \n",
            " 1   TemMaxValue  7054 non-null   float64\n",
            "dtypes: float64(1), object(1)\n",
            "memory usage: 110.3+ KB\n"
          ]
        }
      ],
      "source": [
        "x_temmax.info()"
      ]
    },
    {
      "cell_type": "code",
      "execution_count": 53,
      "metadata": {
        "colab": {
          "base_uri": "https://localhost:8080/",
          "height": 300
        },
        "id": "cj2iCeq73TC6",
        "outputId": "0d31a64a-cb26-4c6f-cb8b-9ccc4c8c8826"
      },
      "outputs": [
        {
          "output_type": "execute_result",
          "data": {
            "text/plain": [
              "       TemMaxValue\n",
              "count  7054.000000\n",
              "mean     22.174936\n",
              "std       1.856672\n",
              "min      11.800000\n",
              "25%      21.000000\n",
              "50%      22.200000\n",
              "75%      23.400000\n",
              "max      29.000000"
            ],
            "text/html": [
              "\n",
              "  <div id=\"df-13cdf6b9-21b3-4253-b66a-0532f8a49f68\">\n",
              "    <div class=\"colab-df-container\">\n",
              "      <div>\n",
              "<style scoped>\n",
              "    .dataframe tbody tr th:only-of-type {\n",
              "        vertical-align: middle;\n",
              "    }\n",
              "\n",
              "    .dataframe tbody tr th {\n",
              "        vertical-align: top;\n",
              "    }\n",
              "\n",
              "    .dataframe thead th {\n",
              "        text-align: right;\n",
              "    }\n",
              "</style>\n",
              "<table border=\"1\" class=\"dataframe\">\n",
              "  <thead>\n",
              "    <tr style=\"text-align: right;\">\n",
              "      <th></th>\n",
              "      <th>TemMaxValue</th>\n",
              "    </tr>\n",
              "  </thead>\n",
              "  <tbody>\n",
              "    <tr>\n",
              "      <th>count</th>\n",
              "      <td>7054.000000</td>\n",
              "    </tr>\n",
              "    <tr>\n",
              "      <th>mean</th>\n",
              "      <td>22.174936</td>\n",
              "    </tr>\n",
              "    <tr>\n",
              "      <th>std</th>\n",
              "      <td>1.856672</td>\n",
              "    </tr>\n",
              "    <tr>\n",
              "      <th>min</th>\n",
              "      <td>11.800000</td>\n",
              "    </tr>\n",
              "    <tr>\n",
              "      <th>25%</th>\n",
              "      <td>21.000000</td>\n",
              "    </tr>\n",
              "    <tr>\n",
              "      <th>50%</th>\n",
              "      <td>22.200000</td>\n",
              "    </tr>\n",
              "    <tr>\n",
              "      <th>75%</th>\n",
              "      <td>23.400000</td>\n",
              "    </tr>\n",
              "    <tr>\n",
              "      <th>max</th>\n",
              "      <td>29.000000</td>\n",
              "    </tr>\n",
              "  </tbody>\n",
              "</table>\n",
              "</div>\n",
              "      <button class=\"colab-df-convert\" onclick=\"convertToInteractive('df-13cdf6b9-21b3-4253-b66a-0532f8a49f68')\"\n",
              "              title=\"Convert this dataframe to an interactive table.\"\n",
              "              style=\"display:none;\">\n",
              "        \n",
              "  <svg xmlns=\"http://www.w3.org/2000/svg\" height=\"24px\"viewBox=\"0 0 24 24\"\n",
              "       width=\"24px\">\n",
              "    <path d=\"M0 0h24v24H0V0z\" fill=\"none\"/>\n",
              "    <path d=\"M18.56 5.44l.94 2.06.94-2.06 2.06-.94-2.06-.94-.94-2.06-.94 2.06-2.06.94zm-11 1L8.5 8.5l.94-2.06 2.06-.94-2.06-.94L8.5 2.5l-.94 2.06-2.06.94zm10 10l.94 2.06.94-2.06 2.06-.94-2.06-.94-.94-2.06-.94 2.06-2.06.94z\"/><path d=\"M17.41 7.96l-1.37-1.37c-.4-.4-.92-.59-1.43-.59-.52 0-1.04.2-1.43.59L10.3 9.45l-7.72 7.72c-.78.78-.78 2.05 0 2.83L4 21.41c.39.39.9.59 1.41.59.51 0 1.02-.2 1.41-.59l7.78-7.78 2.81-2.81c.8-.78.8-2.07 0-2.86zM5.41 20L4 18.59l7.72-7.72 1.47 1.35L5.41 20z\"/>\n",
              "  </svg>\n",
              "      </button>\n",
              "      \n",
              "  <style>\n",
              "    .colab-df-container {\n",
              "      display:flex;\n",
              "      flex-wrap:wrap;\n",
              "      gap: 12px;\n",
              "    }\n",
              "\n",
              "    .colab-df-convert {\n",
              "      background-color: #E8F0FE;\n",
              "      border: none;\n",
              "      border-radius: 50%;\n",
              "      cursor: pointer;\n",
              "      display: none;\n",
              "      fill: #1967D2;\n",
              "      height: 32px;\n",
              "      padding: 0 0 0 0;\n",
              "      width: 32px;\n",
              "    }\n",
              "\n",
              "    .colab-df-convert:hover {\n",
              "      background-color: #E2EBFA;\n",
              "      box-shadow: 0px 1px 2px rgba(60, 64, 67, 0.3), 0px 1px 3px 1px rgba(60, 64, 67, 0.15);\n",
              "      fill: #174EA6;\n",
              "    }\n",
              "\n",
              "    [theme=dark] .colab-df-convert {\n",
              "      background-color: #3B4455;\n",
              "      fill: #D2E3FC;\n",
              "    }\n",
              "\n",
              "    [theme=dark] .colab-df-convert:hover {\n",
              "      background-color: #434B5C;\n",
              "      box-shadow: 0px 1px 3px 1px rgba(0, 0, 0, 0.15);\n",
              "      filter: drop-shadow(0px 1px 2px rgba(0, 0, 0, 0.3));\n",
              "      fill: #FFFFFF;\n",
              "    }\n",
              "  </style>\n",
              "\n",
              "      <script>\n",
              "        const buttonEl =\n",
              "          document.querySelector('#df-13cdf6b9-21b3-4253-b66a-0532f8a49f68 button.colab-df-convert');\n",
              "        buttonEl.style.display =\n",
              "          google.colab.kernel.accessAllowed ? 'block' : 'none';\n",
              "\n",
              "        async function convertToInteractive(key) {\n",
              "          const element = document.querySelector('#df-13cdf6b9-21b3-4253-b66a-0532f8a49f68');\n",
              "          const dataTable =\n",
              "            await google.colab.kernel.invokeFunction('convertToInteractive',\n",
              "                                                     [key], {});\n",
              "          if (!dataTable) return;\n",
              "\n",
              "          const docLinkHtml = 'Like what you see? Visit the ' +\n",
              "            '<a target=\"_blank\" href=https://colab.research.google.com/notebooks/data_table.ipynb>data table notebook</a>'\n",
              "            + ' to learn more about interactive tables.';\n",
              "          element.innerHTML = '';\n",
              "          dataTable['output_type'] = 'display_data';\n",
              "          await google.colab.output.renderOutput(dataTable, element);\n",
              "          const docLink = document.createElement('div');\n",
              "          docLink.innerHTML = docLinkHtml;\n",
              "          element.appendChild(docLink);\n",
              "        }\n",
              "      </script>\n",
              "    </div>\n",
              "  </div>\n",
              "  "
            ]
          },
          "metadata": {},
          "execution_count": 53
        }
      ],
      "source": [
        "x_temmax.describe()"
      ]
    },
    {
      "cell_type": "markdown",
      "metadata": {
        "id": "7XbqxyQBd1e_"
      },
      "source": [
        "## Humidity"
      ]
    },
    {
      "cell_type": "code",
      "execution_count": 54,
      "metadata": {
        "id": "4xYz7_j8d47n"
      },
      "outputs": [],
      "source": [
        "x_humidity = humidity[['Date', 'HumidityValue']]"
      ]
    },
    {
      "cell_type": "code",
      "execution_count": 55,
      "metadata": {
        "colab": {
          "base_uri": "https://localhost:8080/"
        },
        "id": "bo19wjaunCZ8",
        "outputId": "ee73422a-3259-411d-d320-bc0e1694fe1e"
      },
      "outputs": [
        {
          "output_type": "stream",
          "name": "stdout",
          "text": [
            "<class 'pandas.core.frame.DataFrame'>\n",
            "RangeIndex: 5714 entries, 0 to 5713\n",
            "Data columns (total 2 columns):\n",
            " #   Column         Non-Null Count  Dtype \n",
            "---  ------         --------------  ----- \n",
            " 0   Date           5714 non-null   object\n",
            " 1   HumidityValue  5714 non-null   int64 \n",
            "dtypes: int64(1), object(1)\n",
            "memory usage: 89.4+ KB\n"
          ]
        }
      ],
      "source": [
        "x_humidity.info()"
      ]
    },
    {
      "cell_type": "code",
      "execution_count": 56,
      "metadata": {
        "colab": {
          "base_uri": "https://localhost:8080/",
          "height": 300
        },
        "id": "1oXhDeLQ3Vic",
        "outputId": "73060572-f7e0-4699-b5ec-c24ad3da6725"
      },
      "outputs": [
        {
          "output_type": "execute_result",
          "data": {
            "text/plain": [
              "       HumidityValue\n",
              "count    5714.000000\n",
              "mean       55.136857\n",
              "std        13.800160\n",
              "min       -24.000000\n",
              "25%        46.000000\n",
              "50%        55.000000\n",
              "75%        64.000000\n",
              "max       100.000000"
            ],
            "text/html": [
              "\n",
              "  <div id=\"df-59f316ea-ef97-41e4-a578-b2ca4597e512\">\n",
              "    <div class=\"colab-df-container\">\n",
              "      <div>\n",
              "<style scoped>\n",
              "    .dataframe tbody tr th:only-of-type {\n",
              "        vertical-align: middle;\n",
              "    }\n",
              "\n",
              "    .dataframe tbody tr th {\n",
              "        vertical-align: top;\n",
              "    }\n",
              "\n",
              "    .dataframe thead th {\n",
              "        text-align: right;\n",
              "    }\n",
              "</style>\n",
              "<table border=\"1\" class=\"dataframe\">\n",
              "  <thead>\n",
              "    <tr style=\"text-align: right;\">\n",
              "      <th></th>\n",
              "      <th>HumidityValue</th>\n",
              "    </tr>\n",
              "  </thead>\n",
              "  <tbody>\n",
              "    <tr>\n",
              "      <th>count</th>\n",
              "      <td>5714.000000</td>\n",
              "    </tr>\n",
              "    <tr>\n",
              "      <th>mean</th>\n",
              "      <td>55.136857</td>\n",
              "    </tr>\n",
              "    <tr>\n",
              "      <th>std</th>\n",
              "      <td>13.800160</td>\n",
              "    </tr>\n",
              "    <tr>\n",
              "      <th>min</th>\n",
              "      <td>-24.000000</td>\n",
              "    </tr>\n",
              "    <tr>\n",
              "      <th>25%</th>\n",
              "      <td>46.000000</td>\n",
              "    </tr>\n",
              "    <tr>\n",
              "      <th>50%</th>\n",
              "      <td>55.000000</td>\n",
              "    </tr>\n",
              "    <tr>\n",
              "      <th>75%</th>\n",
              "      <td>64.000000</td>\n",
              "    </tr>\n",
              "    <tr>\n",
              "      <th>max</th>\n",
              "      <td>100.000000</td>\n",
              "    </tr>\n",
              "  </tbody>\n",
              "</table>\n",
              "</div>\n",
              "      <button class=\"colab-df-convert\" onclick=\"convertToInteractive('df-59f316ea-ef97-41e4-a578-b2ca4597e512')\"\n",
              "              title=\"Convert this dataframe to an interactive table.\"\n",
              "              style=\"display:none;\">\n",
              "        \n",
              "  <svg xmlns=\"http://www.w3.org/2000/svg\" height=\"24px\"viewBox=\"0 0 24 24\"\n",
              "       width=\"24px\">\n",
              "    <path d=\"M0 0h24v24H0V0z\" fill=\"none\"/>\n",
              "    <path d=\"M18.56 5.44l.94 2.06.94-2.06 2.06-.94-2.06-.94-.94-2.06-.94 2.06-2.06.94zm-11 1L8.5 8.5l.94-2.06 2.06-.94-2.06-.94L8.5 2.5l-.94 2.06-2.06.94zm10 10l.94 2.06.94-2.06 2.06-.94-2.06-.94-.94-2.06-.94 2.06-2.06.94z\"/><path d=\"M17.41 7.96l-1.37-1.37c-.4-.4-.92-.59-1.43-.59-.52 0-1.04.2-1.43.59L10.3 9.45l-7.72 7.72c-.78.78-.78 2.05 0 2.83L4 21.41c.39.39.9.59 1.41.59.51 0 1.02-.2 1.41-.59l7.78-7.78 2.81-2.81c.8-.78.8-2.07 0-2.86zM5.41 20L4 18.59l7.72-7.72 1.47 1.35L5.41 20z\"/>\n",
              "  </svg>\n",
              "      </button>\n",
              "      \n",
              "  <style>\n",
              "    .colab-df-container {\n",
              "      display:flex;\n",
              "      flex-wrap:wrap;\n",
              "      gap: 12px;\n",
              "    }\n",
              "\n",
              "    .colab-df-convert {\n",
              "      background-color: #E8F0FE;\n",
              "      border: none;\n",
              "      border-radius: 50%;\n",
              "      cursor: pointer;\n",
              "      display: none;\n",
              "      fill: #1967D2;\n",
              "      height: 32px;\n",
              "      padding: 0 0 0 0;\n",
              "      width: 32px;\n",
              "    }\n",
              "\n",
              "    .colab-df-convert:hover {\n",
              "      background-color: #E2EBFA;\n",
              "      box-shadow: 0px 1px 2px rgba(60, 64, 67, 0.3), 0px 1px 3px 1px rgba(60, 64, 67, 0.15);\n",
              "      fill: #174EA6;\n",
              "    }\n",
              "\n",
              "    [theme=dark] .colab-df-convert {\n",
              "      background-color: #3B4455;\n",
              "      fill: #D2E3FC;\n",
              "    }\n",
              "\n",
              "    [theme=dark] .colab-df-convert:hover {\n",
              "      background-color: #434B5C;\n",
              "      box-shadow: 0px 1px 3px 1px rgba(0, 0, 0, 0.15);\n",
              "      filter: drop-shadow(0px 1px 2px rgba(0, 0, 0, 0.3));\n",
              "      fill: #FFFFFF;\n",
              "    }\n",
              "  </style>\n",
              "\n",
              "      <script>\n",
              "        const buttonEl =\n",
              "          document.querySelector('#df-59f316ea-ef97-41e4-a578-b2ca4597e512 button.colab-df-convert');\n",
              "        buttonEl.style.display =\n",
              "          google.colab.kernel.accessAllowed ? 'block' : 'none';\n",
              "\n",
              "        async function convertToInteractive(key) {\n",
              "          const element = document.querySelector('#df-59f316ea-ef97-41e4-a578-b2ca4597e512');\n",
              "          const dataTable =\n",
              "            await google.colab.kernel.invokeFunction('convertToInteractive',\n",
              "                                                     [key], {});\n",
              "          if (!dataTable) return;\n",
              "\n",
              "          const docLinkHtml = 'Like what you see? Visit the ' +\n",
              "            '<a target=\"_blank\" href=https://colab.research.google.com/notebooks/data_table.ipynb>data table notebook</a>'\n",
              "            + ' to learn more about interactive tables.';\n",
              "          element.innerHTML = '';\n",
              "          dataTable['output_type'] = 'display_data';\n",
              "          await google.colab.output.renderOutput(dataTable, element);\n",
              "          const docLink = document.createElement('div');\n",
              "          docLink.innerHTML = docLinkHtml;\n",
              "          element.appendChild(docLink);\n",
              "        }\n",
              "      </script>\n",
              "    </div>\n",
              "  </div>\n",
              "  "
            ]
          },
          "metadata": {},
          "execution_count": 56
        }
      ],
      "source": [
        "x_humidity.describe()"
      ]
    },
    {
      "cell_type": "markdown",
      "metadata": {
        "id": "5Jectp4vd5ka"
      },
      "source": [
        "## Precipitation"
      ]
    },
    {
      "cell_type": "code",
      "execution_count": 57,
      "metadata": {
        "id": "9gULnTSwd7GJ"
      },
      "outputs": [],
      "source": [
        "x_precipitation = precipitation_open_data['PrecipitationValue']"
      ]
    },
    {
      "cell_type": "code",
      "execution_count": 58,
      "metadata": {
        "colab": {
          "base_uri": "https://localhost:8080/"
        },
        "id": "pCESFUkPnUXw",
        "outputId": "a789ec42-ae49-44b5-9201-ef457c8d3ba1"
      },
      "outputs": [
        {
          "output_type": "execute_result",
          "data": {
            "text/plain": [
              "Date\n",
              "2017-01-01     0.0\n",
              "2017-01-02     0.0\n",
              "2017-01-03     0.0\n",
              "2017-01-04     0.0\n",
              "2017-01-05     0.4\n",
              "              ... \n",
              "2022-06-24     3.5\n",
              "2022-06-25     2.0\n",
              "2022-06-26    10.6\n",
              "2022-06-27     7.6\n",
              "2022-06-28     8.9\n",
              "Name: PrecipitationValue, Length: 1543, dtype: float64"
            ]
          },
          "metadata": {},
          "execution_count": 58
        }
      ],
      "source": [
        "x_precipitation"
      ]
    },
    {
      "cell_type": "code",
      "execution_count": 59,
      "metadata": {
        "colab": {
          "base_uri": "https://localhost:8080/"
        },
        "id": "qaj-VJuC3ZKF",
        "outputId": "885c4edd-e558-4363-b7fc-869d7caf5a3f"
      },
      "outputs": [
        {
          "output_type": "execute_result",
          "data": {
            "text/plain": [
              "count    1543.000000\n",
              "mean        1.945042\n",
              "std         4.158717\n",
              "min         0.000000\n",
              "25%         0.000000\n",
              "50%         0.100000\n",
              "75%         1.600000\n",
              "max        36.700000\n",
              "Name: PrecipitationValue, dtype: float64"
            ]
          },
          "metadata": {},
          "execution_count": 59
        }
      ],
      "source": [
        "x_precipitation.describe()"
      ]
    },
    {
      "cell_type": "markdown",
      "metadata": {
        "id": "m-Gd-uY7erMX"
      },
      "source": [
        "## Join Datasets"
      ]
    },
    {
      "cell_type": "code",
      "execution_count": 60,
      "metadata": {
        "id": "3lbKS9HIppkH"
      },
      "outputs": [],
      "source": [
        "dataset = pd.merge(pd.merge(pd.merge(pd.merge(x_sun,x_temmin,on='Date'),x_temmax,on='Date'),x_humidity,on='Date'),x_precipitation,on='Date')"
      ]
    },
    {
      "cell_type": "code",
      "execution_count": 61,
      "metadata": {
        "colab": {
          "base_uri": "https://localhost:8080/",
          "height": 300
        },
        "id": "8CA-tbc_ADeG",
        "outputId": "7cd02f5a-2a1f-42c4-926d-d6500fc0629a"
      },
      "outputs": [
        {
          "output_type": "execute_result",
          "data": {
            "text/plain": [
              "          SunValue  TemMinValue  TemMaxValue  HumidityValue  \\\n",
              "count  1024.000000  1024.000000  1024.000000    1024.000000   \n",
              "mean      0.294662     7.822168    22.635938      52.551758   \n",
              "std       0.177637     2.658818     1.721350      13.172710   \n",
              "min       0.000000    -3.000000    11.800000       9.000000   \n",
              "25%       0.150000     6.150000    21.600000      45.000000   \n",
              "50%       0.278571     8.000000    22.600000      52.000000   \n",
              "75%       0.428571    10.000000    23.800000      59.250000   \n",
              "max       0.735714    13.600000    28.000000     100.000000   \n",
              "\n",
              "       PrecipitationValue  \n",
              "count         1024.000000  \n",
              "mean             1.937598  \n",
              "std              4.276621  \n",
              "min              0.000000  \n",
              "25%              0.000000  \n",
              "50%              0.100000  \n",
              "75%              1.500000  \n",
              "max             36.700000  "
            ],
            "text/html": [
              "\n",
              "  <div id=\"df-043be4c6-be95-4978-b826-e8bda1d115b4\">\n",
              "    <div class=\"colab-df-container\">\n",
              "      <div>\n",
              "<style scoped>\n",
              "    .dataframe tbody tr th:only-of-type {\n",
              "        vertical-align: middle;\n",
              "    }\n",
              "\n",
              "    .dataframe tbody tr th {\n",
              "        vertical-align: top;\n",
              "    }\n",
              "\n",
              "    .dataframe thead th {\n",
              "        text-align: right;\n",
              "    }\n",
              "</style>\n",
              "<table border=\"1\" class=\"dataframe\">\n",
              "  <thead>\n",
              "    <tr style=\"text-align: right;\">\n",
              "      <th></th>\n",
              "      <th>SunValue</th>\n",
              "      <th>TemMinValue</th>\n",
              "      <th>TemMaxValue</th>\n",
              "      <th>HumidityValue</th>\n",
              "      <th>PrecipitationValue</th>\n",
              "    </tr>\n",
              "  </thead>\n",
              "  <tbody>\n",
              "    <tr>\n",
              "      <th>count</th>\n",
              "      <td>1024.000000</td>\n",
              "      <td>1024.000000</td>\n",
              "      <td>1024.000000</td>\n",
              "      <td>1024.000000</td>\n",
              "      <td>1024.000000</td>\n",
              "    </tr>\n",
              "    <tr>\n",
              "      <th>mean</th>\n",
              "      <td>0.294662</td>\n",
              "      <td>7.822168</td>\n",
              "      <td>22.635938</td>\n",
              "      <td>52.551758</td>\n",
              "      <td>1.937598</td>\n",
              "    </tr>\n",
              "    <tr>\n",
              "      <th>std</th>\n",
              "      <td>0.177637</td>\n",
              "      <td>2.658818</td>\n",
              "      <td>1.721350</td>\n",
              "      <td>13.172710</td>\n",
              "      <td>4.276621</td>\n",
              "    </tr>\n",
              "    <tr>\n",
              "      <th>min</th>\n",
              "      <td>0.000000</td>\n",
              "      <td>-3.000000</td>\n",
              "      <td>11.800000</td>\n",
              "      <td>9.000000</td>\n",
              "      <td>0.000000</td>\n",
              "    </tr>\n",
              "    <tr>\n",
              "      <th>25%</th>\n",
              "      <td>0.150000</td>\n",
              "      <td>6.150000</td>\n",
              "      <td>21.600000</td>\n",
              "      <td>45.000000</td>\n",
              "      <td>0.000000</td>\n",
              "    </tr>\n",
              "    <tr>\n",
              "      <th>50%</th>\n",
              "      <td>0.278571</td>\n",
              "      <td>8.000000</td>\n",
              "      <td>22.600000</td>\n",
              "      <td>52.000000</td>\n",
              "      <td>0.100000</td>\n",
              "    </tr>\n",
              "    <tr>\n",
              "      <th>75%</th>\n",
              "      <td>0.428571</td>\n",
              "      <td>10.000000</td>\n",
              "      <td>23.800000</td>\n",
              "      <td>59.250000</td>\n",
              "      <td>1.500000</td>\n",
              "    </tr>\n",
              "    <tr>\n",
              "      <th>max</th>\n",
              "      <td>0.735714</td>\n",
              "      <td>13.600000</td>\n",
              "      <td>28.000000</td>\n",
              "      <td>100.000000</td>\n",
              "      <td>36.700000</td>\n",
              "    </tr>\n",
              "  </tbody>\n",
              "</table>\n",
              "</div>\n",
              "      <button class=\"colab-df-convert\" onclick=\"convertToInteractive('df-043be4c6-be95-4978-b826-e8bda1d115b4')\"\n",
              "              title=\"Convert this dataframe to an interactive table.\"\n",
              "              style=\"display:none;\">\n",
              "        \n",
              "  <svg xmlns=\"http://www.w3.org/2000/svg\" height=\"24px\"viewBox=\"0 0 24 24\"\n",
              "       width=\"24px\">\n",
              "    <path d=\"M0 0h24v24H0V0z\" fill=\"none\"/>\n",
              "    <path d=\"M18.56 5.44l.94 2.06.94-2.06 2.06-.94-2.06-.94-.94-2.06-.94 2.06-2.06.94zm-11 1L8.5 8.5l.94-2.06 2.06-.94-2.06-.94L8.5 2.5l-.94 2.06-2.06.94zm10 10l.94 2.06.94-2.06 2.06-.94-2.06-.94-.94-2.06-.94 2.06-2.06.94z\"/><path d=\"M17.41 7.96l-1.37-1.37c-.4-.4-.92-.59-1.43-.59-.52 0-1.04.2-1.43.59L10.3 9.45l-7.72 7.72c-.78.78-.78 2.05 0 2.83L4 21.41c.39.39.9.59 1.41.59.51 0 1.02-.2 1.41-.59l7.78-7.78 2.81-2.81c.8-.78.8-2.07 0-2.86zM5.41 20L4 18.59l7.72-7.72 1.47 1.35L5.41 20z\"/>\n",
              "  </svg>\n",
              "      </button>\n",
              "      \n",
              "  <style>\n",
              "    .colab-df-container {\n",
              "      display:flex;\n",
              "      flex-wrap:wrap;\n",
              "      gap: 12px;\n",
              "    }\n",
              "\n",
              "    .colab-df-convert {\n",
              "      background-color: #E8F0FE;\n",
              "      border: none;\n",
              "      border-radius: 50%;\n",
              "      cursor: pointer;\n",
              "      display: none;\n",
              "      fill: #1967D2;\n",
              "      height: 32px;\n",
              "      padding: 0 0 0 0;\n",
              "      width: 32px;\n",
              "    }\n",
              "\n",
              "    .colab-df-convert:hover {\n",
              "      background-color: #E2EBFA;\n",
              "      box-shadow: 0px 1px 2px rgba(60, 64, 67, 0.3), 0px 1px 3px 1px rgba(60, 64, 67, 0.15);\n",
              "      fill: #174EA6;\n",
              "    }\n",
              "\n",
              "    [theme=dark] .colab-df-convert {\n",
              "      background-color: #3B4455;\n",
              "      fill: #D2E3FC;\n",
              "    }\n",
              "\n",
              "    [theme=dark] .colab-df-convert:hover {\n",
              "      background-color: #434B5C;\n",
              "      box-shadow: 0px 1px 3px 1px rgba(0, 0, 0, 0.15);\n",
              "      filter: drop-shadow(0px 1px 2px rgba(0, 0, 0, 0.3));\n",
              "      fill: #FFFFFF;\n",
              "    }\n",
              "  </style>\n",
              "\n",
              "      <script>\n",
              "        const buttonEl =\n",
              "          document.querySelector('#df-043be4c6-be95-4978-b826-e8bda1d115b4 button.colab-df-convert');\n",
              "        buttonEl.style.display =\n",
              "          google.colab.kernel.accessAllowed ? 'block' : 'none';\n",
              "\n",
              "        async function convertToInteractive(key) {\n",
              "          const element = document.querySelector('#df-043be4c6-be95-4978-b826-e8bda1d115b4');\n",
              "          const dataTable =\n",
              "            await google.colab.kernel.invokeFunction('convertToInteractive',\n",
              "                                                     [key], {});\n",
              "          if (!dataTable) return;\n",
              "\n",
              "          const docLinkHtml = 'Like what you see? Visit the ' +\n",
              "            '<a target=\"_blank\" href=https://colab.research.google.com/notebooks/data_table.ipynb>data table notebook</a>'\n",
              "            + ' to learn more about interactive tables.';\n",
              "          element.innerHTML = '';\n",
              "          dataTable['output_type'] = 'display_data';\n",
              "          await google.colab.output.renderOutput(dataTable, element);\n",
              "          const docLink = document.createElement('div');\n",
              "          docLink.innerHTML = docLinkHtml;\n",
              "          element.appendChild(docLink);\n",
              "        }\n",
              "      </script>\n",
              "    </div>\n",
              "  </div>\n",
              "  "
            ]
          },
          "metadata": {},
          "execution_count": 61
        }
      ],
      "source": [
        "dataset.describe()"
      ]
    },
    {
      "cell_type": "markdown",
      "metadata": {
        "id": "1z_Jet0yzNPx"
      },
      "source": [
        "## Export Dataset General"
      ]
    },
    {
      "cell_type": "code",
      "execution_count": 62,
      "metadata": {
        "colab": {
          "base_uri": "https://localhost:8080/"
        },
        "id": "-ghHDrlODsiK",
        "outputId": "980ab857-6afe-4b50-c93b-2031703f6578"
      },
      "outputs": [
        {
          "output_type": "stream",
          "name": "stdout",
          "text": [
            "Collecting netCDF4\n",
            "  Downloading netCDF4-1.6.4-cp310-cp310-manylinux_2_17_x86_64.manylinux2014_x86_64.whl (5.4 MB)\n",
            "\u001b[2K     \u001b[90m━━━━━━━━━━━━━━━━━━━━━━━━━━━━━━━━━━━━━━━━\u001b[0m \u001b[32m5.4/5.4 MB\u001b[0m \u001b[31m67.6 MB/s\u001b[0m eta \u001b[36m0:00:00\u001b[0m\n",
            "\u001b[?25hCollecting cftime (from netCDF4)\n",
            "  Downloading cftime-1.6.2-cp310-cp310-manylinux_2_17_x86_64.manylinux2014_x86_64.whl (1.2 MB)\n",
            "\u001b[2K     \u001b[90m━━━━━━━━━━━━━━━━━━━━━━━━━━━━━━━━━━━━━━━━\u001b[0m \u001b[32m1.2/1.2 MB\u001b[0m \u001b[31m65.2 MB/s\u001b[0m eta \u001b[36m0:00:00\u001b[0m\n",
            "\u001b[?25hRequirement already satisfied: certifi in /usr/local/lib/python3.10/dist-packages (from netCDF4) (2023.5.7)\n",
            "Requirement already satisfied: numpy in /usr/local/lib/python3.10/dist-packages (from netCDF4) (1.22.4)\n",
            "Installing collected packages: cftime, netCDF4\n",
            "Successfully installed cftime-1.6.2 netCDF4-1.6.4\n"
          ]
        }
      ],
      "source": [
        "!pip install netCDF4"
      ]
    },
    {
      "cell_type": "code",
      "execution_count": 63,
      "metadata": {
        "id": "YuXh4OjZzQh0"
      },
      "outputs": [],
      "source": [
        "import xarray\n",
        "import netCDF4 as nc4\n",
        "\n",
        "dataset_export = dataset\n",
        "dataset_export['latitude']= 5.724998\n",
        "dataset_export['longitude']= -73.125008\n",
        "\n",
        "# convert the 'Date' column to datetime format\n",
        "dataset_export['Date']= pd.to_datetime(dataset_export['Date'])\n",
        "\n",
        "dataset_export.rename(columns = {'Date':'time'}, inplace = True)\n",
        "dataset_export.rename(columns = {'SunValue':'sun'}, inplace = True)\n",
        "dataset_export.rename(columns = {'TemMinValue':'temmin'}, inplace = True)\n",
        "dataset_export.rename(columns = {'TemMaxValue':'temmax'}, inplace = True)\n",
        "dataset_export.rename(columns = {'HumidityValue':'humidity'}, inplace = True)\n",
        "dataset_export.rename(columns = {'PrecipitationValue':'precip'}, inplace = True)\n",
        "\n",
        "# Create xray Dataset from Pandas DataFrame\n",
        "xr = dataset_export.set_index(['time']).to_xarray()\n",
        "\n",
        "# add variable attribute metadata\n",
        "xr['latitude'].attrs={'units':'degrees', 'long_name':'Latitude'}\n",
        "xr['longitude'].attrs={'units':'degrees', 'long_name':'Longitude'}\n",
        "xr['precip'].attrs={'units':'mm/day', 'long_name':'Precipitation'}\n",
        "\n",
        "\n",
        "# add global attribute metadata\n",
        "xr.attrs={'Conventions':'CF-1.6', 'title':'Data IDEAM', 'summary':'Data generated'}\n",
        "\n",
        "# save to netCDF\n",
        "xr.to_netcdf('/content/drive/MyDrive/phd/deployment proyect/phd/Rainfall Prediction UPTC/Data/Stations Boyacá 2022/datos/IDEAM_2017_2021.nc', engine='netcdf4')"
      ]
    },
    {
      "cell_type": "markdown",
      "source": [
        "## Export alone Precipitation: Datos abiertos"
      ],
      "metadata": {
        "id": "J2nttAQ7Je--"
      }
    },
    {
      "cell_type": "code",
      "source": [
        "dataset_export_precip = precipitation_open_data\n",
        "\n",
        "dataset_export_precip.rename(columns = {'Date':'time'}, inplace = True)\n",
        "dataset_export_precip.rename(columns = {'Longitud':'longitude'}, inplace = True)\n",
        "dataset_export_precip.rename(columns = {'Latitud':'latitude'}, inplace = True)\n",
        "dataset_export_precip.rename(columns = {'ValorObservado':'precip'}, inplace = True)\n",
        "\n",
        "# Create xray Dataset from Pandas DataFrame\n",
        "xr = dataset_export.set_index(['time']).to_xarray()\n",
        "\n",
        "# add variable attribute metadata\n",
        "xr['latitude'].attrs={'units':'degrees', 'long_name':'Latitude'}\n",
        "xr['longitude'].attrs={'units':'degrees', 'long_name':'Longitude'}\n",
        "xr['precip'].attrs={'units':'mm/day', 'long_name':'Precipitation'}\n",
        "\n",
        "\n",
        "# add global attribute metadata\n",
        "xr.attrs={'Conventions':'CF-1.6', 'title':'Data IDEAM', 'summary':'Data generated'}\n",
        "\n",
        "# save to netCDF\n",
        "xr.to_netcdf('/content/drive/MyDrive/phd/deployment proyect/phd/Rainfall Prediction UPTC/Data/Stations Boyacá 2022/datos/DATOS_ABIERTOS_2017_2021_PRECIP.nc', engine='netcdf4')"
      ],
      "metadata": {
        "id": "NdsORI42Ja8w"
      },
      "execution_count": 64,
      "outputs": []
    },
    {
      "cell_type": "markdown",
      "source": [
        "## Export alone Precipitation: IDEAM"
      ],
      "metadata": {
        "id": "ffnpEf8TM-PK"
      }
    },
    {
      "cell_type": "code",
      "source": [
        "dataset_export_precip_ideam = precipitation\n",
        "\n",
        "dataset_export_precip_ideam.rename(columns = {'Date':'time'}, inplace = True)\n",
        "dataset_export_precip_ideam.rename(columns = {'Longitud':'longitude'}, inplace = True)\n",
        "dataset_export_precip_ideam.rename(columns = {'Latitud':'latitude'}, inplace = True)\n",
        "dataset_export_precip_ideam.rename(columns = {'Valor':'precip'}, inplace = True)\n",
        "\n",
        "# Create xray Dataset from Pandas DataFrame\n",
        "xr = dataset_export.set_index(['time']).to_xarray()\n",
        "\n",
        "# add variable attribute metadata\n",
        "xr['latitude'].attrs={'units':'degrees', 'long_name':'Latitude'}\n",
        "xr['longitude'].attrs={'units':'degrees', 'long_name':'Longitude'}\n",
        "xr['precip'].attrs={'units':'mm/day', 'long_name':'Precipitation'}\n",
        "\n",
        "\n",
        "# add global attribute metadata\n",
        "xr.attrs={'Conventions':'CF-1.6', 'title':'Data IDEAM', 'summary':'Data generated'}\n",
        "\n",
        "# save to netCDF\n",
        "xr.to_netcdf('/content/drive/MyDrive/phd/deployment proyect/phd/Rainfall Prediction UPTC/Data/Stations Boyacá 2022/datos/IDEAM_2017_2021_PRECIP.nc', engine='netcdf4')"
      ],
      "metadata": {
        "id": "KQqLga8hMoqB"
      },
      "execution_count": 65,
      "outputs": []
    },
    {
      "cell_type": "markdown",
      "metadata": {
        "id": "uBFU8HhQ5H5S"
      },
      "source": [
        "## Bulding; Year, Month, Day"
      ]
    },
    {
      "cell_type": "code",
      "source": [
        "dataset"
      ],
      "metadata": {
        "colab": {
          "base_uri": "https://localhost:8080/",
          "height": 424
        },
        "id": "0iO1dLnsWTLd",
        "outputId": "9e201538-a86e-418e-9b5e-94888f436bf8"
      },
      "execution_count": 66,
      "outputs": [
        {
          "output_type": "execute_result",
          "data": {
            "text/plain": [
              "           time       sun  temmin  temmax  humidity  precip  latitude  \\\n",
              "0    2017-02-01  0.478571     6.8    26.4        37     0.0  5.724998   \n",
              "1    2017-02-02  0.585714     7.4    22.8        42     0.0  5.724998   \n",
              "2    2017-02-04  0.435714     4.6    24.0        37     0.0  5.724998   \n",
              "3    2017-02-07  0.721429    -0.8    25.4        18     0.1  5.724998   \n",
              "4    2017-02-17  0.578571     0.8    21.4        45     0.1  5.724998   \n",
              "...         ...       ...     ...     ...       ...     ...       ...   \n",
              "1019 2021-07-27  0.228571     7.6    20.4        66     3.8  5.724998   \n",
              "1020 2021-07-28  0.064286    10.8    20.0        62     8.4  5.724998   \n",
              "1021 2021-07-29  0.000000    10.4    22.0        54     0.1  5.724998   \n",
              "1022 2021-07-30  0.207143     9.2    19.6        53     0.0  5.724998   \n",
              "1023 2021-07-31  0.557143     7.0    23.0        46     0.1  5.724998   \n",
              "\n",
              "      longitude  \n",
              "0    -73.125008  \n",
              "1    -73.125008  \n",
              "2    -73.125008  \n",
              "3    -73.125008  \n",
              "4    -73.125008  \n",
              "...         ...  \n",
              "1019 -73.125008  \n",
              "1020 -73.125008  \n",
              "1021 -73.125008  \n",
              "1022 -73.125008  \n",
              "1023 -73.125008  \n",
              "\n",
              "[1024 rows x 8 columns]"
            ],
            "text/html": [
              "\n",
              "  <div id=\"df-de62ccf6-5821-4146-8f9d-791e3f17cc5b\">\n",
              "    <div class=\"colab-df-container\">\n",
              "      <div>\n",
              "<style scoped>\n",
              "    .dataframe tbody tr th:only-of-type {\n",
              "        vertical-align: middle;\n",
              "    }\n",
              "\n",
              "    .dataframe tbody tr th {\n",
              "        vertical-align: top;\n",
              "    }\n",
              "\n",
              "    .dataframe thead th {\n",
              "        text-align: right;\n",
              "    }\n",
              "</style>\n",
              "<table border=\"1\" class=\"dataframe\">\n",
              "  <thead>\n",
              "    <tr style=\"text-align: right;\">\n",
              "      <th></th>\n",
              "      <th>time</th>\n",
              "      <th>sun</th>\n",
              "      <th>temmin</th>\n",
              "      <th>temmax</th>\n",
              "      <th>humidity</th>\n",
              "      <th>precip</th>\n",
              "      <th>latitude</th>\n",
              "      <th>longitude</th>\n",
              "    </tr>\n",
              "  </thead>\n",
              "  <tbody>\n",
              "    <tr>\n",
              "      <th>0</th>\n",
              "      <td>2017-02-01</td>\n",
              "      <td>0.478571</td>\n",
              "      <td>6.8</td>\n",
              "      <td>26.4</td>\n",
              "      <td>37</td>\n",
              "      <td>0.0</td>\n",
              "      <td>5.724998</td>\n",
              "      <td>-73.125008</td>\n",
              "    </tr>\n",
              "    <tr>\n",
              "      <th>1</th>\n",
              "      <td>2017-02-02</td>\n",
              "      <td>0.585714</td>\n",
              "      <td>7.4</td>\n",
              "      <td>22.8</td>\n",
              "      <td>42</td>\n",
              "      <td>0.0</td>\n",
              "      <td>5.724998</td>\n",
              "      <td>-73.125008</td>\n",
              "    </tr>\n",
              "    <tr>\n",
              "      <th>2</th>\n",
              "      <td>2017-02-04</td>\n",
              "      <td>0.435714</td>\n",
              "      <td>4.6</td>\n",
              "      <td>24.0</td>\n",
              "      <td>37</td>\n",
              "      <td>0.0</td>\n",
              "      <td>5.724998</td>\n",
              "      <td>-73.125008</td>\n",
              "    </tr>\n",
              "    <tr>\n",
              "      <th>3</th>\n",
              "      <td>2017-02-07</td>\n",
              "      <td>0.721429</td>\n",
              "      <td>-0.8</td>\n",
              "      <td>25.4</td>\n",
              "      <td>18</td>\n",
              "      <td>0.1</td>\n",
              "      <td>5.724998</td>\n",
              "      <td>-73.125008</td>\n",
              "    </tr>\n",
              "    <tr>\n",
              "      <th>4</th>\n",
              "      <td>2017-02-17</td>\n",
              "      <td>0.578571</td>\n",
              "      <td>0.8</td>\n",
              "      <td>21.4</td>\n",
              "      <td>45</td>\n",
              "      <td>0.1</td>\n",
              "      <td>5.724998</td>\n",
              "      <td>-73.125008</td>\n",
              "    </tr>\n",
              "    <tr>\n",
              "      <th>...</th>\n",
              "      <td>...</td>\n",
              "      <td>...</td>\n",
              "      <td>...</td>\n",
              "      <td>...</td>\n",
              "      <td>...</td>\n",
              "      <td>...</td>\n",
              "      <td>...</td>\n",
              "      <td>...</td>\n",
              "    </tr>\n",
              "    <tr>\n",
              "      <th>1019</th>\n",
              "      <td>2021-07-27</td>\n",
              "      <td>0.228571</td>\n",
              "      <td>7.6</td>\n",
              "      <td>20.4</td>\n",
              "      <td>66</td>\n",
              "      <td>3.8</td>\n",
              "      <td>5.724998</td>\n",
              "      <td>-73.125008</td>\n",
              "    </tr>\n",
              "    <tr>\n",
              "      <th>1020</th>\n",
              "      <td>2021-07-28</td>\n",
              "      <td>0.064286</td>\n",
              "      <td>10.8</td>\n",
              "      <td>20.0</td>\n",
              "      <td>62</td>\n",
              "      <td>8.4</td>\n",
              "      <td>5.724998</td>\n",
              "      <td>-73.125008</td>\n",
              "    </tr>\n",
              "    <tr>\n",
              "      <th>1021</th>\n",
              "      <td>2021-07-29</td>\n",
              "      <td>0.000000</td>\n",
              "      <td>10.4</td>\n",
              "      <td>22.0</td>\n",
              "      <td>54</td>\n",
              "      <td>0.1</td>\n",
              "      <td>5.724998</td>\n",
              "      <td>-73.125008</td>\n",
              "    </tr>\n",
              "    <tr>\n",
              "      <th>1022</th>\n",
              "      <td>2021-07-30</td>\n",
              "      <td>0.207143</td>\n",
              "      <td>9.2</td>\n",
              "      <td>19.6</td>\n",
              "      <td>53</td>\n",
              "      <td>0.0</td>\n",
              "      <td>5.724998</td>\n",
              "      <td>-73.125008</td>\n",
              "    </tr>\n",
              "    <tr>\n",
              "      <th>1023</th>\n",
              "      <td>2021-07-31</td>\n",
              "      <td>0.557143</td>\n",
              "      <td>7.0</td>\n",
              "      <td>23.0</td>\n",
              "      <td>46</td>\n",
              "      <td>0.1</td>\n",
              "      <td>5.724998</td>\n",
              "      <td>-73.125008</td>\n",
              "    </tr>\n",
              "  </tbody>\n",
              "</table>\n",
              "<p>1024 rows × 8 columns</p>\n",
              "</div>\n",
              "      <button class=\"colab-df-convert\" onclick=\"convertToInteractive('df-de62ccf6-5821-4146-8f9d-791e3f17cc5b')\"\n",
              "              title=\"Convert this dataframe to an interactive table.\"\n",
              "              style=\"display:none;\">\n",
              "        \n",
              "  <svg xmlns=\"http://www.w3.org/2000/svg\" height=\"24px\"viewBox=\"0 0 24 24\"\n",
              "       width=\"24px\">\n",
              "    <path d=\"M0 0h24v24H0V0z\" fill=\"none\"/>\n",
              "    <path d=\"M18.56 5.44l.94 2.06.94-2.06 2.06-.94-2.06-.94-.94-2.06-.94 2.06-2.06.94zm-11 1L8.5 8.5l.94-2.06 2.06-.94-2.06-.94L8.5 2.5l-.94 2.06-2.06.94zm10 10l.94 2.06.94-2.06 2.06-.94-2.06-.94-.94-2.06-.94 2.06-2.06.94z\"/><path d=\"M17.41 7.96l-1.37-1.37c-.4-.4-.92-.59-1.43-.59-.52 0-1.04.2-1.43.59L10.3 9.45l-7.72 7.72c-.78.78-.78 2.05 0 2.83L4 21.41c.39.39.9.59 1.41.59.51 0 1.02-.2 1.41-.59l7.78-7.78 2.81-2.81c.8-.78.8-2.07 0-2.86zM5.41 20L4 18.59l7.72-7.72 1.47 1.35L5.41 20z\"/>\n",
              "  </svg>\n",
              "      </button>\n",
              "      \n",
              "  <style>\n",
              "    .colab-df-container {\n",
              "      display:flex;\n",
              "      flex-wrap:wrap;\n",
              "      gap: 12px;\n",
              "    }\n",
              "\n",
              "    .colab-df-convert {\n",
              "      background-color: #E8F0FE;\n",
              "      border: none;\n",
              "      border-radius: 50%;\n",
              "      cursor: pointer;\n",
              "      display: none;\n",
              "      fill: #1967D2;\n",
              "      height: 32px;\n",
              "      padding: 0 0 0 0;\n",
              "      width: 32px;\n",
              "    }\n",
              "\n",
              "    .colab-df-convert:hover {\n",
              "      background-color: #E2EBFA;\n",
              "      box-shadow: 0px 1px 2px rgba(60, 64, 67, 0.3), 0px 1px 3px 1px rgba(60, 64, 67, 0.15);\n",
              "      fill: #174EA6;\n",
              "    }\n",
              "\n",
              "    [theme=dark] .colab-df-convert {\n",
              "      background-color: #3B4455;\n",
              "      fill: #D2E3FC;\n",
              "    }\n",
              "\n",
              "    [theme=dark] .colab-df-convert:hover {\n",
              "      background-color: #434B5C;\n",
              "      box-shadow: 0px 1px 3px 1px rgba(0, 0, 0, 0.15);\n",
              "      filter: drop-shadow(0px 1px 2px rgba(0, 0, 0, 0.3));\n",
              "      fill: #FFFFFF;\n",
              "    }\n",
              "  </style>\n",
              "\n",
              "      <script>\n",
              "        const buttonEl =\n",
              "          document.querySelector('#df-de62ccf6-5821-4146-8f9d-791e3f17cc5b button.colab-df-convert');\n",
              "        buttonEl.style.display =\n",
              "          google.colab.kernel.accessAllowed ? 'block' : 'none';\n",
              "\n",
              "        async function convertToInteractive(key) {\n",
              "          const element = document.querySelector('#df-de62ccf6-5821-4146-8f9d-791e3f17cc5b');\n",
              "          const dataTable =\n",
              "            await google.colab.kernel.invokeFunction('convertToInteractive',\n",
              "                                                     [key], {});\n",
              "          if (!dataTable) return;\n",
              "\n",
              "          const docLinkHtml = 'Like what you see? Visit the ' +\n",
              "            '<a target=\"_blank\" href=https://colab.research.google.com/notebooks/data_table.ipynb>data table notebook</a>'\n",
              "            + ' to learn more about interactive tables.';\n",
              "          element.innerHTML = '';\n",
              "          dataTable['output_type'] = 'display_data';\n",
              "          await google.colab.output.renderOutput(dataTable, element);\n",
              "          const docLink = document.createElement('div');\n",
              "          docLink.innerHTML = docLinkHtml;\n",
              "          element.appendChild(docLink);\n",
              "        }\n",
              "      </script>\n",
              "    </div>\n",
              "  </div>\n",
              "  "
            ]
          },
          "metadata": {},
          "execution_count": 66
        }
      ]
    },
    {
      "cell_type": "code",
      "execution_count": 67,
      "metadata": {
        "id": "QSM31mkXDND5"
      },
      "outputs": [],
      "source": [
        "dataset['year'] = pd.DatetimeIndex(dataset['time']).year\n",
        "dataset['month'] = pd.DatetimeIndex(dataset['time']).month\n",
        "dataset['day'] = pd.DatetimeIndex(dataset['time']).day"
      ]
    },
    {
      "cell_type": "code",
      "execution_count": 68,
      "metadata": {
        "id": "2_RN5C2ZDorP"
      },
      "outputs": [],
      "source": [
        "x = dataset[['year', 'month', 'day', 'temmax', 'temmin', 'humidity', 'sun']]\n",
        "x_MLR = dataset[['year', 'month', 'day', 'temmax', 'temmin', 'humidity', 'sun']]\n",
        "x_RF = dataset[['year', 'month', 'day', 'temmax', 'temmin', 'humidity', 'sun']]\n",
        "x_XGB = dataset[['year', 'month', 'day', 'temmax', 'temmin', 'humidity', 'sun']]\n",
        "x_MLP = dataset[['year', 'month', 'day', 'temmax', 'temmin', 'humidity', 'sun']]\n",
        "y = dataset[['precip']]"
      ]
    },
    {
      "cell_type": "code",
      "execution_count": 69,
      "metadata": {
        "colab": {
          "base_uri": "https://localhost:8080/",
          "height": 424
        },
        "id": "8Lcys3C4Eek3",
        "outputId": "afaf8272-1faa-4cc3-fb7b-1553b760ff73"
      },
      "outputs": [
        {
          "output_type": "execute_result",
          "data": {
            "text/plain": [
              "      year  month  day  temmax  temmin  humidity       sun\n",
              "0     2017      2    1    26.4     6.8        37  0.478571\n",
              "1     2017      2    2    22.8     7.4        42  0.585714\n",
              "2     2017      2    4    24.0     4.6        37  0.435714\n",
              "3     2017      2    7    25.4    -0.8        18  0.721429\n",
              "4     2017      2   17    21.4     0.8        45  0.578571\n",
              "...    ...    ...  ...     ...     ...       ...       ...\n",
              "1019  2021      7   27    20.4     7.6        66  0.228571\n",
              "1020  2021      7   28    20.0    10.8        62  0.064286\n",
              "1021  2021      7   29    22.0    10.4        54  0.000000\n",
              "1022  2021      7   30    19.6     9.2        53  0.207143\n",
              "1023  2021      7   31    23.0     7.0        46  0.557143\n",
              "\n",
              "[1024 rows x 7 columns]"
            ],
            "text/html": [
              "\n",
              "  <div id=\"df-93df46a0-f71f-4b24-a5cf-50b3a69c4c38\">\n",
              "    <div class=\"colab-df-container\">\n",
              "      <div>\n",
              "<style scoped>\n",
              "    .dataframe tbody tr th:only-of-type {\n",
              "        vertical-align: middle;\n",
              "    }\n",
              "\n",
              "    .dataframe tbody tr th {\n",
              "        vertical-align: top;\n",
              "    }\n",
              "\n",
              "    .dataframe thead th {\n",
              "        text-align: right;\n",
              "    }\n",
              "</style>\n",
              "<table border=\"1\" class=\"dataframe\">\n",
              "  <thead>\n",
              "    <tr style=\"text-align: right;\">\n",
              "      <th></th>\n",
              "      <th>year</th>\n",
              "      <th>month</th>\n",
              "      <th>day</th>\n",
              "      <th>temmax</th>\n",
              "      <th>temmin</th>\n",
              "      <th>humidity</th>\n",
              "      <th>sun</th>\n",
              "    </tr>\n",
              "  </thead>\n",
              "  <tbody>\n",
              "    <tr>\n",
              "      <th>0</th>\n",
              "      <td>2017</td>\n",
              "      <td>2</td>\n",
              "      <td>1</td>\n",
              "      <td>26.4</td>\n",
              "      <td>6.8</td>\n",
              "      <td>37</td>\n",
              "      <td>0.478571</td>\n",
              "    </tr>\n",
              "    <tr>\n",
              "      <th>1</th>\n",
              "      <td>2017</td>\n",
              "      <td>2</td>\n",
              "      <td>2</td>\n",
              "      <td>22.8</td>\n",
              "      <td>7.4</td>\n",
              "      <td>42</td>\n",
              "      <td>0.585714</td>\n",
              "    </tr>\n",
              "    <tr>\n",
              "      <th>2</th>\n",
              "      <td>2017</td>\n",
              "      <td>2</td>\n",
              "      <td>4</td>\n",
              "      <td>24.0</td>\n",
              "      <td>4.6</td>\n",
              "      <td>37</td>\n",
              "      <td>0.435714</td>\n",
              "    </tr>\n",
              "    <tr>\n",
              "      <th>3</th>\n",
              "      <td>2017</td>\n",
              "      <td>2</td>\n",
              "      <td>7</td>\n",
              "      <td>25.4</td>\n",
              "      <td>-0.8</td>\n",
              "      <td>18</td>\n",
              "      <td>0.721429</td>\n",
              "    </tr>\n",
              "    <tr>\n",
              "      <th>4</th>\n",
              "      <td>2017</td>\n",
              "      <td>2</td>\n",
              "      <td>17</td>\n",
              "      <td>21.4</td>\n",
              "      <td>0.8</td>\n",
              "      <td>45</td>\n",
              "      <td>0.578571</td>\n",
              "    </tr>\n",
              "    <tr>\n",
              "      <th>...</th>\n",
              "      <td>...</td>\n",
              "      <td>...</td>\n",
              "      <td>...</td>\n",
              "      <td>...</td>\n",
              "      <td>...</td>\n",
              "      <td>...</td>\n",
              "      <td>...</td>\n",
              "    </tr>\n",
              "    <tr>\n",
              "      <th>1019</th>\n",
              "      <td>2021</td>\n",
              "      <td>7</td>\n",
              "      <td>27</td>\n",
              "      <td>20.4</td>\n",
              "      <td>7.6</td>\n",
              "      <td>66</td>\n",
              "      <td>0.228571</td>\n",
              "    </tr>\n",
              "    <tr>\n",
              "      <th>1020</th>\n",
              "      <td>2021</td>\n",
              "      <td>7</td>\n",
              "      <td>28</td>\n",
              "      <td>20.0</td>\n",
              "      <td>10.8</td>\n",
              "      <td>62</td>\n",
              "      <td>0.064286</td>\n",
              "    </tr>\n",
              "    <tr>\n",
              "      <th>1021</th>\n",
              "      <td>2021</td>\n",
              "      <td>7</td>\n",
              "      <td>29</td>\n",
              "      <td>22.0</td>\n",
              "      <td>10.4</td>\n",
              "      <td>54</td>\n",
              "      <td>0.000000</td>\n",
              "    </tr>\n",
              "    <tr>\n",
              "      <th>1022</th>\n",
              "      <td>2021</td>\n",
              "      <td>7</td>\n",
              "      <td>30</td>\n",
              "      <td>19.6</td>\n",
              "      <td>9.2</td>\n",
              "      <td>53</td>\n",
              "      <td>0.207143</td>\n",
              "    </tr>\n",
              "    <tr>\n",
              "      <th>1023</th>\n",
              "      <td>2021</td>\n",
              "      <td>7</td>\n",
              "      <td>31</td>\n",
              "      <td>23.0</td>\n",
              "      <td>7.0</td>\n",
              "      <td>46</td>\n",
              "      <td>0.557143</td>\n",
              "    </tr>\n",
              "  </tbody>\n",
              "</table>\n",
              "<p>1024 rows × 7 columns</p>\n",
              "</div>\n",
              "      <button class=\"colab-df-convert\" onclick=\"convertToInteractive('df-93df46a0-f71f-4b24-a5cf-50b3a69c4c38')\"\n",
              "              title=\"Convert this dataframe to an interactive table.\"\n",
              "              style=\"display:none;\">\n",
              "        \n",
              "  <svg xmlns=\"http://www.w3.org/2000/svg\" height=\"24px\"viewBox=\"0 0 24 24\"\n",
              "       width=\"24px\">\n",
              "    <path d=\"M0 0h24v24H0V0z\" fill=\"none\"/>\n",
              "    <path d=\"M18.56 5.44l.94 2.06.94-2.06 2.06-.94-2.06-.94-.94-2.06-.94 2.06-2.06.94zm-11 1L8.5 8.5l.94-2.06 2.06-.94-2.06-.94L8.5 2.5l-.94 2.06-2.06.94zm10 10l.94 2.06.94-2.06 2.06-.94-2.06-.94-.94-2.06-.94 2.06-2.06.94z\"/><path d=\"M17.41 7.96l-1.37-1.37c-.4-.4-.92-.59-1.43-.59-.52 0-1.04.2-1.43.59L10.3 9.45l-7.72 7.72c-.78.78-.78 2.05 0 2.83L4 21.41c.39.39.9.59 1.41.59.51 0 1.02-.2 1.41-.59l7.78-7.78 2.81-2.81c.8-.78.8-2.07 0-2.86zM5.41 20L4 18.59l7.72-7.72 1.47 1.35L5.41 20z\"/>\n",
              "  </svg>\n",
              "      </button>\n",
              "      \n",
              "  <style>\n",
              "    .colab-df-container {\n",
              "      display:flex;\n",
              "      flex-wrap:wrap;\n",
              "      gap: 12px;\n",
              "    }\n",
              "\n",
              "    .colab-df-convert {\n",
              "      background-color: #E8F0FE;\n",
              "      border: none;\n",
              "      border-radius: 50%;\n",
              "      cursor: pointer;\n",
              "      display: none;\n",
              "      fill: #1967D2;\n",
              "      height: 32px;\n",
              "      padding: 0 0 0 0;\n",
              "      width: 32px;\n",
              "    }\n",
              "\n",
              "    .colab-df-convert:hover {\n",
              "      background-color: #E2EBFA;\n",
              "      box-shadow: 0px 1px 2px rgba(60, 64, 67, 0.3), 0px 1px 3px 1px rgba(60, 64, 67, 0.15);\n",
              "      fill: #174EA6;\n",
              "    }\n",
              "\n",
              "    [theme=dark] .colab-df-convert {\n",
              "      background-color: #3B4455;\n",
              "      fill: #D2E3FC;\n",
              "    }\n",
              "\n",
              "    [theme=dark] .colab-df-convert:hover {\n",
              "      background-color: #434B5C;\n",
              "      box-shadow: 0px 1px 3px 1px rgba(0, 0, 0, 0.15);\n",
              "      filter: drop-shadow(0px 1px 2px rgba(0, 0, 0, 0.3));\n",
              "      fill: #FFFFFF;\n",
              "    }\n",
              "  </style>\n",
              "\n",
              "      <script>\n",
              "        const buttonEl =\n",
              "          document.querySelector('#df-93df46a0-f71f-4b24-a5cf-50b3a69c4c38 button.colab-df-convert');\n",
              "        buttonEl.style.display =\n",
              "          google.colab.kernel.accessAllowed ? 'block' : 'none';\n",
              "\n",
              "        async function convertToInteractive(key) {\n",
              "          const element = document.querySelector('#df-93df46a0-f71f-4b24-a5cf-50b3a69c4c38');\n",
              "          const dataTable =\n",
              "            await google.colab.kernel.invokeFunction('convertToInteractive',\n",
              "                                                     [key], {});\n",
              "          if (!dataTable) return;\n",
              "\n",
              "          const docLinkHtml = 'Like what you see? Visit the ' +\n",
              "            '<a target=\"_blank\" href=https://colab.research.google.com/notebooks/data_table.ipynb>data table notebook</a>'\n",
              "            + ' to learn more about interactive tables.';\n",
              "          element.innerHTML = '';\n",
              "          dataTable['output_type'] = 'display_data';\n",
              "          await google.colab.output.renderOutput(dataTable, element);\n",
              "          const docLink = document.createElement('div');\n",
              "          docLink.innerHTML = docLinkHtml;\n",
              "          element.appendChild(docLink);\n",
              "        }\n",
              "      </script>\n",
              "    </div>\n",
              "  </div>\n",
              "  "
            ]
          },
          "metadata": {},
          "execution_count": 69
        }
      ],
      "source": [
        "x"
      ]
    },
    {
      "cell_type": "code",
      "execution_count": 70,
      "metadata": {
        "colab": {
          "base_uri": "https://localhost:8080/",
          "height": 424
        },
        "id": "I4dBg9vEEh_8",
        "outputId": "bfcfa9c6-8c44-4c46-e2a1-1e7c979d4e1d"
      },
      "outputs": [
        {
          "output_type": "execute_result",
          "data": {
            "text/plain": [
              "      precip\n",
              "0        0.0\n",
              "1        0.0\n",
              "2        0.0\n",
              "3        0.1\n",
              "4        0.1\n",
              "...      ...\n",
              "1019     3.8\n",
              "1020     8.4\n",
              "1021     0.1\n",
              "1022     0.0\n",
              "1023     0.1\n",
              "\n",
              "[1024 rows x 1 columns]"
            ],
            "text/html": [
              "\n",
              "  <div id=\"df-3c310eca-eaa2-4688-ac6f-f96924ffebb9\">\n",
              "    <div class=\"colab-df-container\">\n",
              "      <div>\n",
              "<style scoped>\n",
              "    .dataframe tbody tr th:only-of-type {\n",
              "        vertical-align: middle;\n",
              "    }\n",
              "\n",
              "    .dataframe tbody tr th {\n",
              "        vertical-align: top;\n",
              "    }\n",
              "\n",
              "    .dataframe thead th {\n",
              "        text-align: right;\n",
              "    }\n",
              "</style>\n",
              "<table border=\"1\" class=\"dataframe\">\n",
              "  <thead>\n",
              "    <tr style=\"text-align: right;\">\n",
              "      <th></th>\n",
              "      <th>precip</th>\n",
              "    </tr>\n",
              "  </thead>\n",
              "  <tbody>\n",
              "    <tr>\n",
              "      <th>0</th>\n",
              "      <td>0.0</td>\n",
              "    </tr>\n",
              "    <tr>\n",
              "      <th>1</th>\n",
              "      <td>0.0</td>\n",
              "    </tr>\n",
              "    <tr>\n",
              "      <th>2</th>\n",
              "      <td>0.0</td>\n",
              "    </tr>\n",
              "    <tr>\n",
              "      <th>3</th>\n",
              "      <td>0.1</td>\n",
              "    </tr>\n",
              "    <tr>\n",
              "      <th>4</th>\n",
              "      <td>0.1</td>\n",
              "    </tr>\n",
              "    <tr>\n",
              "      <th>...</th>\n",
              "      <td>...</td>\n",
              "    </tr>\n",
              "    <tr>\n",
              "      <th>1019</th>\n",
              "      <td>3.8</td>\n",
              "    </tr>\n",
              "    <tr>\n",
              "      <th>1020</th>\n",
              "      <td>8.4</td>\n",
              "    </tr>\n",
              "    <tr>\n",
              "      <th>1021</th>\n",
              "      <td>0.1</td>\n",
              "    </tr>\n",
              "    <tr>\n",
              "      <th>1022</th>\n",
              "      <td>0.0</td>\n",
              "    </tr>\n",
              "    <tr>\n",
              "      <th>1023</th>\n",
              "      <td>0.1</td>\n",
              "    </tr>\n",
              "  </tbody>\n",
              "</table>\n",
              "<p>1024 rows × 1 columns</p>\n",
              "</div>\n",
              "      <button class=\"colab-df-convert\" onclick=\"convertToInteractive('df-3c310eca-eaa2-4688-ac6f-f96924ffebb9')\"\n",
              "              title=\"Convert this dataframe to an interactive table.\"\n",
              "              style=\"display:none;\">\n",
              "        \n",
              "  <svg xmlns=\"http://www.w3.org/2000/svg\" height=\"24px\"viewBox=\"0 0 24 24\"\n",
              "       width=\"24px\">\n",
              "    <path d=\"M0 0h24v24H0V0z\" fill=\"none\"/>\n",
              "    <path d=\"M18.56 5.44l.94 2.06.94-2.06 2.06-.94-2.06-.94-.94-2.06-.94 2.06-2.06.94zm-11 1L8.5 8.5l.94-2.06 2.06-.94-2.06-.94L8.5 2.5l-.94 2.06-2.06.94zm10 10l.94 2.06.94-2.06 2.06-.94-2.06-.94-.94-2.06-.94 2.06-2.06.94z\"/><path d=\"M17.41 7.96l-1.37-1.37c-.4-.4-.92-.59-1.43-.59-.52 0-1.04.2-1.43.59L10.3 9.45l-7.72 7.72c-.78.78-.78 2.05 0 2.83L4 21.41c.39.39.9.59 1.41.59.51 0 1.02-.2 1.41-.59l7.78-7.78 2.81-2.81c.8-.78.8-2.07 0-2.86zM5.41 20L4 18.59l7.72-7.72 1.47 1.35L5.41 20z\"/>\n",
              "  </svg>\n",
              "      </button>\n",
              "      \n",
              "  <style>\n",
              "    .colab-df-container {\n",
              "      display:flex;\n",
              "      flex-wrap:wrap;\n",
              "      gap: 12px;\n",
              "    }\n",
              "\n",
              "    .colab-df-convert {\n",
              "      background-color: #E8F0FE;\n",
              "      border: none;\n",
              "      border-radius: 50%;\n",
              "      cursor: pointer;\n",
              "      display: none;\n",
              "      fill: #1967D2;\n",
              "      height: 32px;\n",
              "      padding: 0 0 0 0;\n",
              "      width: 32px;\n",
              "    }\n",
              "\n",
              "    .colab-df-convert:hover {\n",
              "      background-color: #E2EBFA;\n",
              "      box-shadow: 0px 1px 2px rgba(60, 64, 67, 0.3), 0px 1px 3px 1px rgba(60, 64, 67, 0.15);\n",
              "      fill: #174EA6;\n",
              "    }\n",
              "\n",
              "    [theme=dark] .colab-df-convert {\n",
              "      background-color: #3B4455;\n",
              "      fill: #D2E3FC;\n",
              "    }\n",
              "\n",
              "    [theme=dark] .colab-df-convert:hover {\n",
              "      background-color: #434B5C;\n",
              "      box-shadow: 0px 1px 3px 1px rgba(0, 0, 0, 0.15);\n",
              "      filter: drop-shadow(0px 1px 2px rgba(0, 0, 0, 0.3));\n",
              "      fill: #FFFFFF;\n",
              "    }\n",
              "  </style>\n",
              "\n",
              "      <script>\n",
              "        const buttonEl =\n",
              "          document.querySelector('#df-3c310eca-eaa2-4688-ac6f-f96924ffebb9 button.colab-df-convert');\n",
              "        buttonEl.style.display =\n",
              "          google.colab.kernel.accessAllowed ? 'block' : 'none';\n",
              "\n",
              "        async function convertToInteractive(key) {\n",
              "          const element = document.querySelector('#df-3c310eca-eaa2-4688-ac6f-f96924ffebb9');\n",
              "          const dataTable =\n",
              "            await google.colab.kernel.invokeFunction('convertToInteractive',\n",
              "                                                     [key], {});\n",
              "          if (!dataTable) return;\n",
              "\n",
              "          const docLinkHtml = 'Like what you see? Visit the ' +\n",
              "            '<a target=\"_blank\" href=https://colab.research.google.com/notebooks/data_table.ipynb>data table notebook</a>'\n",
              "            + ' to learn more about interactive tables.';\n",
              "          element.innerHTML = '';\n",
              "          dataTable['output_type'] = 'display_data';\n",
              "          await google.colab.output.renderOutput(dataTable, element);\n",
              "          const docLink = document.createElement('div');\n",
              "          docLink.innerHTML = docLinkHtml;\n",
              "          element.appendChild(docLink);\n",
              "        }\n",
              "      </script>\n",
              "    </div>\n",
              "  </div>\n",
              "  "
            ]
          },
          "metadata": {},
          "execution_count": 70
        }
      ],
      "source": [
        "y"
      ]
    },
    {
      "cell_type": "code",
      "execution_count": 71,
      "metadata": {
        "colab": {
          "base_uri": "https://localhost:8080/",
          "height": 300
        },
        "id": "PH82GcUimGjN",
        "outputId": "83f7c785-9e4a-43c1-fd6d-0c4ceb91e790"
      },
      "outputs": [
        {
          "output_type": "execute_result",
          "data": {
            "text/plain": [
              "            precip\n",
              "count  1024.000000\n",
              "mean      1.937598\n",
              "std       4.276621\n",
              "min       0.000000\n",
              "25%       0.000000\n",
              "50%       0.100000\n",
              "75%       1.500000\n",
              "max      36.700000"
            ],
            "text/html": [
              "\n",
              "  <div id=\"df-2f8311ba-9fa5-42b4-9040-c8732ba435ed\">\n",
              "    <div class=\"colab-df-container\">\n",
              "      <div>\n",
              "<style scoped>\n",
              "    .dataframe tbody tr th:only-of-type {\n",
              "        vertical-align: middle;\n",
              "    }\n",
              "\n",
              "    .dataframe tbody tr th {\n",
              "        vertical-align: top;\n",
              "    }\n",
              "\n",
              "    .dataframe thead th {\n",
              "        text-align: right;\n",
              "    }\n",
              "</style>\n",
              "<table border=\"1\" class=\"dataframe\">\n",
              "  <thead>\n",
              "    <tr style=\"text-align: right;\">\n",
              "      <th></th>\n",
              "      <th>precip</th>\n",
              "    </tr>\n",
              "  </thead>\n",
              "  <tbody>\n",
              "    <tr>\n",
              "      <th>count</th>\n",
              "      <td>1024.000000</td>\n",
              "    </tr>\n",
              "    <tr>\n",
              "      <th>mean</th>\n",
              "      <td>1.937598</td>\n",
              "    </tr>\n",
              "    <tr>\n",
              "      <th>std</th>\n",
              "      <td>4.276621</td>\n",
              "    </tr>\n",
              "    <tr>\n",
              "      <th>min</th>\n",
              "      <td>0.000000</td>\n",
              "    </tr>\n",
              "    <tr>\n",
              "      <th>25%</th>\n",
              "      <td>0.000000</td>\n",
              "    </tr>\n",
              "    <tr>\n",
              "      <th>50%</th>\n",
              "      <td>0.100000</td>\n",
              "    </tr>\n",
              "    <tr>\n",
              "      <th>75%</th>\n",
              "      <td>1.500000</td>\n",
              "    </tr>\n",
              "    <tr>\n",
              "      <th>max</th>\n",
              "      <td>36.700000</td>\n",
              "    </tr>\n",
              "  </tbody>\n",
              "</table>\n",
              "</div>\n",
              "      <button class=\"colab-df-convert\" onclick=\"convertToInteractive('df-2f8311ba-9fa5-42b4-9040-c8732ba435ed')\"\n",
              "              title=\"Convert this dataframe to an interactive table.\"\n",
              "              style=\"display:none;\">\n",
              "        \n",
              "  <svg xmlns=\"http://www.w3.org/2000/svg\" height=\"24px\"viewBox=\"0 0 24 24\"\n",
              "       width=\"24px\">\n",
              "    <path d=\"M0 0h24v24H0V0z\" fill=\"none\"/>\n",
              "    <path d=\"M18.56 5.44l.94 2.06.94-2.06 2.06-.94-2.06-.94-.94-2.06-.94 2.06-2.06.94zm-11 1L8.5 8.5l.94-2.06 2.06-.94-2.06-.94L8.5 2.5l-.94 2.06-2.06.94zm10 10l.94 2.06.94-2.06 2.06-.94-2.06-.94-.94-2.06-.94 2.06-2.06.94z\"/><path d=\"M17.41 7.96l-1.37-1.37c-.4-.4-.92-.59-1.43-.59-.52 0-1.04.2-1.43.59L10.3 9.45l-7.72 7.72c-.78.78-.78 2.05 0 2.83L4 21.41c.39.39.9.59 1.41.59.51 0 1.02-.2 1.41-.59l7.78-7.78 2.81-2.81c.8-.78.8-2.07 0-2.86zM5.41 20L4 18.59l7.72-7.72 1.47 1.35L5.41 20z\"/>\n",
              "  </svg>\n",
              "      </button>\n",
              "      \n",
              "  <style>\n",
              "    .colab-df-container {\n",
              "      display:flex;\n",
              "      flex-wrap:wrap;\n",
              "      gap: 12px;\n",
              "    }\n",
              "\n",
              "    .colab-df-convert {\n",
              "      background-color: #E8F0FE;\n",
              "      border: none;\n",
              "      border-radius: 50%;\n",
              "      cursor: pointer;\n",
              "      display: none;\n",
              "      fill: #1967D2;\n",
              "      height: 32px;\n",
              "      padding: 0 0 0 0;\n",
              "      width: 32px;\n",
              "    }\n",
              "\n",
              "    .colab-df-convert:hover {\n",
              "      background-color: #E2EBFA;\n",
              "      box-shadow: 0px 1px 2px rgba(60, 64, 67, 0.3), 0px 1px 3px 1px rgba(60, 64, 67, 0.15);\n",
              "      fill: #174EA6;\n",
              "    }\n",
              "\n",
              "    [theme=dark] .colab-df-convert {\n",
              "      background-color: #3B4455;\n",
              "      fill: #D2E3FC;\n",
              "    }\n",
              "\n",
              "    [theme=dark] .colab-df-convert:hover {\n",
              "      background-color: #434B5C;\n",
              "      box-shadow: 0px 1px 3px 1px rgba(0, 0, 0, 0.15);\n",
              "      filter: drop-shadow(0px 1px 2px rgba(0, 0, 0, 0.3));\n",
              "      fill: #FFFFFF;\n",
              "    }\n",
              "  </style>\n",
              "\n",
              "      <script>\n",
              "        const buttonEl =\n",
              "          document.querySelector('#df-2f8311ba-9fa5-42b4-9040-c8732ba435ed button.colab-df-convert');\n",
              "        buttonEl.style.display =\n",
              "          google.colab.kernel.accessAllowed ? 'block' : 'none';\n",
              "\n",
              "        async function convertToInteractive(key) {\n",
              "          const element = document.querySelector('#df-2f8311ba-9fa5-42b4-9040-c8732ba435ed');\n",
              "          const dataTable =\n",
              "            await google.colab.kernel.invokeFunction('convertToInteractive',\n",
              "                                                     [key], {});\n",
              "          if (!dataTable) return;\n",
              "\n",
              "          const docLinkHtml = 'Like what you see? Visit the ' +\n",
              "            '<a target=\"_blank\" href=https://colab.research.google.com/notebooks/data_table.ipynb>data table notebook</a>'\n",
              "            + ' to learn more about interactive tables.';\n",
              "          element.innerHTML = '';\n",
              "          dataTable['output_type'] = 'display_data';\n",
              "          await google.colab.output.renderOutput(dataTable, element);\n",
              "          const docLink = document.createElement('div');\n",
              "          docLink.innerHTML = docLinkHtml;\n",
              "          element.appendChild(docLink);\n",
              "        }\n",
              "      </script>\n",
              "    </div>\n",
              "  </div>\n",
              "  "
            ]
          },
          "metadata": {},
          "execution_count": 71
        }
      ],
      "source": [
        "y.describe()"
      ]
    },
    {
      "cell_type": "code",
      "execution_count": 72,
      "metadata": {
        "colab": {
          "base_uri": "https://localhost:8080/",
          "height": 1000
        },
        "id": "jVwW3TSdHeMa",
        "outputId": "508d2954-f10a-4df7-f55f-b7e38c48f4f8"
      },
      "outputs": [
        {
          "output_type": "display_data",
          "data": {
            "text/plain": [
              "<Figure size 640x480 with 1 Axes>"
            ],
            "image/png": "[encoded data removed]"
          },
          "metadata": {}
        },
        {
          "output_type": "display_data",
          "data": {
            "text/plain": [
              "<Figure size 640x480 with 1 Axes>"
            ],
            "image/png": "[encoded data removed]"
          },
          "metadata": {}
        },
        {
          "output_type": "display_data",
          "data": {
            "text/plain": [
              "<Figure size 640x480 with 1 Axes>"
            ],
            "image/png": "[encoded data removed]"
          },
          "metadata": {}
        },
        {
          "output_type": "display_data",
          "data": {
            "text/plain": [
              "<Figure size 640x480 with 1 Axes>"
            ],
            "image/png": "[encoded data removed]"
          },
          "metadata": {}
        },
        {
          "output_type": "display_data",
          "data": {
            "text/plain": [
              "<Figure size 640x480 with 1 Axes>"
            ],
            "image/png": "[encoded data removed]"
          },
          "metadata": {}
        },
        {
          "output_type": "display_data",
          "data": {
            "text/plain": [
              "<Figure size 640x480 with 1 Axes>"
            ],
            "image/png": "[encoded data removed]"
          },
          "metadata": {}
        },
        {
          "output_type": "display_data",
          "data": {
            "text/plain": [
              "<Figure size 640x480 with 1 Axes>"
            ],
            "image/png": "[encoded data removed]"
          },
          "metadata": {}
        }
      ],
      "source": [
        "import seaborn as sns # Convention alias for Seaborn\n",
        "import matplotlib.pyplot as plt\n",
        "\n",
        "variables = ['year', 'month', 'day', 'sun', 'humidity', 'temmin','temmax']\n",
        "\n",
        "for var in variables:\n",
        "    plt.figure() # Creating a rectangle (figure) for each plot\n",
        "    # Regression Plot also by default includes\n",
        "    # best-fitting regression line\n",
        "    # which can be turned off via `fit_reg=False`\n",
        "    sns.regplot(x=var, y='precip', data=dataset).set(title=f'Regression plot of {var} and Precipitation');"
      ]
    },
    {
      "cell_type": "code",
      "execution_count": 73,
      "metadata": {
        "colab": {
          "base_uri": "https://localhost:8080/",
          "height": 500
        },
        "id": "hEqzK1cOQD4j",
        "outputId": "495c9e86-4615-4617-fb80-4b1af9f1c364"
      },
      "outputs": [
        {
          "output_type": "display_data",
          "data": {
            "text/plain": [
              "<Figure size 640x480 with 2 Axes>"
            ],
            "image/png": "[encoded data removed]"
          },
          "metadata": {}
        }
      ],
      "source": [
        "# columns of interest\n",
        "dataset_corr = dataset[['sun', 'temmin', 'temmax', 'humidity', 'precip', 'year', 'month', 'day']].copy()\n",
        "correlations = dataset_corr.corr()\n",
        "# annot=True displays the correlation values\n",
        "sns.heatmap(correlations, annot=True).set(title='Heatmap of Climatic Data - Pearson Correlations');"
      ]
    },
    {
      "cell_type": "markdown",
      "metadata": {
        "id": "kgTG-nN1beei"
      },
      "source": [
        "# Treatment of outlayers"
      ]
    },
    {
      "cell_type": "markdown",
      "metadata": {
        "id": "K-U5pkeKbqV5"
      },
      "source": [
        "## Outlier Detection"
      ]
    },
    {
      "cell_type": "code",
      "execution_count": 74,
      "metadata": {
        "colab": {
          "base_uri": "https://localhost:8080/",
          "height": 206
        },
        "id": "41gFRWbvb3c8",
        "outputId": "c8d1a1a3-e76f-40c9-fe1b-826cb40468ca"
      },
      "outputs": [
        {
          "output_type": "execute_result",
          "data": {
            "text/plain": [
              "        time       sun  temmin  temmax  humidity  precip  latitude  longitude  \\\n",
              "0 2017-02-01  0.478571     6.8    26.4        37     0.0  5.724998 -73.125008   \n",
              "1 2017-02-02  0.585714     7.4    22.8        42     0.0  5.724998 -73.125008   \n",
              "2 2017-02-04  0.435714     4.6    24.0        37     0.0  5.724998 -73.125008   \n",
              "3 2017-02-07  0.721429    -0.8    25.4        18     0.1  5.724998 -73.125008   \n",
              "4 2017-02-17  0.578571     0.8    21.4        45     0.1  5.724998 -73.125008   \n",
              "\n",
              "   year  month  day  \n",
              "0  2017      2    1  \n",
              "1  2017      2    2  \n",
              "2  2017      2    4  \n",
              "3  2017      2    7  \n",
              "4  2017      2   17  "
            ],
            "text/html": [
              "\n",
              "  <div id=\"df-4e8c20e9-6974-498b-9684-0eef54743556\">\n",
              "    <div class=\"colab-df-container\">\n",
              "      <div>\n",
              "<style scoped>\n",
              "    .dataframe tbody tr th:only-of-type {\n",
              "        vertical-align: middle;\n",
              "    }\n",
              "\n",
              "    .dataframe tbody tr th {\n",
              "        vertical-align: top;\n",
              "    }\n",
              "\n",
              "    .dataframe thead th {\n",
              "        text-align: right;\n",
              "    }\n",
              "</style>\n",
              "<table border=\"1\" class=\"dataframe\">\n",
              "  <thead>\n",
              "    <tr style=\"text-align: right;\">\n",
              "      <th></th>\n",
              "      <th>time</th>\n",
              "      <th>sun</th>\n",
              "      <th>temmin</th>\n",
              "      <th>temmax</th>\n",
              "      <th>humidity</th>\n",
              "      <th>precip</th>\n",
              "      <th>latitude</th>\n",
              "      <th>longitude</th>\n",
              "      <th>year</th>\n",
              "      <th>month</th>\n",
              "      <th>day</th>\n",
              "    </tr>\n",
              "  </thead>\n",
              "  <tbody>\n",
              "    <tr>\n",
              "      <th>0</th>\n",
              "      <td>2017-02-01</td>\n",
              "      <td>0.478571</td>\n",
              "      <td>6.8</td>\n",
              "      <td>26.4</td>\n",
              "      <td>37</td>\n",
              "      <td>0.0</td>\n",
              "      <td>5.724998</td>\n",
              "      <td>-73.125008</td>\n",
              "      <td>2017</td>\n",
              "      <td>2</td>\n",
              "      <td>1</td>\n",
              "    </tr>\n",
              "    <tr>\n",
              "      <th>1</th>\n",
              "      <td>2017-02-02</td>\n",
              "      <td>0.585714</td>\n",
              "      <td>7.4</td>\n",
              "      <td>22.8</td>\n",
              "      <td>42</td>\n",
              "      <td>0.0</td>\n",
              "      <td>5.724998</td>\n",
              "      <td>-73.125008</td>\n",
              "      <td>2017</td>\n",
              "      <td>2</td>\n",
              "      <td>2</td>\n",
              "    </tr>\n",
              "    <tr>\n",
              "      <th>2</th>\n",
              "      <td>2017-02-04</td>\n",
              "      <td>0.435714</td>\n",
              "      <td>4.6</td>\n",
              "      <td>24.0</td>\n",
              "      <td>37</td>\n",
              "      <td>0.0</td>\n",
              "      <td>5.724998</td>\n",
              "      <td>-73.125008</td>\n",
              "      <td>2017</td>\n",
              "      <td>2</td>\n",
              "      <td>4</td>\n",
              "    </tr>\n",
              "    <tr>\n",
              "      <th>3</th>\n",
              "      <td>2017-02-07</td>\n",
              "      <td>0.721429</td>\n",
              "      <td>-0.8</td>\n",
              "      <td>25.4</td>\n",
              "      <td>18</td>\n",
              "      <td>0.1</td>\n",
              "      <td>5.724998</td>\n",
              "      <td>-73.125008</td>\n",
              "      <td>2017</td>\n",
              "      <td>2</td>\n",
              "      <td>7</td>\n",
              "    </tr>\n",
              "    <tr>\n",
              "      <th>4</th>\n",
              "      <td>2017-02-17</td>\n",
              "      <td>0.578571</td>\n",
              "      <td>0.8</td>\n",
              "      <td>21.4</td>\n",
              "      <td>45</td>\n",
              "      <td>0.1</td>\n",
              "      <td>5.724998</td>\n",
              "      <td>-73.125008</td>\n",
              "      <td>2017</td>\n",
              "      <td>2</td>\n",
              "      <td>17</td>\n",
              "    </tr>\n",
              "  </tbody>\n",
              "</table>\n",
              "</div>\n",
              "      <button class=\"colab-df-convert\" onclick=\"convertToInteractive('df-4e8c20e9-6974-498b-9684-0eef54743556')\"\n",
              "              title=\"Convert this dataframe to an interactive table.\"\n",
              "              style=\"display:none;\">\n",
              "        \n",
              "  <svg xmlns=\"http://www.w3.org/2000/svg\" height=\"24px\"viewBox=\"0 0 24 24\"\n",
              "       width=\"24px\">\n",
              "    <path d=\"M0 0h24v24H0V0z\" fill=\"none\"/>\n",
              "    <path d=\"M18.56 5.44l.94 2.06.94-2.06 2.06-.94-2.06-.94-.94-2.06-.94 2.06-2.06.94zm-11 1L8.5 8.5l.94-2.06 2.06-.94-2.06-.94L8.5 2.5l-.94 2.06-2.06.94zm10 10l.94 2.06.94-2.06 2.06-.94-2.06-.94-.94-2.06-.94 2.06-2.06.94z\"/><path d=\"M17.41 7.96l-1.37-1.37c-.4-.4-.92-.59-1.43-.59-.52 0-1.04.2-1.43.59L10.3 9.45l-7.72 7.72c-.78.78-.78 2.05 0 2.83L4 21.41c.39.39.9.59 1.41.59.51 0 1.02-.2 1.41-.59l7.78-7.78 2.81-2.81c.8-.78.8-2.07 0-2.86zM5.41 20L4 18.59l7.72-7.72 1.47 1.35L5.41 20z\"/>\n",
              "  </svg>\n",
              "      </button>\n",
              "      \n",
              "  <style>\n",
              "    .colab-df-container {\n",
              "      display:flex;\n",
              "      flex-wrap:wrap;\n",
              "      gap: 12px;\n",
              "    }\n",
              "\n",
              "    .colab-df-convert {\n",
              "      background-color: #E8F0FE;\n",
              "      border: none;\n",
              "      border-radius: 50%;\n",
              "      cursor: pointer;\n",
              "      display: none;\n",
              "      fill: #1967D2;\n",
              "      height: 32px;\n",
              "      padding: 0 0 0 0;\n",
              "      width: 32px;\n",
              "    }\n",
              "\n",
              "    .colab-df-convert:hover {\n",
              "      background-color: #E2EBFA;\n",
              "      box-shadow: 0px 1px 2px rgba(60, 64, 67, 0.3), 0px 1px 3px 1px rgba(60, 64, 67, 0.15);\n",
              "      fill: #174EA6;\n",
              "    }\n",
              "\n",
              "    [theme=dark] .colab-df-convert {\n",
              "      background-color: #3B4455;\n",
              "      fill: #D2E3FC;\n",
              "    }\n",
              "\n",
              "    [theme=dark] .colab-df-convert:hover {\n",
              "      background-color: #434B5C;\n",
              "      box-shadow: 0px 1px 3px 1px rgba(0, 0, 0, 0.15);\n",
              "      filter: drop-shadow(0px 1px 2px rgba(0, 0, 0, 0.3));\n",
              "      fill: #FFFFFF;\n",
              "    }\n",
              "  </style>\n",
              "\n",
              "      <script>\n",
              "        const buttonEl =\n",
              "          document.querySelector('#df-4e8c20e9-6974-498b-9684-0eef54743556 button.colab-df-convert');\n",
              "        buttonEl.style.display =\n",
              "          google.colab.kernel.accessAllowed ? 'block' : 'none';\n",
              "\n",
              "        async function convertToInteractive(key) {\n",
              "          const element = document.querySelector('#df-4e8c20e9-6974-498b-9684-0eef54743556');\n",
              "          const dataTable =\n",
              "            await google.colab.kernel.invokeFunction('convertToInteractive',\n",
              "                                                     [key], {});\n",
              "          if (!dataTable) return;\n",
              "\n",
              "          const docLinkHtml = 'Like what you see? Visit the ' +\n",
              "            '<a target=\"_blank\" href=https://colab.research.google.com/notebooks/data_table.ipynb>data table notebook</a>'\n",
              "            + ' to learn more about interactive tables.';\n",
              "          element.innerHTML = '';\n",
              "          dataTable['output_type'] = 'display_data';\n",
              "          await google.colab.output.renderOutput(dataTable, element);\n",
              "          const docLink = document.createElement('div');\n",
              "          docLink.innerHTML = docLinkHtml;\n",
              "          element.appendChild(docLink);\n",
              "        }\n",
              "      </script>\n",
              "    </div>\n",
              "  </div>\n",
              "  "
            ]
          },
          "metadata": {},
          "execution_count": 74
        }
      ],
      "source": [
        "# Importing\n",
        "import sklearn\n",
        "from sklearn.datasets import load_diabetes\n",
        "import pandas as pd\n",
        "import matplotlib.pyplot as plt\n",
        "\n",
        "# Create the dataframe\n",
        "dataset.head()"
      ]
    },
    {
      "cell_type": "code",
      "execution_count": 75,
      "metadata": {
        "colab": {
          "base_uri": "https://localhost:8080/",
          "height": 300
        },
        "id": "g2QNyfjyp7Uw",
        "outputId": "49bfa76f-2232-47b6-eba7-9ac3aebe00ac"
      },
      "outputs": [
        {
          "output_type": "execute_result",
          "data": {
            "text/plain": [
              "               sun       temmin       temmax     humidity       precip  \\\n",
              "count  1024.000000  1024.000000  1024.000000  1024.000000  1024.000000   \n",
              "mean      0.294662     7.822168    22.635938    52.551758     1.937598   \n",
              "std       0.177637     2.658818     1.721350    13.172710     4.276621   \n",
              "min       0.000000    -3.000000    11.800000     9.000000     0.000000   \n",
              "25%       0.150000     6.150000    21.600000    45.000000     0.000000   \n",
              "50%       0.278571     8.000000    22.600000    52.000000     0.100000   \n",
              "75%       0.428571    10.000000    23.800000    59.250000     1.500000   \n",
              "max       0.735714    13.600000    28.000000   100.000000    36.700000   \n",
              "\n",
              "          latitude    longitude         year        month          day  \n",
              "count  1024.000000  1024.000000  1024.000000  1024.000000  1024.000000  \n",
              "mean      5.724998   -73.125008  2019.069336     6.751953    15.937500  \n",
              "std       0.000000     0.000000     1.096550     3.405044     8.924578  \n",
              "min       5.724998   -73.125008  2017.000000     1.000000     1.000000  \n",
              "25%       5.724998   -73.125008  2018.000000     4.000000     8.000000  \n",
              "50%       5.724998   -73.125008  2019.000000     7.000000    16.000000  \n",
              "75%       5.724998   -73.125008  2020.000000    10.000000    24.000000  \n",
              "max       5.724998   -73.125008  2021.000000    12.000000    31.000000  "
            ],
            "text/html": [
              "\n",
              "  <div id=\"df-d08269a5-0452-4be6-a254-057a15f36c80\">\n",
              "    <div class=\"colab-df-container\">\n",
              "      <div>\n",
              "<style scoped>\n",
              "    .dataframe tbody tr th:only-of-type {\n",
              "        vertical-align: middle;\n",
              "    }\n",
              "\n",
              "    .dataframe tbody tr th {\n",
              "        vertical-align: top;\n",
              "    }\n",
              "\n",
              "    .dataframe thead th {\n",
              "        text-align: right;\n",
              "    }\n",
              "</style>\n",
              "<table border=\"1\" class=\"dataframe\">\n",
              "  <thead>\n",
              "    <tr style=\"text-align: right;\">\n",
              "      <th></th>\n",
              "      <th>sun</th>\n",
              "      <th>temmin</th>\n",
              "      <th>temmax</th>\n",
              "      <th>humidity</th>\n",
              "      <th>precip</th>\n",
              "      <th>latitude</th>\n",
              "      <th>longitude</th>\n",
              "      <th>year</th>\n",
              "      <th>month</th>\n",
              "      <th>day</th>\n",
              "    </tr>\n",
              "  </thead>\n",
              "  <tbody>\n",
              "    <tr>\n",
              "      <th>count</th>\n",
              "      <td>1024.000000</td>\n",
              "      <td>1024.000000</td>\n",
              "      <td>1024.000000</td>\n",
              "      <td>1024.000000</td>\n",
              "      <td>1024.000000</td>\n",
              "      <td>1024.000000</td>\n",
              "      <td>1024.000000</td>\n",
              "      <td>1024.000000</td>\n",
              "      <td>1024.000000</td>\n",
              "      <td>1024.000000</td>\n",
              "    </tr>\n",
              "    <tr>\n",
              "      <th>mean</th>\n",
              "      <td>0.294662</td>\n",
              "      <td>7.822168</td>\n",
              "      <td>22.635938</td>\n",
              "      <td>52.551758</td>\n",
              "      <td>1.937598</td>\n",
              "      <td>5.724998</td>\n",
              "      <td>-73.125008</td>\n",
              "      <td>2019.069336</td>\n",
              "      <td>6.751953</td>\n",
              "      <td>15.937500</td>\n",
              "    </tr>\n",
              "    <tr>\n",
              "      <th>std</th>\n",
              "      <td>0.177637</td>\n",
              "      <td>2.658818</td>\n",
              "      <td>1.721350</td>\n",
              "      <td>13.172710</td>\n",
              "      <td>4.276621</td>\n",
              "      <td>0.000000</td>\n",
              "      <td>0.000000</td>\n",
              "      <td>1.096550</td>\n",
              "      <td>3.405044</td>\n",
              "      <td>8.924578</td>\n",
              "    </tr>\n",
              "    <tr>\n",
              "      <th>min</th>\n",
              "      <td>0.000000</td>\n",
              "      <td>-3.000000</td>\n",
              "      <td>11.800000</td>\n",
              "      <td>9.000000</td>\n",
              "      <td>0.000000</td>\n",
              "      <td>5.724998</td>\n",
              "      <td>-73.125008</td>\n",
              "      <td>2017.000000</td>\n",
              "      <td>1.000000</td>\n",
              "      <td>1.000000</td>\n",
              "    </tr>\n",
              "    <tr>\n",
              "      <th>25%</th>\n",
              "      <td>0.150000</td>\n",
              "      <td>6.150000</td>\n",
              "      <td>21.600000</td>\n",
              "      <td>45.000000</td>\n",
              "      <td>0.000000</td>\n",
              "      <td>5.724998</td>\n",
              "      <td>-73.125008</td>\n",
              "      <td>2018.000000</td>\n",
              "      <td>4.000000</td>\n",
              "      <td>8.000000</td>\n",
              "    </tr>\n",
              "    <tr>\n",
              "      <th>50%</th>\n",
              "      <td>0.278571</td>\n",
              "      <td>8.000000</td>\n",
              "      <td>22.600000</td>\n",
              "      <td>52.000000</td>\n",
              "      <td>0.100000</td>\n",
              "      <td>5.724998</td>\n",
              "      <td>-73.125008</td>\n",
              "      <td>2019.000000</td>\n",
              "      <td>7.000000</td>\n",
              "      <td>16.000000</td>\n",
              "    </tr>\n",
              "    <tr>\n",
              "      <th>75%</th>\n",
              "      <td>0.428571</td>\n",
              "      <td>10.000000</td>\n",
              "      <td>23.800000</td>\n",
              "      <td>59.250000</td>\n",
              "      <td>1.500000</td>\n",
              "      <td>5.724998</td>\n",
              "      <td>-73.125008</td>\n",
              "      <td>2020.000000</td>\n",
              "      <td>10.000000</td>\n",
              "      <td>24.000000</td>\n",
              "    </tr>\n",
              "    <tr>\n",
              "      <th>max</th>\n",
              "      <td>0.735714</td>\n",
              "      <td>13.600000</td>\n",
              "      <td>28.000000</td>\n",
              "      <td>100.000000</td>\n",
              "      <td>36.700000</td>\n",
              "      <td>5.724998</td>\n",
              "      <td>-73.125008</td>\n",
              "      <td>2021.000000</td>\n",
              "      <td>12.000000</td>\n",
              "      <td>31.000000</td>\n",
              "    </tr>\n",
              "  </tbody>\n",
              "</table>\n",
              "</div>\n",
              "      <button class=\"colab-df-convert\" onclick=\"convertToInteractive('df-d08269a5-0452-4be6-a254-057a15f36c80')\"\n",
              "              title=\"Convert this dataframe to an interactive table.\"\n",
              "              style=\"display:none;\">\n",
              "        \n",
              "  <svg xmlns=\"http://www.w3.org/2000/svg\" height=\"24px\"viewBox=\"0 0 24 24\"\n",
              "       width=\"24px\">\n",
              "    <path d=\"M0 0h24v24H0V0z\" fill=\"none\"/>\n",
              "    <path d=\"M18.56 5.44l.94 2.06.94-2.06 2.06-.94-2.06-.94-.94-2.06-.94 2.06-2.06.94zm-11 1L8.5 8.5l.94-2.06 2.06-.94-2.06-.94L8.5 2.5l-.94 2.06-2.06.94zm10 10l.94 2.06.94-2.06 2.06-.94-2.06-.94-.94-2.06-.94 2.06-2.06.94z\"/><path d=\"M17.41 7.96l-1.37-1.37c-.4-.4-.92-.59-1.43-.59-.52 0-1.04.2-1.43.59L10.3 9.45l-7.72 7.72c-.78.78-.78 2.05 0 2.83L4 21.41c.39.39.9.59 1.41.59.51 0 1.02-.2 1.41-.59l7.78-7.78 2.81-2.81c.8-.78.8-2.07 0-2.86zM5.41 20L4 18.59l7.72-7.72 1.47 1.35L5.41 20z\"/>\n",
              "  </svg>\n",
              "      </button>\n",
              "      \n",
              "  <style>\n",
              "    .colab-df-container {\n",
              "      display:flex;\n",
              "      flex-wrap:wrap;\n",
              "      gap: 12px;\n",
              "    }\n",
              "\n",
              "    .colab-df-convert {\n",
              "      background-color: #E8F0FE;\n",
              "      border: none;\n",
              "      border-radius: 50%;\n",
              "      cursor: pointer;\n",
              "      display: none;\n",
              "      fill: #1967D2;\n",
              "      height: 32px;\n",
              "      padding: 0 0 0 0;\n",
              "      width: 32px;\n",
              "    }\n",
              "\n",
              "    .colab-df-convert:hover {\n",
              "      background-color: #E2EBFA;\n",
              "      box-shadow: 0px 1px 2px rgba(60, 64, 67, 0.3), 0px 1px 3px 1px rgba(60, 64, 67, 0.15);\n",
              "      fill: #174EA6;\n",
              "    }\n",
              "\n",
              "    [theme=dark] .colab-df-convert {\n",
              "      background-color: #3B4455;\n",
              "      fill: #D2E3FC;\n",
              "    }\n",
              "\n",
              "    [theme=dark] .colab-df-convert:hover {\n",
              "      background-color: #434B5C;\n",
              "      box-shadow: 0px 1px 3px 1px rgba(0, 0, 0, 0.15);\n",
              "      filter: drop-shadow(0px 1px 2px rgba(0, 0, 0, 0.3));\n",
              "      fill: #FFFFFF;\n",
              "    }\n",
              "  </style>\n",
              "\n",
              "      <script>\n",
              "        const buttonEl =\n",
              "          document.querySelector('#df-d08269a5-0452-4be6-a254-057a15f36c80 button.colab-df-convert');\n",
              "        buttonEl.style.display =\n",
              "          google.colab.kernel.accessAllowed ? 'block' : 'none';\n",
              "\n",
              "        async function convertToInteractive(key) {\n",
              "          const element = document.querySelector('#df-d08269a5-0452-4be6-a254-057a15f36c80');\n",
              "          const dataTable =\n",
              "            await google.colab.kernel.invokeFunction('convertToInteractive',\n",
              "                                                     [key], {});\n",
              "          if (!dataTable) return;\n",
              "\n",
              "          const docLinkHtml = 'Like what you see? Visit the ' +\n",
              "            '<a target=\"_blank\" href=https://colab.research.google.com/notebooks/data_table.ipynb>data table notebook</a>'\n",
              "            + ' to learn more about interactive tables.';\n",
              "          element.innerHTML = '';\n",
              "          dataTable['output_type'] = 'display_data';\n",
              "          await google.colab.output.renderOutput(dataTable, element);\n",
              "          const docLink = document.createElement('div');\n",
              "          docLink.innerHTML = docLinkHtml;\n",
              "          element.appendChild(docLink);\n",
              "        }\n",
              "      </script>\n",
              "    </div>\n",
              "  </div>\n",
              "  "
            ]
          },
          "metadata": {},
          "execution_count": 75
        }
      ],
      "source": [
        "dataset.describe()"
      ]
    },
    {
      "cell_type": "code",
      "execution_count": 76,
      "metadata": {
        "colab": {
          "base_uri": "https://localhost:8080/",
          "height": 447
        },
        "id": "tflXv-yDcTSO",
        "outputId": "50c3458f-454c-42bc-81aa-706e5421a139"
      },
      "outputs": [
        {
          "output_type": "execute_result",
          "data": {
            "text/plain": [
              "<Axes: >"
            ]
          },
          "metadata": {},
          "execution_count": 76
        },
        {
          "output_type": "display_data",
          "data": {
            "text/plain": [
              "<Figure size 640x480 with 1 Axes>"
            ],
            "image/png": "[encoded data removed]"
          },
          "metadata": {}
        }
      ],
      "source": [
        "# Box Plot\n",
        "import seaborn as sns\n",
        "sns.boxplot(dataset['precip'])"
      ]
    },
    {
      "cell_type": "code",
      "execution_count": 77,
      "metadata": {
        "colab": {
          "base_uri": "https://localhost:8080/"
        },
        "id": "qX6xH5KeyRwZ",
        "outputId": "7f497948-c096-468b-c170-9f1f59b63b7b"
      },
      "outputs": [
        {
          "output_type": "stream",
          "name": "stdout",
          "text": [
            "(array([   7,    8,    9,   10,   11,   12,   17,   18,   19,   21,   22,\n",
            "         23,   24,   29,   33,   34,   42,   47,   54,   57,   59,   61,\n",
            "         72,  108,  113,  114,  118,  119,  120,  123,  124,  125,  130,\n",
            "        138,  140,  142,  143,  144,  145,  146,  147,  150,  154,  157,\n",
            "        159,  162,  167,  172,  174,  175,  176,  179,  180,  183,  184,\n",
            "        186,  188,  189,  193,  195,  198,  202,  204,  205,  208,  212,\n",
            "        213,  224,  226,  227,  229,  230,  234,  235,  236,  248,  252,\n",
            "        255,  256,  259,  261,  262,  263,  264,  265,  268,  269,  272,\n",
            "        273,  274,  275,  277,  282,  285,  288,  289,  290,  291,  293,\n",
            "        295,  296,  297,  298,  308,  309,  321,  340,  341,  345,  379,\n",
            "        380,  381,  382,  383,  384,  385,  386,  387,  388,  389,  390,\n",
            "        391,  392,  393,  394,  399,  400,  401,  402,  403,  404,  405,\n",
            "        406,  407,  408,  409,  410,  411,  412,  426,  427,  429,  430,\n",
            "        431,  433,  435,  438,  445,  453,  454,  461,  462,  463,  471,\n",
            "        472,  475,  478,  479,  485,  486,  496,  497,  502,  503,  504,\n",
            "        506,  511,  512,  514,  515,  520,  527,  529,  530,  531,  532,\n",
            "        533,  534,  535,  536,  539,  540,  544,  546,  547,  549,  552,\n",
            "        553,  554,  556,  557,  559,  560,  562,  563,  564,  565,  566,\n",
            "        568,  573,  575,  576,  581,  582,  583,  584,  585,  594,  595,\n",
            "        610,  616,  617,  626,  630,  633,  653,  657,  658,  662,  671,\n",
            "        673,  680,  682,  683,  684,  694,  696,  697,  698,  702,  703,\n",
            "        704,  708,  709,  712,  713,  718,  719,  725,  727,  731,  732,\n",
            "        740,  752,  757,  761,  763,  765,  766,  771,  775,  776,  777,\n",
            "        779,  780,  781,  782,  783,  785,  793,  796,  797,  799,  800,\n",
            "        801,  805,  806,  808,  810,  814,  816,  817,  818,  819,  822,\n",
            "        827,  830,  833,  838,  839,  841,  842,  844,  845,  846,  847,\n",
            "        848,  859,  860,  866,  875,  877,  878,  879,  880,  882,  883,\n",
            "        886,  887,  888,  890,  891,  892,  893,  894,  895,  896,  899,\n",
            "        902,  903,  904,  905,  906,  907,  908,  920,  922,  928,  929,\n",
            "        930,  934,  937,  939,  941,  942,  943,  944,  945,  946,  949,\n",
            "        950,  951,  953,  954,  955,  956,  957,  959,  960,  961,  967,\n",
            "        968,  970,  971,  972,  974,  979,  980,  988,  989,  990,  991,\n",
            "        993,  994,  995,  997,  998,  999, 1001, 1003, 1004, 1005, 1006,\n",
            "       1010, 1016, 1017, 1018, 1019, 1020]),)\n"
          ]
        }
      ],
      "source": [
        "import numpy as np\n",
        "print(np.where((dataset['precip']>0.6)))"
      ]
    },
    {
      "cell_type": "markdown",
      "metadata": {
        "id": "--b-CiEJoTus"
      },
      "source": [
        "## Nulls"
      ]
    },
    {
      "cell_type": "code",
      "execution_count": 78,
      "metadata": {
        "colab": {
          "base_uri": "https://localhost:8080/"
        },
        "id": "_KJLBt0FoZ-K",
        "outputId": "703fd329-2792-4a93-bcd5-883d91b14379"
      },
      "outputs": [
        {
          "output_type": "execute_result",
          "data": {
            "text/plain": [
              "time         0\n",
              "sun          0\n",
              "temmin       0\n",
              "temmax       0\n",
              "humidity     0\n",
              "precip       0\n",
              "latitude     0\n",
              "longitude    0\n",
              "year         0\n",
              "month        0\n",
              "day          0\n",
              "dtype: int64"
            ]
          },
          "metadata": {},
          "execution_count": 78
        }
      ],
      "source": [
        "dataset.isnull().sum()"
      ]
    }
  ],
  "metadata": {
    "colab": {
      "provenance": [],
      "toc_visible": true
    },
    "kernelspec": {
      "display_name": "Python 3",
      "name": "python3"
    },
    "language_info": {
      "name": "python"
    }
  },
  "nbformat": 4,
  "nbformat_minor": 0
}