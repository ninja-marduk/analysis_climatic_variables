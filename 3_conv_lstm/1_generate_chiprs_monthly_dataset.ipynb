{
 "cells": [
  {
   "cell_type": "markdown",
   "id": "ca9cc0f4-9d01-4837-8e86-78af8898317f",
   "metadata": {},
   "source": [
    "# Load dataset Daily CHIRPS"
   ]
  },
  {
   "cell_type": "code",
   "execution_count": 1,
   "id": "c74f105f-267b-49cb-8650-b8a70e935bb1",
   "metadata": {
    "tags": []
   },
   "outputs": [],
   "source": [
    "import os\n",
    "path = 'D:/Data/CHIRPS/daily/'\n",
    "path_ideam = 'D:/Data/IDEAM/daily/'\n",
    "path_shape = 'D:/Data/CHIRPS/shapes/'\n",
    "files = os.listdir(path)"
   ]
  },
  {
   "cell_type": "code",
   "execution_count": 2,
   "id": "e78cf2ec-1cb7-4d79-afa1-28d1114b687c",
   "metadata": {
    "tags": []
   },
   "outputs": [],
   "source": [
    "import numpy as np\n",
    "\n",
    "# Constants\n",
    "LON_BOYACA_MIN = -74.8\n",
    "LON_BOYACA_MAX = -71.9\n",
    "LAT_BOYACA_MIN = 4.5\n",
    "LAT_BOYACA_MAX = 7.3\n",
    "RESOLUTION = 0.05\n",
    "\n",
    "x = np.arange(LON_BOYACA_MIN, LON_BOYACA_MAX, RESOLUTION)\n",
    "y = np.arange(LAT_BOYACA_MIN, LAT_BOYACA_MAX, RESOLUTION)\n",
    "\n",
    "xx, yy = np.meshgrid(x, y)\n",
    "xnorm = (xx - xx.min()) / (xx.max() - xx.min())\n",
    "ynorm = (yy - yy.min()) / (yy.max() - yy.min())"
   ]
  },
  {
   "cell_type": "code",
   "execution_count": 3,
   "id": "9c3287a8-361f-439b-a5ea-5a3ddb625a5d",
   "metadata": {
    "tags": []
   },
   "outputs": [],
   "source": [
    "import netCDF4 as nc\n",
    "import xarray as xr\n",
    "import pandas as pd\n",
    "ds_chirps_nc_2005 = xr.open_dataset(xr.backends.NetCDF4DataStore(nc.Dataset(path+'chirps-v2.0.2005.days_p05.nc')))\n",
    "ds_chirps_nc_2006 = xr.open_dataset(xr.backends.NetCDF4DataStore(nc.Dataset(path+'chirps-v2.0.2006.days_p05.nc')))\n",
    "ds_chirps_nc_2007 = xr.open_dataset(xr.backends.NetCDF4DataStore(nc.Dataset(path+'chirps-v2.0.2007.days_p05.nc')))\n",
    "ds_chirps_nc_2008 = xr.open_dataset(xr.backends.NetCDF4DataStore(nc.Dataset(path+'chirps-v2.0.2008.days_p05.nc')))\n",
    "ds_chirps_nc_2009 = xr.open_dataset(xr.backends.NetCDF4DataStore(nc.Dataset(path+'chirps-v2.0.2009.days_p05.nc')))\n",
    "ds_chirps_nc_2010 = xr.open_dataset(xr.backends.NetCDF4DataStore(nc.Dataset(path+'chirps-v2.0.2010.days_p05.nc')))\n",
    "ds_chirps_nc_2011 = xr.open_dataset(xr.backends.NetCDF4DataStore(nc.Dataset(path+'chirps-v2.0.2011.days_p05.nc')))\n",
    "ds_chirps_nc_2012 = xr.open_dataset(xr.backends.NetCDF4DataStore(nc.Dataset(path+'chirps-v2.0.2012.days_p05.nc')))\n",
    "ds_chirps_nc_2013 = xr.open_dataset(xr.backends.NetCDF4DataStore(nc.Dataset(path+'chirps-v2.0.2013.days_p05.nc')))\n",
    "ds_chirps_nc_2014 = xr.open_dataset(xr.backends.NetCDF4DataStore(nc.Dataset(path+'chirps-v2.0.2014.days_p05.nc')))\n",
    "ds_chirps_nc_2015 = xr.open_dataset(xr.backends.NetCDF4DataStore(nc.Dataset(path+'chirps-v2.0.2015.days_p05.nc')))\n",
    "ds_chirps_nc_2016 = xr.open_dataset(xr.backends.NetCDF4DataStore(nc.Dataset(path+'chirps-v2.0.2016.days_p05.nc')))\n",
    "ds_chirps_nc_2017 = xr.open_dataset(xr.backends.NetCDF4DataStore(nc.Dataset(path+'chirps-v2.0.2017.days_p05.nc')))\n",
    "ds_chirps_nc_2018 = xr.open_dataset(xr.backends.NetCDF4DataStore(nc.Dataset(path+'chirps-v2.0.2018.days_p05.nc')))\n",
    "ds_chirps_nc_2019 = xr.open_dataset(xr.backends.NetCDF4DataStore(nc.Dataset(path+'chirps-v2.0.2019.days_p05.nc')))\n",
    "ds_chirps_nc_2020 = xr.open_dataset(xr.backends.NetCDF4DataStore(nc.Dataset(path+'chirps-v2.0.2020.days_p05.nc')))\n",
    "ds_chirps_nc_2021 = xr.open_dataset(xr.backends.NetCDF4DataStore(nc.Dataset(path+'chirps-v2.0.2021.days_p05.nc')))\n",
    "\n",
    "# delimit the boundaries of Boyacá\n",
    "ds_chirps_nc_2005 = ds_chirps_nc_2005.sel(longitude=slice(LON_BOYACA_MIN,LON_BOYACA_MAX), latitude=slice(LAT_BOYACA_MIN,LAT_BOYACA_MAX))\n",
    "ds_chirps_nc_2006 = ds_chirps_nc_2006.sel(longitude=slice(LON_BOYACA_MIN,LON_BOYACA_MAX), latitude=slice(LAT_BOYACA_MIN,LAT_BOYACA_MAX))\n",
    "ds_chirps_nc_2007 = ds_chirps_nc_2007.sel(longitude=slice(LON_BOYACA_MIN,LON_BOYACA_MAX), latitude=slice(LAT_BOYACA_MIN,LAT_BOYACA_MAX))\n",
    "ds_chirps_nc_2008 = ds_chirps_nc_2008.sel(longitude=slice(LON_BOYACA_MIN,LON_BOYACA_MAX), latitude=slice(LAT_BOYACA_MIN,LAT_BOYACA_MAX))\n",
    "ds_chirps_nc_2009 = ds_chirps_nc_2009.sel(longitude=slice(LON_BOYACA_MIN,LON_BOYACA_MAX), latitude=slice(LAT_BOYACA_MIN,LAT_BOYACA_MAX))\n",
    "ds_chirps_nc_2010 = ds_chirps_nc_2010.sel(longitude=slice(LON_BOYACA_MIN,LON_BOYACA_MAX), latitude=slice(LAT_BOYACA_MIN,LAT_BOYACA_MAX))\n",
    "ds_chirps_nc_2011 = ds_chirps_nc_2011.sel(longitude=slice(LON_BOYACA_MIN,LON_BOYACA_MAX), latitude=slice(LAT_BOYACA_MIN,LAT_BOYACA_MAX))\n",
    "ds_chirps_nc_2012 = ds_chirps_nc_2012.sel(longitude=slice(LON_BOYACA_MIN,LON_BOYACA_MAX), latitude=slice(LAT_BOYACA_MIN,LAT_BOYACA_MAX))\n",
    "ds_chirps_nc_2013 = ds_chirps_nc_2013.sel(longitude=slice(LON_BOYACA_MIN,LON_BOYACA_MAX), latitude=slice(LAT_BOYACA_MIN,LAT_BOYACA_MAX))\n",
    "ds_chirps_nc_2014 = ds_chirps_nc_2014.sel(longitude=slice(LON_BOYACA_MIN,LON_BOYACA_MAX), latitude=slice(LAT_BOYACA_MIN,LAT_BOYACA_MAX))\n",
    "ds_chirps_nc_2015 = ds_chirps_nc_2015.sel(longitude=slice(LON_BOYACA_MIN,LON_BOYACA_MAX), latitude=slice(LAT_BOYACA_MIN,LAT_BOYACA_MAX))\n",
    "ds_chirps_nc_2016 = ds_chirps_nc_2016.sel(longitude=slice(LON_BOYACA_MIN,LON_BOYACA_MAX), latitude=slice(LAT_BOYACA_MIN,LAT_BOYACA_MAX))\n",
    "ds_chirps_nc_2017 = ds_chirps_nc_2017.sel(longitude=slice(LON_BOYACA_MIN,LON_BOYACA_MAX), latitude=slice(LAT_BOYACA_MIN,LAT_BOYACA_MAX))\n",
    "ds_chirps_nc_2018 = ds_chirps_nc_2018.sel(longitude=slice(LON_BOYACA_MIN,LON_BOYACA_MAX), latitude=slice(LAT_BOYACA_MIN,LAT_BOYACA_MAX))\n",
    "ds_chirps_nc_2019 = ds_chirps_nc_2019.sel(longitude=slice(LON_BOYACA_MIN,LON_BOYACA_MAX), latitude=slice(LAT_BOYACA_MIN,LAT_BOYACA_MAX))\n",
    "ds_chirps_nc_2020 = ds_chirps_nc_2020.sel(longitude=slice(LON_BOYACA_MIN,LON_BOYACA_MAX), latitude=slice(LAT_BOYACA_MIN,LAT_BOYACA_MAX))\n",
    "ds_chirps_nc_2021 = ds_chirps_nc_2021.sel(longitude=slice(LON_BOYACA_MIN,LON_BOYACA_MAX), latitude=slice(LAT_BOYACA_MIN,LAT_BOYACA_MAX))"
   ]
  },
  {
   "cell_type": "code",
   "execution_count": 4,
   "id": "829643dc-2504-4451-9609-1ba5a8609417",
   "metadata": {
    "tags": []
   },
   "outputs": [],
   "source": [
    "ds2005_2021 = xr.concat([ds_chirps_nc_2005,ds_chirps_nc_2006,ds_chirps_nc_2007,ds_chirps_nc_2008,ds_chirps_nc_2009,ds_chirps_nc_2010,ds_chirps_nc_2011,ds_chirps_nc_2012,ds_chirps_nc_2013,ds_chirps_nc_2014,ds_chirps_nc_2015,ds_chirps_nc_2016,ds_chirps_nc_2017,ds_chirps_nc_2018,ds_chirps_nc_2019,ds_chirps_nc_2020,ds_chirps_nc_2021], dim='time')"
   ]
  },
  {
   "cell_type": "code",
   "execution_count": 40,
   "id": "b7f55a37-fa67-45f8-bb00-301e808f5f92",
   "metadata": {
    "tags": []
   },
   "outputs": [],
   "source": [
    "import matplotlib.pyplot as plt\n",
    "ds_chirps_nc_2007_mon = ds_chirps_nc_2007.groupby('time.month').sum()\n",
    "#ds_chirps_nc_2007_mon.precip[0:,:].plot(cmap='jet', vmax=300)"
   ]
  },
  {
   "cell_type": "code",
   "execution_count": 46,
   "id": "c52ec68e-f8e0-4bce-89b3-51282cc3e109",
   "metadata": {
    "tags": []
   },
   "outputs": [
    {
     "ename": "ValueError",
     "evalue": "Dataset.plot cannot be called directly. Use an explicit plot method, e.g. ds.plot.scatter(...)",
     "output_type": "error",
     "traceback": [
      "\u001b[1;31m---------------------------------------------------------------------------\u001b[0m",
      "\u001b[1;31mValueError\u001b[0m                                Traceback (most recent call last)",
      "Cell \u001b[1;32mIn[46], line 15\u001b[0m\n\u001b[0;32m     12\u001b[0m ani \u001b[38;5;241m=\u001b[39m animation\u001b[38;5;241m.\u001b[39mFuncAnimation(fig, animate, \u001b[38;5;241m12\u001b[39m, interval\u001b[38;5;241m=\u001b[39m\u001b[38;5;241m400\u001b[39m, blit\u001b[38;5;241m=\u001b[39m\u001b[38;5;28;01mFalse\u001b[39;00m)\n\u001b[0;32m     14\u001b[0m \u001b[38;5;66;03m#ani.save('animation.gif', writer='imagemagick', fps = 2) #Save animation as gif-file\u001b[39;00m\n\u001b[1;32m---> 15\u001b[0m HTML(ani\u001b[38;5;241m.\u001b[39mto_jshtml())\n",
      "File \u001b[1;32m~\\anaconda3\\envs\\rainfall\\Lib\\site-packages\\matplotlib\\animation.py:1352\u001b[0m, in \u001b[0;36mAnimation.to_jshtml\u001b[1;34m(self, fps, embed_frames, default_mode)\u001b[0m\n\u001b[0;32m   1348\u001b[0m         path \u001b[38;5;241m=\u001b[39m Path(tmpdir, \u001b[38;5;124m\"\u001b[39m\u001b[38;5;124mtemp.html\u001b[39m\u001b[38;5;124m\"\u001b[39m)\n\u001b[0;32m   1349\u001b[0m         writer \u001b[38;5;241m=\u001b[39m HTMLWriter(fps\u001b[38;5;241m=\u001b[39mfps,\n\u001b[0;32m   1350\u001b[0m                             embed_frames\u001b[38;5;241m=\u001b[39membed_frames,\n\u001b[0;32m   1351\u001b[0m                             default_mode\u001b[38;5;241m=\u001b[39mdefault_mode)\n\u001b[1;32m-> 1352\u001b[0m         \u001b[38;5;28mself\u001b[39m\u001b[38;5;241m.\u001b[39msave(\u001b[38;5;28mstr\u001b[39m(path), writer\u001b[38;5;241m=\u001b[39mwriter)\n\u001b[0;32m   1353\u001b[0m         \u001b[38;5;28mself\u001b[39m\u001b[38;5;241m.\u001b[39m_html_representation \u001b[38;5;241m=\u001b[39m path\u001b[38;5;241m.\u001b[39mread_text()\n\u001b[0;32m   1355\u001b[0m \u001b[38;5;28;01mreturn\u001b[39;00m \u001b[38;5;28mself\u001b[39m\u001b[38;5;241m.\u001b[39m_html_representation\n",
      "File \u001b[1;32m~\\anaconda3\\envs\\rainfall\\Lib\\site-packages\\matplotlib\\animation.py:1090\u001b[0m, in \u001b[0;36mAnimation.save\u001b[1;34m(self, filename, writer, fps, dpi, codec, bitrate, extra_args, metadata, extra_anim, savefig_kwargs, progress_callback)\u001b[0m\n\u001b[0;32m   1085\u001b[0m \u001b[38;5;28;01mwith\u001b[39;00m mpl\u001b[38;5;241m.\u001b[39mrc_context({\u001b[38;5;124m'\u001b[39m\u001b[38;5;124msavefig.bbox\u001b[39m\u001b[38;5;124m'\u001b[39m: \u001b[38;5;28;01mNone\u001b[39;00m}), \\\n\u001b[0;32m   1086\u001b[0m      writer\u001b[38;5;241m.\u001b[39msaving(\u001b[38;5;28mself\u001b[39m\u001b[38;5;241m.\u001b[39m_fig, filename, dpi), \\\n\u001b[0;32m   1087\u001b[0m      cbook\u001b[38;5;241m.\u001b[39m_setattr_cm(\u001b[38;5;28mself\u001b[39m\u001b[38;5;241m.\u001b[39m_fig\u001b[38;5;241m.\u001b[39mcanvas,\n\u001b[0;32m   1088\u001b[0m                        _is_saving\u001b[38;5;241m=\u001b[39m\u001b[38;5;28;01mTrue\u001b[39;00m, manager\u001b[38;5;241m=\u001b[39m\u001b[38;5;28;01mNone\u001b[39;00m):\n\u001b[0;32m   1089\u001b[0m     \u001b[38;5;28;01mfor\u001b[39;00m anim \u001b[38;5;129;01min\u001b[39;00m all_anim:\n\u001b[1;32m-> 1090\u001b[0m         anim\u001b[38;5;241m.\u001b[39m_init_draw()  \u001b[38;5;66;03m# Clear the initial frame\u001b[39;00m\n\u001b[0;32m   1091\u001b[0m     frame_number \u001b[38;5;241m=\u001b[39m \u001b[38;5;241m0\u001b[39m\n\u001b[0;32m   1092\u001b[0m     \u001b[38;5;66;03m# TODO: Currently only FuncAnimation has a save_count\u001b[39;00m\n\u001b[0;32m   1093\u001b[0m     \u001b[38;5;66;03m#       attribute. Can we generalize this to all Animations?\u001b[39;00m\n",
      "File \u001b[1;32m~\\anaconda3\\envs\\rainfall\\Lib\\site-packages\\matplotlib\\animation.py:1748\u001b[0m, in \u001b[0;36mFuncAnimation._init_draw\u001b[1;34m(self)\u001b[0m\n\u001b[0;32m   1740\u001b[0m         warnings\u001b[38;5;241m.\u001b[39mwarn(\n\u001b[0;32m   1741\u001b[0m             \u001b[38;5;124m\"\u001b[39m\u001b[38;5;124mCan not start iterating the frames for the initial draw. \u001b[39m\u001b[38;5;124m\"\u001b[39m\n\u001b[0;32m   1742\u001b[0m             \u001b[38;5;124m\"\u001b[39m\u001b[38;5;124mThis can be caused by passing in a 0 length sequence \u001b[39m\u001b[38;5;124m\"\u001b[39m\n\u001b[1;32m   (...)\u001b[0m\n\u001b[0;32m   1745\u001b[0m             \u001b[38;5;124m\"\u001b[39m\u001b[38;5;124mit may be exhausted due to a previous display or save.\u001b[39m\u001b[38;5;124m\"\u001b[39m\n\u001b[0;32m   1746\u001b[0m         )\n\u001b[0;32m   1747\u001b[0m         \u001b[38;5;28;01mreturn\u001b[39;00m\n\u001b[1;32m-> 1748\u001b[0m     \u001b[38;5;28mself\u001b[39m\u001b[38;5;241m.\u001b[39m_draw_frame(frame_data)\n\u001b[0;32m   1749\u001b[0m \u001b[38;5;28;01melse\u001b[39;00m:\n\u001b[0;32m   1750\u001b[0m     \u001b[38;5;28mself\u001b[39m\u001b[38;5;241m.\u001b[39m_drawn_artists \u001b[38;5;241m=\u001b[39m \u001b[38;5;28mself\u001b[39m\u001b[38;5;241m.\u001b[39m_init_func()\n",
      "File \u001b[1;32m~\\anaconda3\\envs\\rainfall\\Lib\\site-packages\\matplotlib\\animation.py:1767\u001b[0m, in \u001b[0;36mFuncAnimation._draw_frame\u001b[1;34m(self, framedata)\u001b[0m\n\u001b[0;32m   1763\u001b[0m     \u001b[38;5;28mself\u001b[39m\u001b[38;5;241m.\u001b[39m_save_seq \u001b[38;5;241m=\u001b[39m \u001b[38;5;28mself\u001b[39m\u001b[38;5;241m.\u001b[39m_save_seq[\u001b[38;5;241m-\u001b[39m\u001b[38;5;28mself\u001b[39m\u001b[38;5;241m.\u001b[39m_save_count:]\n\u001b[0;32m   1765\u001b[0m \u001b[38;5;66;03m# Call the func with framedata and args. If blitting is desired,\u001b[39;00m\n\u001b[0;32m   1766\u001b[0m \u001b[38;5;66;03m# func needs to return a sequence of any artists that were modified.\u001b[39;00m\n\u001b[1;32m-> 1767\u001b[0m \u001b[38;5;28mself\u001b[39m\u001b[38;5;241m.\u001b[39m_drawn_artists \u001b[38;5;241m=\u001b[39m \u001b[38;5;28mself\u001b[39m\u001b[38;5;241m.\u001b[39m_func(framedata, \u001b[38;5;241m*\u001b[39m\u001b[38;5;28mself\u001b[39m\u001b[38;5;241m.\u001b[39m_args)\n\u001b[0;32m   1769\u001b[0m \u001b[38;5;28;01mif\u001b[39;00m \u001b[38;5;28mself\u001b[39m\u001b[38;5;241m.\u001b[39m_blit:\n\u001b[0;32m   1771\u001b[0m     err \u001b[38;5;241m=\u001b[39m \u001b[38;5;167;01mRuntimeError\u001b[39;00m(\u001b[38;5;124m'\u001b[39m\u001b[38;5;124mThe animation function must return a sequence \u001b[39m\u001b[38;5;124m'\u001b[39m\n\u001b[0;32m   1772\u001b[0m                        \u001b[38;5;124m'\u001b[39m\u001b[38;5;124mof Artist objects.\u001b[39m\u001b[38;5;124m'\u001b[39m)\n",
      "Cell \u001b[1;32mIn[46], line 10\u001b[0m, in \u001b[0;36manimate\u001b[1;34m(month)\u001b[0m\n\u001b[0;32m      8\u001b[0m plt\u001b[38;5;241m.\u001b[39mclf()\n\u001b[0;32m      9\u001b[0m \u001b[38;5;66;03m# ds_chirps_nc_2007_mon.precip[i,:,:].plot(cmap='jet', vmax=800)\u001b[39;00m\n\u001b[1;32m---> 10\u001b[0m ds_chirps_nc_2007_mon\u001b[38;5;241m.\u001b[39misel(month\u001b[38;5;241m=\u001b[39mmonth)\u001b[38;5;241m.\u001b[39mplot(cmap\u001b[38;5;241m=\u001b[39m\u001b[38;5;124m'\u001b[39m\u001b[38;5;124mjet\u001b[39m\u001b[38;5;124m'\u001b[39m, vmax\u001b[38;5;241m=\u001b[39m\u001b[38;5;241m800\u001b[39m)\n",
      "File \u001b[1;32m~\\anaconda3\\envs\\rainfall\\Lib\\site-packages\\xarray\\plot\\accessor.py:941\u001b[0m, in \u001b[0;36mDatasetPlotAccessor.__call__\u001b[1;34m(self, *args, **kwargs)\u001b[0m\n\u001b[0;32m    940\u001b[0m \u001b[38;5;28;01mdef\u001b[39;00m \u001b[38;5;21m__call__\u001b[39m(\u001b[38;5;28mself\u001b[39m, \u001b[38;5;241m*\u001b[39margs, \u001b[38;5;241m*\u001b[39m\u001b[38;5;241m*\u001b[39mkwargs) \u001b[38;5;241m-\u001b[39m\u001b[38;5;241m>\u001b[39m NoReturn:\n\u001b[1;32m--> 941\u001b[0m     \u001b[38;5;28;01mraise\u001b[39;00m \u001b[38;5;167;01mValueError\u001b[39;00m(\n\u001b[0;32m    942\u001b[0m         \u001b[38;5;124m\"\u001b[39m\u001b[38;5;124mDataset.plot cannot be called directly. Use \u001b[39m\u001b[38;5;124m\"\u001b[39m\n\u001b[0;32m    943\u001b[0m         \u001b[38;5;124m\"\u001b[39m\u001b[38;5;124man explicit plot method, e.g. ds.plot.scatter(...)\u001b[39m\u001b[38;5;124m\"\u001b[39m\n\u001b[0;32m    944\u001b[0m     )\n",
      "\u001b[1;31mValueError\u001b[0m: Dataset.plot cannot be called directly. Use an explicit plot method, e.g. ds.plot.scatter(...)"
     ]
    },
    {
     "name": "stdout",
     "output_type": "stream",
     "text": [
      "Error in callback <function _draw_all_if_interactive at 0x0000027B818EF060> (for post_execute):\n"
     ]
    },
    {
     "ename": "ValueError",
     "evalue": "Dataset.plot cannot be called directly. Use an explicit plot method, e.g. ds.plot.scatter(...)",
     "output_type": "error",
     "traceback": [
      "\u001b[1;31m---------------------------------------------------------------------------\u001b[0m",
      "\u001b[1;31mValueError\u001b[0m                                Traceback (most recent call last)",
      "File \u001b[1;32m~\\anaconda3\\envs\\rainfall\\Lib\\site-packages\\matplotlib\\pyplot.py:120\u001b[0m, in \u001b[0;36m_draw_all_if_interactive\u001b[1;34m()\u001b[0m\n\u001b[0;32m    118\u001b[0m \u001b[38;5;28;01mdef\u001b[39;00m \u001b[38;5;21m_draw_all_if_interactive\u001b[39m():\n\u001b[0;32m    119\u001b[0m     \u001b[38;5;28;01mif\u001b[39;00m matplotlib\u001b[38;5;241m.\u001b[39mis_interactive():\n\u001b[1;32m--> 120\u001b[0m         draw_all()\n",
      "File \u001b[1;32m~\\anaconda3\\envs\\rainfall\\Lib\\site-packages\\matplotlib\\_pylab_helpers.py:132\u001b[0m, in \u001b[0;36mGcf.draw_all\u001b[1;34m(cls, force)\u001b[0m\n\u001b[0;32m    130\u001b[0m \u001b[38;5;28;01mfor\u001b[39;00m manager \u001b[38;5;129;01min\u001b[39;00m \u001b[38;5;28mcls\u001b[39m\u001b[38;5;241m.\u001b[39mget_all_fig_managers():\n\u001b[0;32m    131\u001b[0m     \u001b[38;5;28;01mif\u001b[39;00m force \u001b[38;5;129;01mor\u001b[39;00m manager\u001b[38;5;241m.\u001b[39mcanvas\u001b[38;5;241m.\u001b[39mfigure\u001b[38;5;241m.\u001b[39mstale:\n\u001b[1;32m--> 132\u001b[0m         manager\u001b[38;5;241m.\u001b[39mcanvas\u001b[38;5;241m.\u001b[39mdraw_idle()\n",
      "File \u001b[1;32m~\\anaconda3\\envs\\rainfall\\Lib\\site-packages\\matplotlib\\backend_bases.py:2082\u001b[0m, in \u001b[0;36mFigureCanvasBase.draw_idle\u001b[1;34m(self, *args, **kwargs)\u001b[0m\n\u001b[0;32m   2080\u001b[0m \u001b[38;5;28;01mif\u001b[39;00m \u001b[38;5;129;01mnot\u001b[39;00m \u001b[38;5;28mself\u001b[39m\u001b[38;5;241m.\u001b[39m_is_idle_drawing:\n\u001b[0;32m   2081\u001b[0m     \u001b[38;5;28;01mwith\u001b[39;00m \u001b[38;5;28mself\u001b[39m\u001b[38;5;241m.\u001b[39m_idle_draw_cntx():\n\u001b[1;32m-> 2082\u001b[0m         \u001b[38;5;28mself\u001b[39m\u001b[38;5;241m.\u001b[39mdraw(\u001b[38;5;241m*\u001b[39margs, \u001b[38;5;241m*\u001b[39m\u001b[38;5;241m*\u001b[39mkwargs)\n",
      "File \u001b[1;32m~\\anaconda3\\envs\\rainfall\\Lib\\site-packages\\matplotlib\\backends\\backend_agg.py:400\u001b[0m, in \u001b[0;36mFigureCanvasAgg.draw\u001b[1;34m(self)\u001b[0m\n\u001b[0;32m    396\u001b[0m \u001b[38;5;66;03m# Acquire a lock on the shared font cache.\u001b[39;00m\n\u001b[0;32m    397\u001b[0m \u001b[38;5;28;01mwith\u001b[39;00m RendererAgg\u001b[38;5;241m.\u001b[39mlock, \\\n\u001b[0;32m    398\u001b[0m      (\u001b[38;5;28mself\u001b[39m\u001b[38;5;241m.\u001b[39mtoolbar\u001b[38;5;241m.\u001b[39m_wait_cursor_for_draw_cm() \u001b[38;5;28;01mif\u001b[39;00m \u001b[38;5;28mself\u001b[39m\u001b[38;5;241m.\u001b[39mtoolbar\n\u001b[0;32m    399\u001b[0m       \u001b[38;5;28;01melse\u001b[39;00m nullcontext()):\n\u001b[1;32m--> 400\u001b[0m     \u001b[38;5;28mself\u001b[39m\u001b[38;5;241m.\u001b[39mfigure\u001b[38;5;241m.\u001b[39mdraw(\u001b[38;5;28mself\u001b[39m\u001b[38;5;241m.\u001b[39mrenderer)\n\u001b[0;32m    401\u001b[0m     \u001b[38;5;66;03m# A GUI class may be need to update a window using this draw, so\u001b[39;00m\n\u001b[0;32m    402\u001b[0m     \u001b[38;5;66;03m# don't forget to call the superclass.\u001b[39;00m\n\u001b[0;32m    403\u001b[0m     \u001b[38;5;28msuper\u001b[39m()\u001b[38;5;241m.\u001b[39mdraw()\n",
      "File \u001b[1;32m~\\anaconda3\\envs\\rainfall\\Lib\\site-packages\\matplotlib\\artist.py:95\u001b[0m, in \u001b[0;36m_finalize_rasterization.<locals>.draw_wrapper\u001b[1;34m(artist, renderer, *args, **kwargs)\u001b[0m\n\u001b[0;32m     93\u001b[0m \u001b[38;5;129m@wraps\u001b[39m(draw)\n\u001b[0;32m     94\u001b[0m \u001b[38;5;28;01mdef\u001b[39;00m \u001b[38;5;21mdraw_wrapper\u001b[39m(artist, renderer, \u001b[38;5;241m*\u001b[39margs, \u001b[38;5;241m*\u001b[39m\u001b[38;5;241m*\u001b[39mkwargs):\n\u001b[1;32m---> 95\u001b[0m     result \u001b[38;5;241m=\u001b[39m draw(artist, renderer, \u001b[38;5;241m*\u001b[39margs, \u001b[38;5;241m*\u001b[39m\u001b[38;5;241m*\u001b[39mkwargs)\n\u001b[0;32m     96\u001b[0m     \u001b[38;5;28;01mif\u001b[39;00m renderer\u001b[38;5;241m.\u001b[39m_rasterizing:\n\u001b[0;32m     97\u001b[0m         renderer\u001b[38;5;241m.\u001b[39mstop_rasterizing()\n",
      "File \u001b[1;32m~\\anaconda3\\envs\\rainfall\\Lib\\site-packages\\matplotlib\\artist.py:72\u001b[0m, in \u001b[0;36mallow_rasterization.<locals>.draw_wrapper\u001b[1;34m(artist, renderer)\u001b[0m\n\u001b[0;32m     69\u001b[0m     \u001b[38;5;28;01mif\u001b[39;00m artist\u001b[38;5;241m.\u001b[39mget_agg_filter() \u001b[38;5;129;01mis\u001b[39;00m \u001b[38;5;129;01mnot\u001b[39;00m \u001b[38;5;28;01mNone\u001b[39;00m:\n\u001b[0;32m     70\u001b[0m         renderer\u001b[38;5;241m.\u001b[39mstart_filter()\n\u001b[1;32m---> 72\u001b[0m     \u001b[38;5;28;01mreturn\u001b[39;00m draw(artist, renderer)\n\u001b[0;32m     73\u001b[0m \u001b[38;5;28;01mfinally\u001b[39;00m:\n\u001b[0;32m     74\u001b[0m     \u001b[38;5;28;01mif\u001b[39;00m artist\u001b[38;5;241m.\u001b[39mget_agg_filter() \u001b[38;5;129;01mis\u001b[39;00m \u001b[38;5;129;01mnot\u001b[39;00m \u001b[38;5;28;01mNone\u001b[39;00m:\n",
      "File \u001b[1;32m~\\anaconda3\\envs\\rainfall\\Lib\\site-packages\\matplotlib\\figure.py:3150\u001b[0m, in \u001b[0;36mFigure.draw\u001b[1;34m(self, renderer)\u001b[0m\n\u001b[0;32m   3147\u001b[0m \u001b[38;5;28;01mfinally\u001b[39;00m:\n\u001b[0;32m   3148\u001b[0m     \u001b[38;5;28mself\u001b[39m\u001b[38;5;241m.\u001b[39mstale \u001b[38;5;241m=\u001b[39m \u001b[38;5;28;01mFalse\u001b[39;00m\n\u001b[1;32m-> 3150\u001b[0m DrawEvent(\u001b[38;5;124m\"\u001b[39m\u001b[38;5;124mdraw_event\u001b[39m\u001b[38;5;124m\"\u001b[39m, \u001b[38;5;28mself\u001b[39m\u001b[38;5;241m.\u001b[39mcanvas, renderer)\u001b[38;5;241m.\u001b[39m_process()\n",
      "File \u001b[1;32m~\\anaconda3\\envs\\rainfall\\Lib\\site-packages\\matplotlib\\backend_bases.py:1263\u001b[0m, in \u001b[0;36mEvent._process\u001b[1;34m(self)\u001b[0m\n\u001b[0;32m   1261\u001b[0m \u001b[38;5;28;01mdef\u001b[39;00m \u001b[38;5;21m_process\u001b[39m(\u001b[38;5;28mself\u001b[39m):\n\u001b[0;32m   1262\u001b[0m \u001b[38;5;250m    \u001b[39m\u001b[38;5;124;03m\"\"\"Generate an event with name ``self.name`` on ``self.canvas``.\"\"\"\u001b[39;00m\n\u001b[1;32m-> 1263\u001b[0m     \u001b[38;5;28mself\u001b[39m\u001b[38;5;241m.\u001b[39mcanvas\u001b[38;5;241m.\u001b[39mcallbacks\u001b[38;5;241m.\u001b[39mprocess(\u001b[38;5;28mself\u001b[39m\u001b[38;5;241m.\u001b[39mname, \u001b[38;5;28mself\u001b[39m)\n",
      "File \u001b[1;32m~\\anaconda3\\envs\\rainfall\\Lib\\site-packages\\matplotlib\\cbook\\__init__.py:309\u001b[0m, in \u001b[0;36mCallbackRegistry.process\u001b[1;34m(self, s, *args, **kwargs)\u001b[0m\n\u001b[0;32m    307\u001b[0m \u001b[38;5;28;01mexcept\u001b[39;00m \u001b[38;5;167;01mException\u001b[39;00m \u001b[38;5;28;01mas\u001b[39;00m exc:\n\u001b[0;32m    308\u001b[0m     \u001b[38;5;28;01mif\u001b[39;00m \u001b[38;5;28mself\u001b[39m\u001b[38;5;241m.\u001b[39mexception_handler \u001b[38;5;129;01mis\u001b[39;00m \u001b[38;5;129;01mnot\u001b[39;00m \u001b[38;5;28;01mNone\u001b[39;00m:\n\u001b[1;32m--> 309\u001b[0m         \u001b[38;5;28mself\u001b[39m\u001b[38;5;241m.\u001b[39mexception_handler(exc)\n\u001b[0;32m    310\u001b[0m     \u001b[38;5;28;01melse\u001b[39;00m:\n\u001b[0;32m    311\u001b[0m         \u001b[38;5;28;01mraise\u001b[39;00m\n",
      "File \u001b[1;32m~\\anaconda3\\envs\\rainfall\\Lib\\site-packages\\matplotlib\\cbook\\__init__.py:96\u001b[0m, in \u001b[0;36m_exception_printer\u001b[1;34m(exc)\u001b[0m\n\u001b[0;32m     94\u001b[0m \u001b[38;5;28;01mdef\u001b[39;00m \u001b[38;5;21m_exception_printer\u001b[39m(exc):\n\u001b[0;32m     95\u001b[0m     \u001b[38;5;28;01mif\u001b[39;00m _get_running_interactive_framework() \u001b[38;5;129;01min\u001b[39;00m [\u001b[38;5;124m\"\u001b[39m\u001b[38;5;124mheadless\u001b[39m\u001b[38;5;124m\"\u001b[39m, \u001b[38;5;28;01mNone\u001b[39;00m]:\n\u001b[1;32m---> 96\u001b[0m         \u001b[38;5;28;01mraise\u001b[39;00m exc\n\u001b[0;32m     97\u001b[0m     \u001b[38;5;28;01melse\u001b[39;00m:\n\u001b[0;32m     98\u001b[0m         traceback\u001b[38;5;241m.\u001b[39mprint_exc()\n",
      "File \u001b[1;32m~\\anaconda3\\envs\\rainfall\\Lib\\site-packages\\matplotlib\\cbook\\__init__.py:304\u001b[0m, in \u001b[0;36mCallbackRegistry.process\u001b[1;34m(self, s, *args, **kwargs)\u001b[0m\n\u001b[0;32m    302\u001b[0m \u001b[38;5;28;01mif\u001b[39;00m func \u001b[38;5;129;01mis\u001b[39;00m \u001b[38;5;129;01mnot\u001b[39;00m \u001b[38;5;28;01mNone\u001b[39;00m:\n\u001b[0;32m    303\u001b[0m     \u001b[38;5;28;01mtry\u001b[39;00m:\n\u001b[1;32m--> 304\u001b[0m         func(\u001b[38;5;241m*\u001b[39margs, \u001b[38;5;241m*\u001b[39m\u001b[38;5;241m*\u001b[39mkwargs)\n\u001b[0;32m    305\u001b[0m     \u001b[38;5;66;03m# this does not capture KeyboardInterrupt, SystemExit,\u001b[39;00m\n\u001b[0;32m    306\u001b[0m     \u001b[38;5;66;03m# and GeneratorExit\u001b[39;00m\n\u001b[0;32m    307\u001b[0m     \u001b[38;5;28;01mexcept\u001b[39;00m \u001b[38;5;167;01mException\u001b[39;00m \u001b[38;5;28;01mas\u001b[39;00m exc:\n",
      "File \u001b[1;32m~\\anaconda3\\envs\\rainfall\\Lib\\site-packages\\matplotlib\\animation.py:904\u001b[0m, in \u001b[0;36mAnimation._start\u001b[1;34m(self, *args)\u001b[0m\n\u001b[0;32m    901\u001b[0m \u001b[38;5;28mself\u001b[39m\u001b[38;5;241m.\u001b[39m_fig\u001b[38;5;241m.\u001b[39mcanvas\u001b[38;5;241m.\u001b[39mmpl_disconnect(\u001b[38;5;28mself\u001b[39m\u001b[38;5;241m.\u001b[39m_first_draw_id)\n\u001b[0;32m    903\u001b[0m \u001b[38;5;66;03m# Now do any initial draw\u001b[39;00m\n\u001b[1;32m--> 904\u001b[0m \u001b[38;5;28mself\u001b[39m\u001b[38;5;241m.\u001b[39m_init_draw()\n\u001b[0;32m    906\u001b[0m \u001b[38;5;66;03m# Add our callback for stepping the animation and\u001b[39;00m\n\u001b[0;32m    907\u001b[0m \u001b[38;5;66;03m# actually start the event_source.\u001b[39;00m\n\u001b[0;32m    908\u001b[0m \u001b[38;5;28mself\u001b[39m\u001b[38;5;241m.\u001b[39mevent_source\u001b[38;5;241m.\u001b[39madd_callback(\u001b[38;5;28mself\u001b[39m\u001b[38;5;241m.\u001b[39m_step)\n",
      "File \u001b[1;32m~\\anaconda3\\envs\\rainfall\\Lib\\site-packages\\matplotlib\\animation.py:1748\u001b[0m, in \u001b[0;36mFuncAnimation._init_draw\u001b[1;34m(self)\u001b[0m\n\u001b[0;32m   1740\u001b[0m         warnings\u001b[38;5;241m.\u001b[39mwarn(\n\u001b[0;32m   1741\u001b[0m             \u001b[38;5;124m\"\u001b[39m\u001b[38;5;124mCan not start iterating the frames for the initial draw. \u001b[39m\u001b[38;5;124m\"\u001b[39m\n\u001b[0;32m   1742\u001b[0m             \u001b[38;5;124m\"\u001b[39m\u001b[38;5;124mThis can be caused by passing in a 0 length sequence \u001b[39m\u001b[38;5;124m\"\u001b[39m\n\u001b[1;32m   (...)\u001b[0m\n\u001b[0;32m   1745\u001b[0m             \u001b[38;5;124m\"\u001b[39m\u001b[38;5;124mit may be exhausted due to a previous display or save.\u001b[39m\u001b[38;5;124m\"\u001b[39m\n\u001b[0;32m   1746\u001b[0m         )\n\u001b[0;32m   1747\u001b[0m         \u001b[38;5;28;01mreturn\u001b[39;00m\n\u001b[1;32m-> 1748\u001b[0m     \u001b[38;5;28mself\u001b[39m\u001b[38;5;241m.\u001b[39m_draw_frame(frame_data)\n\u001b[0;32m   1749\u001b[0m \u001b[38;5;28;01melse\u001b[39;00m:\n\u001b[0;32m   1750\u001b[0m     \u001b[38;5;28mself\u001b[39m\u001b[38;5;241m.\u001b[39m_drawn_artists \u001b[38;5;241m=\u001b[39m \u001b[38;5;28mself\u001b[39m\u001b[38;5;241m.\u001b[39m_init_func()\n",
      "File \u001b[1;32m~\\anaconda3\\envs\\rainfall\\Lib\\site-packages\\matplotlib\\animation.py:1767\u001b[0m, in \u001b[0;36mFuncAnimation._draw_frame\u001b[1;34m(self, framedata)\u001b[0m\n\u001b[0;32m   1763\u001b[0m     \u001b[38;5;28mself\u001b[39m\u001b[38;5;241m.\u001b[39m_save_seq \u001b[38;5;241m=\u001b[39m \u001b[38;5;28mself\u001b[39m\u001b[38;5;241m.\u001b[39m_save_seq[\u001b[38;5;241m-\u001b[39m\u001b[38;5;28mself\u001b[39m\u001b[38;5;241m.\u001b[39m_save_count:]\n\u001b[0;32m   1765\u001b[0m \u001b[38;5;66;03m# Call the func with framedata and args. If blitting is desired,\u001b[39;00m\n\u001b[0;32m   1766\u001b[0m \u001b[38;5;66;03m# func needs to return a sequence of any artists that were modified.\u001b[39;00m\n\u001b[1;32m-> 1767\u001b[0m \u001b[38;5;28mself\u001b[39m\u001b[38;5;241m.\u001b[39m_drawn_artists \u001b[38;5;241m=\u001b[39m \u001b[38;5;28mself\u001b[39m\u001b[38;5;241m.\u001b[39m_func(framedata, \u001b[38;5;241m*\u001b[39m\u001b[38;5;28mself\u001b[39m\u001b[38;5;241m.\u001b[39m_args)\n\u001b[0;32m   1769\u001b[0m \u001b[38;5;28;01mif\u001b[39;00m \u001b[38;5;28mself\u001b[39m\u001b[38;5;241m.\u001b[39m_blit:\n\u001b[0;32m   1771\u001b[0m     err \u001b[38;5;241m=\u001b[39m \u001b[38;5;167;01mRuntimeError\u001b[39;00m(\u001b[38;5;124m'\u001b[39m\u001b[38;5;124mThe animation function must return a sequence \u001b[39m\u001b[38;5;124m'\u001b[39m\n\u001b[0;32m   1772\u001b[0m                        \u001b[38;5;124m'\u001b[39m\u001b[38;5;124mof Artist objects.\u001b[39m\u001b[38;5;124m'\u001b[39m)\n",
      "Cell \u001b[1;32mIn[46], line 10\u001b[0m, in \u001b[0;36manimate\u001b[1;34m(month)\u001b[0m\n\u001b[0;32m      8\u001b[0m plt\u001b[38;5;241m.\u001b[39mclf()\n\u001b[0;32m      9\u001b[0m \u001b[38;5;66;03m# ds_chirps_nc_2007_mon.precip[i,:,:].plot(cmap='jet', vmax=800)\u001b[39;00m\n\u001b[1;32m---> 10\u001b[0m ds_chirps_nc_2007_mon\u001b[38;5;241m.\u001b[39misel(month\u001b[38;5;241m=\u001b[39mmonth)\u001b[38;5;241m.\u001b[39mplot(cmap\u001b[38;5;241m=\u001b[39m\u001b[38;5;124m'\u001b[39m\u001b[38;5;124mjet\u001b[39m\u001b[38;5;124m'\u001b[39m, vmax\u001b[38;5;241m=\u001b[39m\u001b[38;5;241m800\u001b[39m)\n",
      "File \u001b[1;32m~\\anaconda3\\envs\\rainfall\\Lib\\site-packages\\xarray\\plot\\accessor.py:941\u001b[0m, in \u001b[0;36mDatasetPlotAccessor.__call__\u001b[1;34m(self, *args, **kwargs)\u001b[0m\n\u001b[0;32m    940\u001b[0m \u001b[38;5;28;01mdef\u001b[39;00m \u001b[38;5;21m__call__\u001b[39m(\u001b[38;5;28mself\u001b[39m, \u001b[38;5;241m*\u001b[39margs, \u001b[38;5;241m*\u001b[39m\u001b[38;5;241m*\u001b[39mkwargs) \u001b[38;5;241m-\u001b[39m\u001b[38;5;241m>\u001b[39m NoReturn:\n\u001b[1;32m--> 941\u001b[0m     \u001b[38;5;28;01mraise\u001b[39;00m \u001b[38;5;167;01mValueError\u001b[39;00m(\n\u001b[0;32m    942\u001b[0m         \u001b[38;5;124m\"\u001b[39m\u001b[38;5;124mDataset.plot cannot be called directly. Use \u001b[39m\u001b[38;5;124m\"\u001b[39m\n\u001b[0;32m    943\u001b[0m         \u001b[38;5;124m\"\u001b[39m\u001b[38;5;124man explicit plot method, e.g. ds.plot.scatter(...)\u001b[39m\u001b[38;5;124m\"\u001b[39m\n\u001b[0;32m    944\u001b[0m     )\n",
      "\u001b[1;31mValueError\u001b[0m: Dataset.plot cannot be called directly. Use an explicit plot method, e.g. ds.plot.scatter(...)"
     ]
    },
    {
     "data": {
      "text/plain": [
       "<Figure size 1100x800 with 0 Axes>"
      ]
     },
     "metadata": {},
     "output_type": "display_data"
    }
   ],
   "source": [
    "from matplotlib import animation\n",
    "from IPython.display import HTML\n",
    "\n",
    "levels = range(800)\n",
    "fig, axes = plt.subplots(figsize=[11,8])#ncols=1) #Creating the basis for the plot\n",
    "\n",
    "def animate(month):\n",
    "    plt.clf()\n",
    "    # ds_chirps_nc_2007_mon.precip[i,:,:].plot(cmap='jet', vmax=800)\n",
    "    ds_chirps_nc_2007_mon.isel(month=month).plot(cmap='jet', vmax=800)\n",
    "\n",
    "ani = animation.FuncAnimation(fig, animate, 12, interval=400, blit=False)\n",
    "\n",
    "#ani.save('animation.gif', writer='imagemagick', fps = 2) #Save animation as gif-file\n",
    "HTML(ani.to_jshtml()) #Show the animation in the kernel\n"
   ]
  },
  {
   "cell_type": "code",
   "execution_count": null,
   "id": "7e513b20-c86a-4981-9896-8ead52646972",
   "metadata": {},
   "outputs": [],
   "source": []
  }
 ],
 "metadata": {
  "kernelspec": {
   "display_name": "Python 3 (ipykernel)",
   "language": "python",
   "name": "python3"
  },
  "language_info": {
   "codemirror_mode": {
    "name": "ipython",
    "version": 3
   },
   "file_extension": ".py",
   "mimetype": "text/x-python",
   "name": "python",
   "nbconvert_exporter": "python",
   "pygments_lexer": "ipython3",
   "version": "3.11.3"
  }
 },
 "nbformat": 4,
 "nbformat_minor": 5
}
