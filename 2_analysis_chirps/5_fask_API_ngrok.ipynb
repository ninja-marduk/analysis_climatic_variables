{
 "cells": [
  {
   "cell_type": "code",
   "execution_count": 1,
   "id": "e73d4b1e-e08a-448a-ba71-45079ab02689",
   "metadata": {},
   "outputs": [],
   "source": [
    "%mkdir templates -p"
   ]
  },
  {
   "cell_type": "code",
   "execution_count": 2,
   "id": "517c9794-602d-40a2-95c9-c8e6b60f6440",
   "metadata": {},
   "outputs": [
    {
     "name": "stdout",
     "output_type": "stream",
     "text": [
      "Writing templates/index.html\n"
     ]
    }
   ],
   "source": [
    "%%writefile templates/index.html\n",
    "<html>\n",
    "<head>\n",
    "<style>\n",
    "body{\n",
    "    background-color : lightblue;\n",
    "}\n",
    "</style> </head>\n",
    "<body>\n",
    "<h1> Welcome to Rainfall! </h1>\n",
    "</body>\n",
    "</html>"
   ]
  },
  {
   "cell_type": "code",
   "execution_count": 6,
   "id": "bd06f4d0-a37f-429e-8925-a6a96a94193c",
   "metadata": {},
   "outputs": [],
   "source": [
    "import os\n",
    "import threading\n",
    "from pyngrok import ngrok # conda install -c conda-forge pyngrok or # !pip install pyngrok\n",
    "from flask import Flask, render_template"
   ]
  },
  {
   "cell_type": "code",
   "execution_count": 27,
   "id": "6ca7e366-3d81-4ed8-98cd-de64b78a52d7",
   "metadata": {},
   "outputs": [
    {
     "name": "stdout",
     "output_type": "stream",
     "text": [
      " * ngrok tunnel \"http://0a9b-186-84-89-220.ngrok-free.app\" -> \"http://127.0.0.1:5000\"\n",
      " * Serving Flask app '__main__'\n",
      " * Debug mode: on\n"
     ]
    },
    {
     "name": "stderr",
     "output_type": "stream",
     "text": [
      "'FLASK_ENV' is deprecated and will not be used in Flask 2.3. Use 'FLASK_DEBUG' instead.\n",
      "Address already in use\n",
      "Port 5000 is in use by another program. Either identify and stop that program, or start the server with a different port.\n",
      "127.0.0.1 - - [09/Apr/2023 05:13:54] \"GET / HTTP/1.1\" 200 -\n",
      "t=2023-04-09T21:38:23-0500 lvl=eror msg=\"heartbeat timeout, terminating session\" obj=csess id=955582eb04aa clientid=d7fa943649736a36bfe412fabd4380a5\n",
      "t=2023-04-09T21:38:23-0500 lvl=eror msg=\"session closed, starting reconnect loop\" obj=csess id=c61bc08331cc err=\"session closed\"\n"
     ]
    }
   ],
   "source": [
    "os.environ[\"FLASK_ENV\"] = \"development\"\n",
    "os.environ[\"FLASK_DEBUG\"] = \"True\"\n",
    "app = Flask(__name__)\n",
    "port = 5000\n",
    "ngrok.set_auth_token(\"2OBR0BerH1SXZcSsidaPWwwcXeN_7cyEhHFrjD6LVBDUrME57\")\n",
    "public_url = ngrok.connect(port).public_url\n",
    "print(\" * ngrok tunnel \\\"{}\\\" -> \\\"http://127.0.0.1:{}\\\"\".format(public_url,port))\n",
    "app.config[\"BASE_URL\"] = public_url\n",
    "\n",
    "@app.route(\"/\")\n",
    "def index():\n",
    "    return render_template('index.html')\n",
    "threading.Thread(target=app.run, kwargs={\"use_reloader\":False}).start()"
   ]
  },
  {
   "cell_type": "code",
   "execution_count": null,
   "id": "6a0addde-792e-4b7e-a15f-7925fa44e1d0",
   "metadata": {},
   "outputs": [],
   "source": [
    "# add header in client: ngrok-skip-browser-warning = 1"
   ]
  }
 ],
 "metadata": {
  "kernelspec": {
   "display_name": "Python 3 (ipykernel)",
   "language": "python",
   "name": "python3"
  },
  "language_info": {
   "codemirror_mode": {
    "name": "ipython",
    "version": 3
   },
   "file_extension": ".py",
   "mimetype": "text/x-python",
   "name": "python",
   "nbconvert_exporter": "python",
   "pygments_lexer": "ipython3",
   "version": "3.9.16"
  }
 },
 "nbformat": 4,
 "nbformat_minor": 5
}
