{
 "cells": [
  {
   "cell_type": "code",
   "execution_count": 15,
   "id": "a2ff4675-53d4-4734-a5da-0a266694cc17",
   "metadata": {},
   "outputs": [],
   "source": [
    "import flask\n",
    "import io\n",
    "import string\n",
    "import time\n",
    "import os\n",
    "import numpy as np\n",
    "import tensorflow as tf\n",
    "from PIL import Image\n",
    "from flask import Flask, jsonify, request "
   ]
  },
  {
   "cell_type": "code",
   "execution_count": 16,
   "id": "82da544b-5337-4de3-877f-a8c08a3e67ba",
   "metadata": {},
   "outputs": [],
   "source": [
    "base_model = tf.keras.applications.MobileNetV2(input_shape = (224, 224, 3), include_top = False, weights = \"imagenet\")"
   ]
  },
  {
   "cell_type": "code",
   "execution_count": 17,
   "id": "8d8b26a7-d666-427a-b044-95e549a0b02a",
   "metadata": {},
   "outputs": [],
   "source": [
    "# model = tf.keras.models.load_model('<INSERT YOUR SAVEDMODEL FILE PATH HERE>')\n",
    "model = base_model"
   ]
  },
  {
   "cell_type": "code",
   "execution_count": 28,
   "id": "fc8a4649-343b-4251-93ef-9ba935bd215d",
   "metadata": {},
   "outputs": [],
   "source": [
    "def prepare_image(img):\n",
    "    img = Image.open(io.BytesIO(img))\n",
    "    img = img.resize((224, 224))\n",
    "    img = np.array(img)\n",
    "    img = np.expand_dims(img, 0)\n",
    "    return img\n",
    "\n",
    "\n",
    "def predict_result(img):\n",
    "    return 1 if (model.predict(img)[0][0]).any() > 0.5 else 0"
   ]
  },
  {
   "cell_type": "code",
   "execution_count": 29,
   "id": "230be083-e5e6-4cce-bfbe-9ef398cbb9ac",
   "metadata": {},
   "outputs": [],
   "source": [
    "app = Flask(__name__)"
   ]
  },
  {
   "cell_type": "code",
   "execution_count": 30,
   "id": "19f401bf-e4d8-4824-b374-d62e7496048d",
   "metadata": {},
   "outputs": [],
   "source": [
    "@app.route('/predict', methods=['POST'])\n",
    "def infer_image():\n",
    "    # Catch the image file from a POST request\n",
    "    if 'file' not in request.files:\n",
    "        return \"Please try again. The Image doesn't exist\"\n",
    "    \n",
    "    file = request.files.get('file')\n",
    "\n",
    "    if not file:\n",
    "        return\n",
    "\n",
    "    # Read the image\n",
    "    img_bytes = file.read()\n",
    "\n",
    "    # Prepare the image\n",
    "    img = prepare_image(img_bytes)\n",
    "\n",
    "    # Return on a JSON format\n",
    "    return jsonify(prediction=predict_result(img))\n",
    "    \n",
    "\n",
    "@app.route('/', methods=['GET'])\n",
    "def index():\n",
    "    return 'Machine Learning Inference'"
   ]
  },
  {
   "cell_type": "code",
   "execution_count": null,
   "id": "6973aaa2-df0f-4308-9064-3a908885c965",
   "metadata": {},
   "outputs": [
    {
     "name": "stdout",
     "output_type": "stream",
     "text": [
      " * Serving Flask app '__main__'\n",
      " * Debug mode: on\n"
     ]
    },
    {
     "name": "stderr",
     "output_type": "stream",
     "text": [
      "\u001b[31m\u001b[1mWARNING: This is a development server. Do not use it in a production deployment. Use a production WSGI server instead.\u001b[0m\n",
      " * Running on all addresses (0.0.0.0)\n",
      " * Running on http://127.0.0.1:8081\n",
      " * Running on http://192.168.0.104:8081\n",
      "\u001b[33mPress CTRL+C to quit\u001b[0m\n",
      "127.0.0.1 - - [09/Apr/2023 04:07:22] \"POST /predict HTTP/1.1\" 200 -\n"
     ]
    }
   ],
   "source": [
    "if __name__ == '__main__':\n",
    "    app.run(debug=True, host='0.0.0.0', use_reloader=False, port = 8081)"
   ]
  }
 ],
 "metadata": {
  "kernelspec": {
   "display_name": "Python 3 (ipykernel)",
   "language": "python",
   "name": "python3"
  },
  "language_info": {
   "codemirror_mode": {
    "name": "ipython",
    "version": 3
   },
   "file_extension": ".py",
   "mimetype": "text/x-python",
   "name": "python",
   "nbconvert_exporter": "python",
   "pygments_lexer": "ipython3",
   "version": "3.9.16"
  }
 },
 "nbformat": 4,
 "nbformat_minor": 5
}
